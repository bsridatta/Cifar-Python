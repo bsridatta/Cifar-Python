{
 "cells": [
  {
   "cell_type": "markdown",
   "metadata": {},
   "source": [
    "## DD2424 deep19 VT19-1 Deep Learning in Data Science - Assignment 4\n",
    "\n",
    "### Table of Content\n",
    "\n",
    "\n",
    "\n",
    "[Exercise 1 - 0.1](#0.1) -  Read in the data   \n",
    "[Exercise 1 - 0.2](#0.2) -  Set hyper-parameters & initialize the RNN’s parameters   \n",
    "[Exercise 1 - 0.3](#0.3) -  Synthesize text from your randomly initialized RNN   \n",
    "[Exercise 1 - 0.4](#0.4) -  Implement the [forward](#0.4) with [loss](#loss) & [backward pass](#back) of the back-prop    \n",
    "[Exercise 1 - 0.4 - b](#check) - Check correctness with [numerical gradient](#num)  \n",
    "[Exercise 1 - 0.5](#0.5) - Train your RNN using AdaGrad   \n",
    "[Training output and Loss Graph!](#output)  \n",
    "[Best model writes !!!](#best)  "
   ]
  },
  {
   "cell_type": "markdown",
   "metadata": {},
   "source": [
    "### Report\n",
    "1. Computed Numerical Gradient and Analytical gradient and check [error](#check) <10^-7\n",
    "2. Training [Graph](#output) with smoothed loss and loss for +2 epochs  \n",
    "3. Evolution of generated [text](#evolution) sampling every 10,000 for first 100,000 steps of training. \n",
    "4. [Passage](#best) of length 1000 characters synthesized from your best model \n",
    "            Loss - 25.548408663992184\n",
    "            Smoothed Loss - 46.77587470482475\n",
    "            Iteration - 126000 \n",
    "   Interesting words relatable to Harry Potter that the best model generated (from over 1000's of trails)- \n",
    "            \n",
    "            harry peter (Close)\n",
    "            harry  (Very often)\n",
    "            hermione (Yes!)\n",
    "            lord  (You-Know-Who)\n",
    "            magic\n",
    "            death     \n",
    "            crooked "
   ]
  },
  {
   "cell_type": "code",
   "execution_count": 2,
   "metadata": {},
   "outputs": [],
   "source": [
    "import numpy as np\n",
    "import math\n",
    "from PIL import Image as Img\n",
    "import pickle\n",
    "from scipy import misc\n",
    "\n",
    "import sys\n",
    "import os.path\n",
    "\n",
    "import matplotlib.pyplot as plt\n",
    "import seaborn as sns\n",
    "from tqdm import tqdm_notebook as tqdm\n",
    "import pprint\n",
    "from ipywidgets import *\n",
    "from IPython.display import Image\n",
    "\n",
    "%matplotlib inline\n",
    "plt.rcParams['figure.figsize'] = (5.0, 4.0) # set default size of plots\n",
    "plt.rcParams['image.interpolation'] = 'nearest'\n",
    "plt.rcParams['image.cmap'] = 'gray'\n",
    "\n",
    "%load_ext autoreload\n",
    "%autoreload 2\n",
    "\n",
    "np.random.seed(400)"
   ]
  },
  {
   "cell_type": "markdown",
   "metadata": {},
   "source": [
    "#### Exercise 1  0. 1\n",
    "<a id='0.1'></a>\n",
    "### Read in the data  "
   ]
  },
  {
   "cell_type": "code",
   "execution_count": 3,
   "metadata": {},
   "outputs": [
    {
     "name": "stdout",
     "output_type": "stream",
     "text": [
      "There are 1107542 total characters and 54 unique characters in the data.\n"
     ]
    }
   ],
   "source": [
    "book_data = open('goblet_book.txt', 'r').read()\n",
    "book_data = book_data.lower()\n",
    "book_chars = list(set(book_data))\n",
    "data_size, vocab_size = len(book_data), len(book_chars)\n",
    "K = vocab_size\n",
    "print('There are %d total characters and %d unique characters in the data.' % (data_size, vocab_size))"
   ]
  },
  {
   "cell_type": "code",
   "execution_count": 4,
   "metadata": {},
   "outputs": [
    {
     "name": "stdout",
     "output_type": "stream",
     "text": [
      "{0: '\\t', 1: '\\n', 2: ' ', 3: '!', 4: '\"', 5: \"'\", 6: '(', 7: ')', 8: ',', 9: '-', 10: '.', 11: '/', 12: '0', 13: '1', 14: '2', 15: '3', 16: '4', 17: '6', 18: '7', 19: '9', 20: ':', 21: ';', 22: '?', 23: '^', 24: '_', 25: 'a', 26: 'b', 27: 'c', 28: 'd', 29: 'e', 30: 'f', 31: 'g', 32: 'h', 33: 'i', 34: 'j', 35: 'k', 36: 'l', 37: 'm', 38: 'n', 39: 'o', 40: 'p', 41: 'q', 42: 'r', 43: 's', 44: 't', 45: 'u', 46: 'v', 47: 'w', 48: 'x', 49: 'y', 50: 'z', 51: '}', 52: 'ü', 53: '•'}\n"
     ]
    }
   ],
   "source": [
    "char_to_ix = { ch:i for i,ch in enumerate(sorted(book_chars)) }\n",
    "ix_to_char = { i:ch for i,ch in enumerate(sorted(book_chars)) }\n",
    "print(ix_to_char)"
   ]
  },
  {
   "cell_type": "markdown",
   "metadata": {},
   "source": [
    "### 0.2 Set hyper-parameters & initialize the RNN’s parameters\n",
    "<a id='0.2' />"
   ]
  },
  {
   "cell_type": "code",
   "execution_count": 5,
   "metadata": {},
   "outputs": [],
   "source": [
    "m = 100 # Hidden states\n",
    "eta = 0.1 #?\n",
    "seq_length = 25\n",
    "sig = 0.01\n",
    "\n",
    "parameters = {}\n",
    "parameters['b'] = np.zeros((m,1))\n",
    "parameters['c'] = np.zeros((K,1))\n",
    "parameters['U'] = np.random.rand(m,K)*sig\n",
    "parameters['W'] = np.random.rand(m,m)*sig\n",
    "parameters['V'] = np.random.rand(K,m)*sig"
   ]
  },
  {
   "cell_type": "markdown",
   "metadata": {},
   "source": [
    "### 0.3 Synthesize text from your randomly initialized RNN\n",
    "<a id='0.3' />"
   ]
  },
  {
   "cell_type": "code",
   "execution_count": 6,
   "metadata": {},
   "outputs": [],
   "source": [
    "def softmax(x):\n",
    "    \"\"\"\n",
    "    Instead of using np.exp(x)/np.sum(np.exp(x))\n",
    "    I decrease the value of x with the max, \n",
    "    it could be any number as it cancels out when equation is expanded\n",
    "    This is to avoid overflow due to exponential increase\n",
    "    \n",
    "    Argumets:\n",
    "    x -- Product W, X\n",
    "    \n",
    "    Returns:\n",
    "    soft -- softmax(W,X)\n",
    "    \"\"\"\n",
    "    e_x = np.exp(x - np.max(x, axis = 0))\n",
    "    soft = e_x / np.sum(e_x, axis = 0)\n",
    "    return soft"
   ]
  },
  {
   "cell_type": "code",
   "execution_count": 7,
   "metadata": {},
   "outputs": [],
   "source": [
    "def synthesize_seq(h0, x0, n, parameters):\n",
    "    \"\"\"\n",
    "    synthesize a sequence of characters \n",
    "\n",
    "    Arguments:\n",
    "    h0 -- the hidden state at time 0\n",
    "    x0 -- the first (dummy) input vector  (as one-hot)\n",
    "    n --  the length of the sequence you want to generate\n",
    "    parameters -- RNN parameters weights, bias and stuff\n",
    "    \n",
    "    Returns:\n",
    "    Synthesized sequence\n",
    "    \"\"\" \n",
    "    \n",
    "    synthesized_seq = [] #output\n",
    "    ht = h0 # First state \n",
    "    xt = x0 # First one-hot input of the seq \n",
    "    \n",
    "    for i in range(n):\n",
    "        # 1. from x get discrete probability distribution of labels\n",
    "        at = parameters['W'].dot(ht) + parameters['U'].dot(xt) + parameters['b']\n",
    "        ht = np.tanh(at)\n",
    "        ot = parameters['V'].dot(ht) + parameters['c']\n",
    "        pt = softmax(ot)\n",
    "        # 2. Pick one out of them as next input\n",
    "        char_ix = np.random.choice(list(range(K)), p = pt.ravel())\n",
    "        synthesized_seq.append(char_ix)\n",
    "        xt = np.zeros((K, 1)) # one-hot\n",
    "        xt[char_ix] = 1  #xnext from current \n",
    "\n",
    "    return synthesized_seq"
   ]
  },
  {
   "cell_type": "code",
   "execution_count": 8,
   "metadata": {},
   "outputs": [],
   "source": [
    "def to_one_hot(chars, book_chars):\n",
    "    '''\n",
    "    Convert string to idx and then to one-hot representation\n",
    "    \n",
    "    Arguments:\n",
    "    chars -- string of characters\n",
    "    book_chars -- list of all chars in the whole dataset\n",
    "    \n",
    "    Returns:\n",
    "    hot_chars -- one hot reps of the chars \n",
    "    '''\n",
    "    # One char -> 1 coloum of one-hot of size len(unique chars) i.e K\n",
    "    hot_chars = np.zeros((K, len(chars))) \n",
    "    char_to_ix = { ch:i for i,ch in enumerate(sorted(book_chars)) }\n",
    "    \n",
    "    for i, char in enumerate(chars):\n",
    "        ix = char_to_ix[char]\n",
    "        hot_chars[ix,i] = 1\n",
    "    return hot_chars\n",
    "\n",
    "def to_string(ixs, book_chars):\n",
    "    '''\n",
    "    Convert ixs to string representation\n",
    "    \n",
    "    Arguments:\n",
    "    ixs -- index of each char\n",
    "    book_chars -- list of all chars in the whole dataset\n",
    "    \n",
    "    Returns:\n",
    "    string_seq  \n",
    "    '''\n",
    "    # One char -> 1 coloum of one-hot of size len(unique chars) i.e K\n",
    "    ix_to_char = { i:ch for i,ch in enumerate(sorted(book_chars)) }\n",
    "    chars = []\n",
    "    for ix in ixs:\n",
    "        char = ix_to_char[ix]\n",
    "        chars.append(char)\n",
    "    string_seq = \"\".join(chars)\n",
    "    \n",
    "    return string_seq"
   ]
  },
  {
   "cell_type": "code",
   "execution_count": 9,
   "metadata": {},
   "outputs": [],
   "source": [
    "X_chars = book_data[:seq_length]\n",
    "Y_chars = book_data[1:seq_length + 1]\n",
    "X = to_one_hot(X_chars, book_chars)\n",
    "Y = to_one_hot(Y_chars, book_chars)\n",
    "\n",
    "h0 = np.zeros((m, 1))"
   ]
  },
  {
   "cell_type": "code",
   "execution_count": 11,
   "metadata": {
    "scrolled": true
   },
   "outputs": [
    {
     "data": {
      "text/plain": [
       "\"tp1s•,17'}3}bmtl6w:)mr.^}\""
      ]
     },
     "execution_count": 11,
     "metadata": {},
     "output_type": "execute_result"
    }
   ],
   "source": [
    "string_seq = to_string(synthesize_seq(h0, X[:,0].reshape(-1,1), 25, parameters), book_chars)\n",
    "string_seq"
   ]
  },
  {
   "cell_type": "markdown",
   "metadata": {},
   "source": [
    "### 0.4 Implement the forward & backward pass of back-prop\n",
    "<a id='0.4' />"
   ]
  },
  {
   "cell_type": "code",
   "execution_count": 12,
   "metadata": {},
   "outputs": [],
   "source": [
    "def forward_pass(h0, X, parameters):\n",
    "    '''\n",
    "    the forward-pass of the back-prop algorithm\n",
    "    \n",
    "    Arguments:\n",
    "    h0 -- Initial hidden state\n",
    "    X -- Input / labelled sequence \n",
    "    \n",
    "    Returns:\n",
    "    cache -- final and intermediary output vectors at each time step needed by the backward-pass of the algorithm \n",
    "    '''\n",
    "    seq_len = X.shape[1]\n",
    "    cache = {}\n",
    "    cache['A'] = np.zeros((m, seq_len)) # a0 to at\n",
    "    cache['H'] = np.zeros((m, seq_len)) # h0 to ht \n",
    "    cache['O'] = np.zeros((X.shape[0], seq_len))\n",
    "    cache['P'] = np.zeros((X.shape[0], seq_len))\n",
    "    h_t = h0\n",
    "    \n",
    "    for i in range(seq_len):\n",
    "        cache['A'][:,i] = (parameters['W'].dot(h_t) + parameters['U'].dot(X[:,i].reshape(-1, 1)) + parameters['b']).flatten()\n",
    "        h_t = np.tanh(cache['A'][:,i]).reshape(-1, 1)\n",
    "        cache['H'][:,i] = h_t.flatten()\n",
    "        cache['O'][:,i] = parameters['V'].dot(h_t).flatten() + parameters['c'].flatten()\n",
    "        cache['P'][:,i] = softmax(cache['O'][:,i].reshape(-1, 1))[:,0]\n",
    "    cache['H'] = np.concatenate((h0, cache['H']), axis = 1)\n",
    "    return cache"
   ]
  },
  {
   "cell_type": "code",
   "execution_count": 11,
   "metadata": {},
   "outputs": [
    {
     "name": "stdout",
     "output_type": "stream",
     "text": [
      "[0.0001101  0.00017123 0.00024448 ... 0.01520924 0.0152407  0.01552264]\n"
     ]
    }
   ],
   "source": [
    "cache = forward_pass(h0, X, parameters)\n",
    "print (np.unique(cache['A']))    #just to check if its not null"
   ]
  },
  {
   "cell_type": "markdown",
   "metadata": {},
   "source": [
    "### Computing Loss\n",
    "<a id='loss' />"
   ]
  },
  {
   "cell_type": "code",
   "execution_count": 13,
   "metadata": {},
   "outputs": [],
   "source": [
    "def ComputeCost_CrossEntropy(h0, X, Y, parameters):\n",
    "    \"\"\"\n",
    "    Loss of current state of prediction w.r.t the ground truth\n",
    "    \n",
    "    Arguments:\n",
    "    h0 -- initial hidden state\n",
    "    X -- Input\n",
    "    Y -- Ground truth\n",
    "    parameters -- Weights \n",
    "\n",
    "    Returns:\n",
    "    cost -- sum of crossentropy loss\n",
    "    \"\"\"\n",
    "    #     P = np.reshape(P, (K, -1))\n",
    "#     ground_truth = np.reshape(Y, (K, -1))\n",
    "    P = forward_pass(h0, X, parameters)['P']\n",
    "    \n",
    "    product = np.multiply(Y, P).sum(axis = 0)\n",
    "    \n",
    "    #cross entropy loss - Handling -log0 tending to infinity\n",
    "    product[product == 0] = np.finfo(float).eps    #very low value\n",
    "    crossEntropyLoss = np.sum(-np.log(product)) #.sum() / N # or mean \n",
    "\n",
    "    \n",
    "#     L2_regularization_cost = lambd * (np.power(parameters[\"W1\"], 2).sum()+ \\\n",
    "#                                       np.power(parameters[\"W2\"], 2).sum())\n",
    "    \n",
    "    cost = crossEntropyLoss #+ L2_regularization_cost\n",
    "    return  cost"
   ]
  },
  {
   "cell_type": "markdown",
   "metadata": {},
   "source": [
    "### Backward Pass\n",
    "<a id='back' />"
   ]
  },
  {
   "cell_type": "code",
   "execution_count": 14,
   "metadata": {},
   "outputs": [],
   "source": [
    "def backward_pass(X, Y, cache, parameters, clipping = True, clip_max = 5):\n",
    "    '''\n",
    "    the backward-pass of the back-prop algorithm\n",
    "    \n",
    "    Arguments:\n",
    "    X -- Input / labelled sequence \n",
    "    Y -- Ground truth of the output seq\n",
    "    cache -- Activation, hidden states, observation, probabilistic distribution of output\n",
    "    \n",
    "    Returns:\n",
    "    grad -- Gradients \n",
    "    '''\n",
    "    grad = {}\n",
    "    \n",
    "    for param in parameters.keys():\n",
    "        grad[param] = np.zeros_like(parameters[param])\n",
    "    _grad = {} # internal gradients H and A which are used to calculate grad W   \n",
    "    _grad['A'] = np.zeros((m, seq_length)) # also grad_a and grad_h\n",
    "\n",
    "    T = Y.shape[1]\n",
    "\n",
    "    for t in reversed(range(T)):\n",
    "        g = cache['P'][:,t] - Y[:,t] # Derivative with respect to o\n",
    "\n",
    "        # Update gradients\n",
    "        grad['c'][:, 0] += g\n",
    "        grad['V'] += np.outer(g, cache['H'][:,t + 1])\n",
    "\n",
    "        if not (t == T - 1):\n",
    "            grad_h = g.dot(parameters['V']) + grad_a.dot(parameters['W'])\n",
    "        else:\n",
    "            grad_h = g.dot(parameters['V']) \n",
    "        grad_a = grad_h.dot(np.diag(1 - np.tanh(cache['A'][:, t]) ** 2))\n",
    "\n",
    "        _grad['A'][:, t] = grad_a\n",
    "        grad['U'] += np.outer(grad_a, X[:,t])\n",
    "        grad['b'][:,0] += grad_a\n",
    "\n",
    "    for t in range(seq_length):\n",
    "        grad['W'] += np.dot(_grad['A'][:, t].reshape(-1, 1), cache['H'][:, t].reshape(1, -1))\n",
    "\n",
    "    if clipping is True:\n",
    "        for gradient in grad.keys():\n",
    "            np.clip(grad[gradient], -clip_max, clip_max, out=grad[gradient])\n",
    "\n",
    "    return grad"
   ]
  },
  {
   "cell_type": "code",
   "execution_count": 14,
   "metadata": {},
   "outputs": [
    {
     "name": "stdout",
     "output_type": "stream",
     "text": [
      "[-0.00053904 -0.00053724 -0.00052913 ...  0.00064895  0.00067082\n",
      "  0.00072473]\n"
     ]
    }
   ],
   "source": [
    "grad = backward_pass(X, Y, cache, parameters, clipping = True, clip_max = 5)\n",
    "print (np.unique(grad['W']))    #just to check if its not null"
   ]
  },
  {
   "cell_type": "markdown",
   "metadata": {},
   "source": [
    "### Numerical Gradient\n",
    "<a id='num' />\n"
   ]
  },
  {
   "cell_type": "code",
   "execution_count": 15,
   "metadata": {},
   "outputs": [],
   "source": [
    "def compute_grads_num(X, Y, h0, parameters):\n",
    "    \"\"\"\n",
    "    Numerical gradient descent using finite difference method. \n",
    "    \n",
    "    Arguments:\n",
    "    X -- Input dataset\n",
    "    Y -- Corresponding Ground Truth\n",
    "    parameters:\n",
    "        W, U, V -- Current Weights\n",
    "        b, c -- current bias\n",
    "\n",
    "    Returns:\n",
    "    grad -- for all weights and bias\n",
    "        grad['W']... -- Numerical Gradient of W \n",
    "        grad['b'] -- Numerical Gradient of b\n",
    "    \"\"\"\n",
    "    \n",
    "    grad = {}\n",
    "    \n",
    "    for param in parameters.keys():\n",
    "        grad[param] = np.zeros_like(parameters[param])\n",
    "        \n",
    "    h = 1e-4    #very small number by which you want to vary the params\n",
    "    \n",
    "    for param in parameters:\n",
    "        if param in ['W','U', 'V']:\n",
    "            for i in tqdm(range(parameters[param].shape[0]), desc = param):\n",
    "                for j in range(parameters[param].shape[1]):\n",
    "                    parameters[param][i, j] -= h    #change the weights and see if the cost reduces!\n",
    "                    c1 = ComputeCost_CrossEntropy(h0, X, Y, parameters)\n",
    "                    parameters[param][i,j] += 2 * h\n",
    "                    c2 = ComputeCost_CrossEntropy(h0, X, Y, parameters)\n",
    "                    parameters[param][i, j] -= h    \n",
    "                    grad[param][i, j] = (c2-c1) / (2 * h) #if cost decreases, value negative,\n",
    "                                               #hence add this grad to W, ViceVersa\n",
    "        else:\n",
    "            for i in tqdm(range(parameters[param].shape[0]), desc = param):\n",
    "                parameters[param][i] -= h    #change the weights and see if the cost reduces!\n",
    "                c1 = ComputeCost_CrossEntropy(h0, X, Y, parameters)\n",
    "                parameters[param][i] += 2 * h\n",
    "                c2 = ComputeCost_CrossEntropy(h0, X, Y, parameters)\n",
    "                parameters[param][i] -= h    \n",
    "                grad[param][i] = (c2-c1) / (2 * h) #if cost decreases, value negative,\n",
    "\n",
    "    return grad"
   ]
  },
  {
   "cell_type": "code",
   "execution_count": 16,
   "metadata": {
    "scrolled": true
   },
   "outputs": [
    {
     "data": {
      "application/vnd.jupyter.widget-view+json": {
       "model_id": "6f3ea70ca3d74d068fdabb3c44e86293",
       "version_major": 2,
       "version_minor": 0
      },
      "text/plain": [
       "HBox(children=(IntProgress(value=0, description='W', style=ProgressStyle(description_width='initial')), HTML(v…"
      ]
     },
     "metadata": {},
     "output_type": "display_data"
    },
    {
     "name": "stdout",
     "output_type": "stream",
     "text": [
      "\n"
     ]
    },
    {
     "data": {
      "application/vnd.jupyter.widget-view+json": {
       "model_id": "5e7f35231d374468b73c87ed94f19f7c",
       "version_major": 2,
       "version_minor": 0
      },
      "text/plain": [
       "HBox(children=(IntProgress(value=0, description='V', max=54, style=ProgressStyle(description_width='initial'))…"
      ]
     },
     "metadata": {},
     "output_type": "display_data"
    },
    {
     "name": "stdout",
     "output_type": "stream",
     "text": [
      "\n"
     ]
    },
    {
     "data": {
      "application/vnd.jupyter.widget-view+json": {
       "model_id": "e60fccad1e4d416fb47c311af569ee23",
       "version_major": 2,
       "version_minor": 0
      },
      "text/plain": [
       "HBox(children=(IntProgress(value=0, description='b', style=ProgressStyle(description_width='initial')), HTML(v…"
      ]
     },
     "metadata": {},
     "output_type": "display_data"
    },
    {
     "name": "stdout",
     "output_type": "stream",
     "text": [
      "\n"
     ]
    },
    {
     "data": {
      "application/vnd.jupyter.widget-view+json": {
       "model_id": "76360cbd44cd41adb27945bba90e458b",
       "version_major": 2,
       "version_minor": 0
      },
      "text/plain": [
       "HBox(children=(IntProgress(value=0, description='c', max=54, style=ProgressStyle(description_width='initial'))…"
      ]
     },
     "metadata": {},
     "output_type": "display_data"
    },
    {
     "name": "stdout",
     "output_type": "stream",
     "text": [
      "\n"
     ]
    },
    {
     "data": {
      "application/vnd.jupyter.widget-view+json": {
       "model_id": "41f4993358ed4f18848f052394614a44",
       "version_major": 2,
       "version_minor": 0
      },
      "text/plain": [
       "HBox(children=(IntProgress(value=0, description='U', style=ProgressStyle(description_width='initial')), HTML(v…"
      ]
     },
     "metadata": {},
     "output_type": "display_data"
    },
    {
     "name": "stdout",
     "output_type": "stream",
     "text": [
      "\n"
     ]
    }
   ],
   "source": [
    "gradNum = compute_grads_num(X, Y, h0, parameters)"
   ]
  },
  {
   "cell_type": "code",
   "execution_count": 17,
   "metadata": {},
   "outputs": [],
   "source": [
    "def gradient_check(grad, gradNum, epsilon):\n",
    "    \"\"\"\n",
    "    Calculating realtive error between analytically and numerically computed gradient\n",
    "    and checking if they are small. (smaller than epsilon)\n",
    "    \n",
    "    Order of the gradients does not matter\n",
    "    \n",
    "    Arguments:\n",
    "    grad -- Analytical gradient\n",
    "    gradNum -- Numerical gradient\n",
    "    epsilon -- very small value by which gradNum and gradAnly could differ\n",
    "    \n",
    "    Returns:\n",
    "    None -- Prints relative error of gradAnly and gradNum\n",
    "    \"\"\"\n",
    "    for param in parameters:\n",
    "        #Weights\n",
    "        grad1 = grad[param]\n",
    "        grad2 = gradNum[param]\n",
    "        difference = np.linalg.norm(grad1 - grad2)  #Could simply use np.abs(grad1 - grad2).sum()      \n",
    "        summation = np.linalg.norm(grad1) + np.linalg.norm(grad2)  #varitaion - 2.0988034043225143e-08 only\n",
    "        denominator = max(epsilon, summation)    #to avoid division by 0\n",
    "        relative_error = difference / denominator                                                     \n",
    "\n",
    "        if relative_error < 1e-6:\n",
    "            print(u'\\u2714  ' + \"The gradient for \" + param +\" is correct! \" + \n",
    "                  str(relative_error))\n",
    "        else:\n",
    "            print(\"Relative_error for \" + param + \" :\" + str(relative_error))\n",
    "            print(u'\\u2718  ' + \"The gradient is wrong!\")\n"
   ]
  },
  {
   "cell_type": "markdown",
   "metadata": {},
   "source": [
    "<a id='check' />"
   ]
  },
  {
   "cell_type": "code",
   "execution_count": 111,
   "metadata": {
    "scrolled": true
   },
   "outputs": [
    {
     "name": "stdout",
     "output_type": "stream",
     "text": [
      "✔  The gradient for b is correct! 2.0531720652715897e-09\n",
      "✔  The gradient for c is correct! 3.9356187798901504e-10\n",
      "✔  The gradient for U is correct! 6.579877163699171e-09\n",
      "✔  The gradient for V is correct! 2.9858111136044654e-09\n",
      "✔  The gradient for W is correct! 1.3578320328523312e-07\n"
     ]
    }
   ],
   "source": [
    "gradient_check(grad, gradNum, 1e-6)   #check all gradients"
   ]
  },
  {
   "cell_type": "markdown",
   "metadata": {},
   "source": [
    "### 0.5 Train your RNN using AdaGrad\n",
    "<a id='0.5' />"
   ]
  },
  {
   "cell_type": "code",
   "execution_count": 20,
   "metadata": {},
   "outputs": [],
   "source": [
    "def train(X, Y, h0, parameters, epochs=2):\n",
    "    \"\"\"\n",
    "    Perform training with adagrad!!!\n",
    "    \n",
    "    Arguments:\n",
    "    X,Y -- One-hot rep of whole training data\n",
    "    h0 -- initial hidden state (zero vector)\n",
    "    parameters -- Weights\n",
    "    epochs --  number of epochs to train ¯\\_(ツ)_/¯\n",
    "    \"\"\"\n",
    "    #Set up the canvas to do live plotting of the training info\n",
    "    log = {\n",
    "        \"smooth loss\": [],\n",
    "        \"loss\": [],\n",
    "        \"least loss\": np.infty,\n",
    "        \"best h\": None,\n",
    "        \"best parameters\": {}\n",
    "    }  #using terms cost and loss interchangably\n",
    "\n",
    "    fig = plt.figure(figsize=(6, 3))  #must include %matplotlib notebook\n",
    "    Loss = fig.add_subplot(111)\n",
    "\n",
    "    #plt.ion() #iteractive mode on\n",
    "    plt.subplot(111).set_title(\"Smooth Loss\")\n",
    "    plt.xlabel('steps', axes=Loss)\n",
    "    plt.ylabel('Loss', axes=Loss)\n",
    "    fig.show()\n",
    "    fig.canvas.draw()\n",
    "\n",
    "    total_len = X.shape[1]\n",
    "\n",
    "    adaGrad = {}\n",
    "    for param in parameters:\n",
    "        adaGrad[param] = np.zeros_like(parameters[param])\n",
    "\n",
    "    smooth_loss = ComputeCost_CrossEntropy(h0, X[:, :seq_length],\n",
    "                                           Y[:, :seq_length], parameters)\n",
    "\n",
    "    step = 0\n",
    "    for i in tqdm(range(epochs)):  #progress bar\n",
    "        e = 0\n",
    "        hprev = np.copy(h0)  # as e=0\n",
    "\n",
    "        while e + seq_length <= total_len - 1:  # as long as there is input\n",
    "\n",
    "            X_batch = X[:, e:e + seq_length]\n",
    "            Y_batch = Y[:, e:e + seq_length]\n",
    "\n",
    "            # back-prop\n",
    "            cache = forward_pass(hprev, X_batch, parameters)\n",
    "            grad = backward_pass(X_batch,\n",
    "                                 Y_batch,\n",
    "                                 cache,\n",
    "                                 parameters,\n",
    "                                 clipping=True,\n",
    "                                 clip_max=5)\n",
    "\n",
    "            # adaGrad parameter update\n",
    "            for param in parameters:\n",
    "                # Step 6\n",
    "                # mθ,t` = mθ,t`−1 + g2t`\n",
    "                adaGrad[param] += np.power(grad[param], 2)\n",
    "                # Step 7\n",
    "                #θt`+1 = θt` − (η/√mθ,t` + epsilon) gt`\n",
    "                parameters[param] += -(eta * grad[param]) / np.sqrt(\n",
    "                    adaGrad[param] + epsilon)\n",
    "\n",
    "            # Smoothed loss\n",
    "            loss = ComputeCost_CrossEntropy(hprev, X_batch, Y_batch,\n",
    "                                            parameters)\n",
    "            smooth_loss = .999 * smooth_loss + .001 * loss\n",
    "            \n",
    "            if step > 100:\n",
    "                log[\"smooth loss\"].append(smooth_loss)\n",
    "                log[\"loss\"].append(loss)\n",
    "            \n",
    "            if (loss < log['least loss']):\n",
    "                log['least loss'] = loss\n",
    "                log['best h'] = hprev\n",
    "                log['best parameters'] = parameters\n",
    "                np.save(\"train_log.npy\", log)\n",
    "                # Save Model!!!!\n",
    "            # e>1 hprev the last computed hidden state by the forward pass in the previous iteration\n",
    "            hprev = cache['H'][:, -1].reshape(-1, 1)\n",
    "\n",
    "            # Shift the cursor!\n",
    "            e += seq_length\n",
    "            step += 1\n",
    "\n",
    "            if step % 100 == 0:\n",
    "                #display the log\n",
    "                Loss.plot(log[\"loss\"], 'm', label=\"training\")\n",
    "                Loss.plot(log[\"smooth loss\"], 'c', label=\"training\")\n",
    "                if (step == 0):  #cant get it to work anyother way\n",
    "                    Loss.legend()\n",
    "                    Accuracy.legend()\n",
    "                fig.canvas.draw()  # draw\n",
    "\n",
    "            if step % 500 == 0:\n",
    "                seq = to_string(\n",
    "                    synthesize_seq(hprev, X_batch[:, 0].reshape(-1, 1), 200,\n",
    "                                   parameters), book_chars)\n",
    "                print(\"Step : \", step, \"Smooth loss :\",smooth_loss, '\\n', seq)\n",
    "                print('\\n')\n",
    "\n",
    "            if step % 10000 == 0:\n",
    "                with open('syntesized.txt', 'a+') as f:\n",
    "                    print(\"Step: \", step, file=f)\n",
    "                    print(\"Smooth Loss: \", smooth_loss, file=f)\n",
    "\n",
    "                    seq = to_string(\n",
    "                        synthesize_seq(hprev, X_batch[:, 0].reshape(-1, 1),\n",
    "                                       200, parameters), book_chars)\n",
    "                    print(seq, file=f)\n",
    "                    print(\"\\n\", file=f)\n",
    "            \n",
    "    return log"
   ]
  },
  {
   "cell_type": "code",
   "execution_count": 21,
   "metadata": {
    "scrolled": true
   },
   "outputs": [],
   "source": [
    "%matplotlib notebook\n",
    "\n",
    "X_chars = book_data[:len(book_data)-2]\n",
    "Y_chars = book_data[1:len(book_data)-1]\n",
    "X = to_one_hot(X_chars, book_chars)\n",
    "Y = to_one_hot(Y_chars, book_chars)\n",
    "h0 = np.zeros((m, 1))\n",
    "\n",
    "book_chars = list(set(book_data))\n",
    "\n",
    "epsilon = 1e-8\n",
    "m = 100 # Hidden states\n",
    "eta = 0.1 #?\n",
    "seq_length = 25\n",
    "sig = 0.01\n",
    "\n",
    "parameters = {}\n",
    "parameters['b'] = np.zeros((m,1))\n",
    "parameters['c'] = np.zeros((K,1))\n",
    "parameters['U'] = np.random.rand(m,K)*sig\n",
    "parameters['W'] = np.random.rand(m,m)*sig\n",
    "parameters['V'] = np.random.rand(K,m)*sig"
   ]
  },
  {
   "cell_type": "markdown",
   "metadata": {},
   "source": [
    "<a id='output' />"
   ]
  },
  {
   "cell_type": "markdown",
   "metadata": {},
   "source": [
    "<a id='output' />"
   ]
  },
  {
   "cell_type": "code",
   "execution_count": 41,
   "metadata": {},
   "outputs": [
    {
     "data": {
      "image/png": "[encoded data removed]",
      "text/plain": [
       "<IPython.core.display.Image object>"
      ]
     },
     "execution_count": 41,
     "metadata": {},
     "output_type": "execute_result"
    }
   ],
   "source": [
    "epochs = 7\n",
    "train_log = train(X, Y, h0, parameters, epochs=epochs) \n",
    "Image(\"train plot 126k steps.png\")"
   ]
  },
  {
   "cell_type": "markdown",
   "metadata": {},
   "source": [
    "<a id='evolution' />"
   ]
  },
  {
   "cell_type": "markdown",
   "metadata": {},
   "source": [
    "### Evolution of Text sampling every 10,000 for first 100,000 steps of training"
   ]
  },
  {
   "cell_type": "markdown",
   "metadata": {},
   "source": [
    "Step:  10000  \n",
    "Smooth Loss:  52.970881146613905  \n",
    "thevls asleying angece cirove hoatsoroun learidly antt the shad buin tory,  urkettle, ak gog, sard a-som burrby midit is tow rrfplyoraminvid, mampo?\" dolling so teren fyos rup thr.\n",
    "\" ind, i srurt herr\n",
    "\n",
    "\n",
    "Step:  10000  \n",
    "Smooth Loss:  54.744094131001305  \n",
    "roalge hal lyllanl, ru?fikl rdon, wnoulk abdy bdand mrris uhe cay, thare thiabot wheuron thef tore breots. rry the eh trarul gol sins shee lle ling the roget on pri peng, are boving mesing askad cadft\n",
    "\n",
    "\n",
    "Step:  20000   \n",
    "Smooth Loss:  52.26947371263958  \n",
    " sartor wagd ghike beats simoktis-e, singe to ssluid sunt i'butht bope itf baouer bisk - a the the waced esteant les ak, har he .\"\n",
    "\"m atky . .  hans her'sisde k and kard louged he whe fumi on's in's f\n",
    "\n",
    "\n",
    "Step:  30000 \n",
    "Smooth Loss:  50.965779813453  \n",
    "at hamusc, withevede igouss gow fotmen mer tandiul, wicf tha hohg malig and onyy ttis oped thooes od itf he thorilst, ang sarlomy shat herry in  hack squng ther let the as sryand dumet gerwan warle su\n",
    "\n",
    "\n",
    "Step:  40000  \n",
    "Smooth Loss:  49.81367501514544  \n",
    "hos tamked- gottestint, ing, fanthe to ser wobes, to war shourny ling amamly morlt. horrellly bosteosingt havly seimed mats ald stored sslakewnged, noufvelly mintly.\" \"outhe ther yout mistenme jusrwag\n",
    "\n",
    "\n",
    "Step:  50000  \n",
    "Smooth Loss:  50.643127865800025  \n",
    "suwh toustmas.  nod iche to horest. his'n agrel the samrodiy'lt beazy hes prows srowceny son the dirt topistlly.  he lertesten,\" tuce coselre, t\"ase gop.   nod hepertalsebe, to far teor -s, brate hars\n",
    "\n",
    "\n",
    "Step:  60000  \n",
    "Smooth Loss:  49.529689141300615  \n",
    "on thiy louss of sas evers.  \"exupled harryenln ther asker ather a drace so geifes sarl.\n",
    "\" \"bach sit soid\"\n",
    "\"blapifls, sherowt.  \"ke sowont serriisiols therigh'r homer veare, the the gras was mlen hes \n",
    "\n",
    "\n",
    "Step:  70000  \n",
    "Smooth Loss:  49.08102524969884  \n",
    "has bastond siink fixe dere saredf hor, nibed, rood shears noge higry hadry'y teyis a sked wokef to ro jinnent thaxe wning arwo harrobsiledty har whe spookerrmy it . . . yot the mingantun fond doors h\n",
    "\n",
    "\n",
    "Step:  80000  \n",
    "Smooth Loss:  47.75493535593699  \n",
    "ky butt and prome slougre. . . . . .\". horre, thanes; . upwaid soich loot regast mariml hoir roat as worc of can at nof crouched ever wold rine aldeetein his spenone casefring to sof horrile sarred- g\n",
    "\n",
    "\n",
    "Step:  90000  \n",
    "Smooth Loss:  47.86315262079798  \n",
    "y blitsed.\n",
    "\tnbuize, a\tcssitne ovanne not.  toif sseadlinne he he whind stilen hay the exsus of a crund.  it... i ghaig ost at compe he bedt a modent scaser was samews.\n",
    "\"\t\"a suth harry aid ron aveer cw\n",
    "\n",
    "\n",
    "Step:  100000  \n",
    "Smooth Loss:  48.75981124130462\n",
    "laturbut on agrones ougs, but neck thandlt nobl ware to sceads, the yoik hisce, bull the wet hand mors, and becomey and ichon arans  heo, as the ghard puok'm..\n",
    "\"weat croune he for, mole and zhoanatly \n",
    "\n",
    "\n",
    "Step:  110000  \n",
    "Smooth Loss:  47.22446744571248\n",
    "tous maseref snool-y od for audnem to hakry as ang it git, was oling if contted yin his to har?\" \"hon, you've joucwed some handy. . . yon ge stond nacisesoun toouspioneto belich he spond, as the mutt \n",
    "\n",
    "\n",
    "Step:  120000  \n",
    "Smooth Loss:  47.23760778776166\n",
    " pign theirs.\n",
    "\"ous aboun hal ands to to to she posni , tadloo was an ort fight torcoutly fils fe dechon's - shat and ifbear sain  bermoke antming their lepteing fist you he fremainden bageccy cameacar\n",
    "\n"
   ]
  },
  {
   "cell_type": "markdown",
   "metadata": {},
   "source": [
    "<a id='best' />"
   ]
  },
  {
   "cell_type": "markdown",
   "metadata": {},
   "source": [
    "### Best Model Writes!\n"
   ]
  },
  {
   "cell_type": "code",
   "execution_count": 26,
   "metadata": {},
   "outputs": [
    {
     "name": "stdout",
     "output_type": "stream",
     "text": [
      "ep one hot hit bect thaad an thas gidh weved briae a betching the death fwer the hech abubl, the'; the gharring the harmsed mut to vtont notw crooked he suad lich, nones was as nood thizam harry vereennnacinghed to the could pot,\" snoorsunf stond ere or be harry, the cark powns.\n",
      "\"eotcit.  he shasslemand harrdutes. \"luffrome fware!\"  had his dentt theppant ordi led himmeny be to intanted termait armorring und reat he he cuntedly, arkiwing when heat and nully ther apave alssed ind.\n",
      "hadlly aid wovend ite slaum. \"ain cuppye pinichind dow her cligh fircne the emantly.\" harting in havessione freate!  ge butiatdo seall, bug lacchean demrrotkascargred hald tor the wheroounffor the and of thind nower to ssiits ughod hin harry.  a poby shic haver kantarswrrack wagh dook, they he the sed. \"ow.  one mow pard nood.\n",
      "\"ot thit ux the beting con.\n",
      "he whick there. \"it clattergicert sat goods, hombbepcled trowas mapint of at himkeyids it wive the wallic!\"\n",
      "\"med  higny her, finns ugh sulby.\n",
      "he and use hil b\n"
     ]
    }
   ],
   "source": [
    "# load from npy\n",
    "trained_log = np.load(\"train_log.npy\")\n",
    "best_parameters = trained_log.item().get('best parameters')\n",
    "best_h = trained_log.item().get('best h')\n",
    "seq = to_string(synthesize_seq(best_h, X[:, 0].reshape(-1, 1),1000, best_parameters), book_chars)\n",
    "print(seq)"
   ]
  },
  {
   "cell_type": "code",
   "execution_count": 27,
   "metadata": {},
   "outputs": [
    {
     "data": {
      "text/plain": [
       "25.548408663992184"
      ]
     },
     "execution_count": 27,
     "metadata": {},
     "output_type": "execute_result"
    }
   ],
   "source": [
    "trained_log.item().get('least loss')"
   ]
  },
  {
   "cell_type": "code",
   "execution_count": null,
   "metadata": {},
   "outputs": [],
   "source": [
    "# best_parameters = train_log['best parameters']\n",
    "# best_h = train_log['best h']\n",
    "# seq = to_string(synthesize_seq(best_h, X[:, 0].reshape(-1, 1),1000, best_parameters), book_chars)\n",
    "# print(seq)"
   ]
  },
  {
   "cell_type": "code",
   "execution_count": 40,
   "metadata": {},
   "outputs": [
    {
     "data": {
      "application/vnd.jupyter.widget-view+json": {
       "model_id": "ac749370008e4bc3ab6fd3bfe6edcce8",
       "version_major": 2,
       "version_minor": 0
      },
      "text/plain": [
       "HBox(children=(IntProgress(value=0, max=1000), HTML(value='')))"
      ]
     },
     "metadata": {},
     "output_type": "display_data"
    },
    {
     "name": "stdout",
     "output_type": "stream",
     "text": [
      "harry\n",
      "hermione\n",
      "magic\n",
      "\n",
      "{'slytherin': 0, 'gryffindor': 0, 'hogwarts': 0, 'hermione': 55, 'dumbledore': 0, 'magic': 13, 'voldemort': 0, 'harry': 1000}\n"
     ]
    }
   ],
   "source": [
    "words_of_interest = {\n",
    "    \"hermione\" : 0, \"harry\" : 0, \"dumbledore\" : 0, \"magic\" : 0, \"slytherin\" : 0, \"gryffindor\" : 0,\n",
    "    \"voldemort\": 0, \"hogwarts\" : 0, \"spell\" :0,\n",
    "}\n",
    "for i in tqdm(range(1000)):\n",
    "    seq = to_string(\n",
    "        synthesize_seq(best_h, X[:, 0].reshape(-1, 1), 10000, best_parameters),\n",
    "        book_chars)\n",
    "    for x in words_of_interest.keys(): \n",
    "        if x in seq: \n",
    "            if words_of_interest[x] == 0:\n",
    "                print(x)\n",
    "            words_of_interest[x] +=1\n",
    "print(words_of_interest)"
   ]
  }
 ],
 "metadata": {
  "kernelspec": {
   "display_name": "Python 3",
   "language": "python",
   "name": "python3"
  },
  "language_info": {
   "codemirror_mode": {
    "name": "ipython",
    "version": 3
   },
   "file_extension": ".py",
   "mimetype": "text/x-python",
   "name": "python",
   "nbconvert_exporter": "python",
   "pygments_lexer": "ipython3",
   "version": "3.5.2"
  }
 },
 "nbformat": 4,
 "nbformat_minor": 2
}
