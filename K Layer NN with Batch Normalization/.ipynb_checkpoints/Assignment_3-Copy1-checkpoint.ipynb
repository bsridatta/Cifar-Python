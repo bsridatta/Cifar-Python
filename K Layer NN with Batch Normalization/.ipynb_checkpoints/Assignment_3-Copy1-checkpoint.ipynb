{
 "cells": [
  {
   "cell_type": "markdown",
   "metadata": {},
   "source": [
    "## DD2424 deep19 VT19-1 Deep Learning in Data Science - Assignment 3\n",
    "\n",
    "### Table of Content\n",
    "[Exercise 1](#Section_1) - Getting the data  \n",
    "[Exercise 1](#view_images) - Scroll through the images (should run cell to see widget)   \n",
    "[Exercise 1 - a](#Section_2) - He Initialization with var - 2/n with ReLU activation  \n",
    "[Exercise 1 - b](#Section_3) - Evaluate Classifier/ Forward Prop  \n",
    "[Exercise 1](#Section_4) - Compute the cost  \n",
    "[Exercise 1](#Section_5) - Compute Accuracy  \n",
    "[Exercise 1 - c](#Section_6) - Compute, check the gradient descent and update weights  \n",
    "[Exercise 2](#Section_7) - Can I train multi-layer networks?  \n",
    "[Exercise 2 -a](#cyclic_lr) - Training a 3-layer network with cyclical learning rates   \n",
    "[Exercise 2 -b](#9l) - Training a 9-layer network with cyclical learning rates   \n",
    "[Exercise 3 -a](#batchnorm) - Implement batch normalization\n",
    "\n",
    "[Exercise 2 -a](#training) - Training for Real!  \n",
    "[Exercise 2 -b](#coarse_fine) - Coarse-to-fine random search  \n",
    "[Exercise 2 -c](#final_result) - Final model with >50% accuracy!  \n"
   ]
  },
  {
   "cell_type": "markdown",
   "metadata": {},
   "source": [
    "### Report\n",
    "1. Checking the gradient - Calculating numercial gradients and verifying if both are close enough. The difference are in the order or 10^-8 as obtained [here](#grad_check) \n",
    "\n"
   ]
  },
  {
   "cell_type": "code",
   "execution_count": 1,
   "metadata": {},
   "outputs": [],
   "source": [
    "import numpy as np\n",
    "import math\n",
    "from PIL import Image as Img\n",
    "import pickle\n",
    "from scipy import misc\n",
    "\n",
    "import sys\n",
    "import os.path\n",
    "\n",
    "import matplotlib.pyplot as plt\n",
    "import seaborn as sns\n",
    "from tqdm import tqdm_notebook as tqdm\n",
    "import pprint\n",
    "from ipywidgets import *\n",
    "from IPython.display import Image\n",
    "\n",
    "%matplotlib inline\n",
    "plt.rcParams['figure.figsize'] = (5.0, 4.0) # set default size of plots\n",
    "plt.rcParams['image.interpolation'] = 'nearest'\n",
    "plt.rcParams['image.cmap'] = 'gray'\n",
    "\n",
    "%load_ext autoreload\n",
    "%autoreload 2\n",
    "\n",
    "np.random.seed(400)"
   ]
  },
  {
   "cell_type": "markdown",
   "metadata": {},
   "source": [
    "#### Exercise 1  \n",
    "<a id='Section_1'></a>\n",
    "\n",
    "## Getting the Data"
   ]
  },
  {
   "cell_type": "code",
   "execution_count": 2,
   "metadata": {},
   "outputs": [],
   "source": [
    "def LoadBatch(file, full=False):\n",
    "    \"\"\"\n",
    "    Loads all the data from Cifar-10\n",
    "    \n",
    "    Argumets:\n",
    "    file -- Path to main data directory\n",
    "    \n",
    "    Returns: \n",
    "    train_set_x, train_set_y, valid_set_x, \n",
    "    valid_set_y, test_set_x, test_set_y    -- Splits the dataset into \n",
    "    classes -- all the labels\n",
    "    \"\"\"\n",
    "    if full == False:\n",
    "        \n",
    "        #load data\n",
    "        train_file = file + '/data_batch_1'\n",
    "        valid_file = file + '/data_batch_2'\n",
    "        test_file = file + '/test_batch'\n",
    "        meta_file = file + '/batches.meta'\n",
    "\n",
    "        with open(train_file, 'rb') as fo:\n",
    "            train_set = pickle.load(fo, encoding='latin1')\n",
    "        with open(valid_file, 'rb') as fo:\n",
    "            valid_set = pickle.load(fo, encoding='latin1')\n",
    "        with open(test_file, 'rb') as fo:\n",
    "            test_set = pickle.load(fo, encoding='latin1')\n",
    "        with open(meta_file, 'rb') as fo:\n",
    "            meta = pickle.load(fo, encoding='latin1')\n",
    "        print(\"Load data \" + u'\\u2713')\n",
    "            \n",
    "        # data formatting to double\n",
    "        train_set_x = np.array(train_set[\"data\"][:], dtype='d')\n",
    "        train_set_y = np.array(train_set[\"labels\"][:])\n",
    "        valid_set_x = np.array(valid_set[\"data\"][:], dtype='d')\n",
    "        valid_set_y = np.array(valid_set[\"labels\"][:])\n",
    "        test_set_x = np.array(test_set[\"data\"][:], dtype='d')\n",
    "        test_set_y = np.array(test_set[\"labels\"][:])\n",
    "        classes = np.array(meta[\"label_names\"][:])\n",
    "        print(\"Image data to Double \" + u'\\u2713')\n",
    "\n",
    "    elif full == True:\n",
    "        \n",
    "        with open('../cifar-10/data_batch_1', 'rb') as fo:\n",
    "            d1 = pickle.load(fo, encoding='latin1') \n",
    "        with open('../cifar-10/data_batch_2', 'rb') as fo:\n",
    "            d2 = pickle.load(fo, encoding='latin1')  \n",
    "        with open('../cifar-10/data_batch_3', 'rb') as fo:\n",
    "            d3 = pickle.load(fo, encoding='latin1')  \n",
    "        with open('../cifar-10/data_batch_4', 'rb') as fo:\n",
    "            d4 = pickle.load(fo, encoding='latin1')  \n",
    "        with open('../cifar-10/data_batch_5', 'rb') as fo:\n",
    "            d5 = pickle.load(fo, encoding='latin1') \n",
    "        \n",
    "#         train_set = dict(list(train_set.items())[:45001])\n",
    "#         valid_set = dict(list(train_set.items())[45001:])\n",
    "        test_file = file + '/test_batch'\n",
    "        meta_file = file + '/batches.meta'\n",
    "        with open(test_file, 'rb') as fo:\n",
    "            test_set = pickle.load(fo, encoding='latin1')\n",
    "        with open(meta_file, 'rb') as fo:\n",
    "            meta = pickle.load(fo, encoding='latin1')\n",
    "        print(\"Load data \" + u'\\u2713')\n",
    "     # data formatting to double\n",
    "        train_set_x = np.array(d1[\"data\"][:], dtype='d')\n",
    "        train_set_y = np.array(d1[\"labels\"][:]).reshape(-1,1)\n",
    "\n",
    "        for x in [d2,d3,d4,d5]:\n",
    "            _data = np.array(x[\"data\"][:], dtype='d')\n",
    "            _labels = np.array(x[\"labels\"][:]).reshape(-1,1)\n",
    "           \n",
    "            train_set_x = np.vstack((train_set_x,_data))\n",
    "            train_set_y = np.vstack((train_set_y,_labels))\n",
    "        valid_set_x = train_set_x[45000:,:]\n",
    "        valid_set_y = train_set_y[45000:,:]\n",
    "        train_set_x = train_set_x[:45000,:]\n",
    "        train_set_y = train_set_y[:45000,:]\n",
    "\n",
    "        train_set_y = train_set_y.reshape(-1,)\n",
    "        valid_set_y = valid_set_y.reshape(-1,)\n",
    "        test_set_x = np.array(test_set[\"data\"][:], dtype='d')\n",
    "        test_set_y = np.array(test_set[\"labels\"][:])\n",
    "        classes = np.array(meta[\"label_names\"][:])\n",
    "        print(\"Image data to Double \" + u'\\u2713')\n",
    "\n",
    "    #uncomment to get data overview\n",
    "#     pprint.pprint(train_set)\n",
    "#     for keys,value in train_set.items():\n",
    "#         print(keys)\n",
    "    \n",
    "\n",
    "    _ = plt.rcParams['figure.figsize'] = [15, 3]\n",
    "    _ = plt.subplot(131).set_title(\"Original\")\n",
    "    ax = sns.distplot(train_set_x[0, :])\n",
    "\n",
    "    #standardising image data\n",
    "    train_set_x = train_set_x / 255.\n",
    "    valid_set_x = valid_set_x / 255.\n",
    "    test_set_x = test_set_x / 255.\n",
    "    print(\"Standardizing image \" + u'\\u2713')\n",
    "    _ = plt.subplot(132).set_title(\"Standardized\")\n",
    "    ax = sns.distplot(train_set_x[0, :])\n",
    "\n",
    "    #Normalizing image data\n",
    "    #do by row as this is row and non transformed images\n",
    "    #For each row i.e 1x3072\n",
    "    train_mean = np.mean(train_set_x, axis=1).reshape(-1, 1)\n",
    "    valid_mean = np.mean(valid_set_x, axis=1).reshape(-1, 1)\n",
    "    test_mean = np.mean(test_set_x, axis=1).reshape(-1, 1)\n",
    "\n",
    "    train_std = np.std(train_set_x, axis=1).reshape(-1, 1)\n",
    "    valid_std = np.std(valid_set_x, axis=1).reshape(-1, 1)\n",
    "    test_std = np.std(test_set_x, axis=1).reshape(-1, 1)\n",
    "\n",
    "    #mean shape is 10000,1 show repeat 3072\n",
    "    train_mean = np.tile(train_mean, (1, 3072))\n",
    "    valid_mean = np.tile(valid_mean, (1, 3072))\n",
    "    test_mean = np.tile(test_mean, (1, 3072))\n",
    "\n",
    "    train_std = np.tile(train_std, (1, 3072))\n",
    "    valid_std = np.tile(valid_std, (1, 3072))\n",
    "    test_std = np.tile(test_std, (1, 3072))\n",
    "\n",
    "    train_set_x = (train_set_x - train_mean) / train_std\n",
    "    valid_set_x = (valid_set_x - valid_mean) / valid_std\n",
    "    test_set_x = (test_set_x - test_mean) / test_std\n",
    "    print(\"Normalizing image \" + u'\\u2713')\n",
    "\n",
    "#     _ = plt.subplot(133).set_title(\"Normalized\")\n",
    "#     ax = sns.distplot(train_set_x[0, :])\n",
    "\n",
    "    #one-hot encoding labels\n",
    "    n_values = len(classes)\n",
    "    train_set_y = np.eye(n_values)[train_set_y]\n",
    "    valid_set_y = np.eye(n_values)[valid_set_y]\n",
    "    test_set_y = np.eye(n_values)[test_set_y]\n",
    "    print('one hot encoding ' + u'\\u2713')\n",
    "\n",
    "    _ = plt.show(ax)\n",
    "\n",
    "    return train_set_x, train_set_y, valid_set_x, valid_set_y, test_set_x, test_set_y, classes"
   ]
  },
  {
   "cell_type": "code",
   "execution_count": 3,
   "metadata": {},
   "outputs": [
    {
     "name": "stdout",
     "output_type": "stream",
     "text": [
      "Load data ✓\n",
      "Image data to Double ✓\n",
      "Standardizing image ✓\n",
      "Normalizing image ✓\n",
      "one hot encoding ✓\n"
     ]
    },
    {
     "data": {
      "image/png": "[encoded data removed]",
      "text/plain": [
       "<Figure size 1080x216 with 2 Axes>"
      ]
     },
     "metadata": {
      "needs_background": "light"
     },
     "output_type": "display_data"
    },
    {
     "name": "stdout",
     "output_type": "stream",
     "text": [
      "Reshaping ✓\n",
      "Mean 0 and Std. 1✓\n"
     ]
    }
   ],
   "source": [
    "#get the data\n",
    "train_set_x, train_set_y, valid_set_x, valid_set_y, test_set_x, test_set_y, classes = \\\n",
    "                                LoadBatch(os.path.join(os.getcwd(), \"..\", 'cifar-10'), full=False)\n",
    "\n",
    "#reshaping labels\n",
    "train_x = train_set_x.transpose()\n",
    "valid_x = valid_set_x.transpose()\n",
    "test_x  = test_set_x.transpose()\n",
    "train_y = train_set_y.transpose()\n",
    "valid_y = valid_set_y.transpose()\n",
    "test_y  = test_set_y.transpose()\n",
    "print(\"Reshaping \" +u'\\u2713' )\n",
    "\n",
    "if np.unique(np.round(np.mean(train_set_x, axis = 1).reshape(-1,1)))[0] == 0: \n",
    "    if np.unique(np.round(np.std(train_set_x, axis = 1).reshape(-1,1)))[0] == 1:\n",
    "        print(\"Mean 0 and Std. 1\" +u'\\u2713' )"
   ]
  },
  {
   "cell_type": "markdown",
   "metadata": {},
   "source": [
    "## Sneak peak  into the dataset "
   ]
  },
  {
   "cell_type": "code",
   "execution_count": 4,
   "metadata": {},
   "outputs": [
    {
     "name": "stdout",
     "output_type": "stream",
     "text": [
      "Number of training examples: 10000\n",
      "Number of valid examples: 10000\n",
      "Number of testing examples: 10000\n",
      "Each image is of size: 3072\n",
      "train_x shape: (3072, 10000)\n",
      "train_y shape: (10, 10000)\n",
      "valid_x shape: (3072, 10000)\n",
      "valid_y shape: (10, 10000)\n",
      "test_x shape: (3072, 10000)\n",
      "test_y shape: (10, 10000)\n",
      "classes shape :(10,)\n"
     ]
    }
   ],
   "source": [
    "num_train = train_x.shape[1]\n",
    "num_valid = valid_x.shape[1]\n",
    "num_test = test_x.shape[1]\n",
    "num_px = train_x.shape[0]\n",
    "\n",
    "\n",
    "print (\"Number of training examples: \" + str(num_train))\n",
    "print (\"Number of valid examples: \" + str(num_valid))\n",
    "print (\"Number of testing examples: \" + str(num_test))\n",
    "print (\"Each image is of size: \"+str(num_px))\n",
    "print (\"train_x shape: \" + str(train_x.shape))\n",
    "print (\"train_y shape: \" + str(train_y.shape))\n",
    "print (\"valid_x shape: \" + str(valid_x.shape))\n",
    "print (\"valid_y shape: \" + str(valid_y.shape))\n",
    "print (\"test_x shape: \" + str(test_x.shape))\n",
    "print (\"test_y shape: \" + str(test_y.shape))\n",
    "print (\"classes shape :\" + str(classes.shape))"
   ]
  },
  {
   "cell_type": "markdown",
   "metadata": {},
   "source": [
    "## Check out some pics\n",
    "<a id='view_images'></a>"
   ]
  },
  {
   "cell_type": "code",
   "execution_count": 5,
   "metadata": {},
   "outputs": [],
   "source": [
    "def show_image(index):\n",
    "    \"\"\"\n",
    "    Displays images from train_set_x i.e the raw set without dimetionality change\n",
    "    \n",
    "    Arguments -- index of the image from 1-10,000\n",
    "    \n",
    "    Returns -- None, Use slider to view all images\n",
    "    \"\"\"\n",
    "    #for train_set_x\n",
    "    sample = train_set_x[index]\n",
    "    sample = sample*255.\n",
    "    R = sample[0:1024].reshape(32,32)    \n",
    "    G = sample[1024:2048].reshape(32,32)    \n",
    "    B = sample[2048:].reshape(32,32)    \n",
    "    img = np.dstack((R,G,B))\n",
    "    img = Img.fromarray(img.astype(\"uint8\"))\n",
    "    plt.imshow(img,interpolation='bicubic')\n",
    "    label = np.where(train_y[:,index]==1)\n",
    "    plt.title(classes[label][0])"
   ]
  },
  {
   "cell_type": "code",
   "execution_count": 6,
   "metadata": {},
   "outputs": [
    {
     "data": {
      "image/png": "[encoded data removed]",
      "text/plain": [
       "<Figure size 1080x216 with 1 Axes>"
      ]
     },
     "metadata": {
      "needs_background": "light"
     },
     "output_type": "display_data"
    }
   ],
   "source": [
    "ax = show_image(9999)"
   ]
  },
  {
   "cell_type": "code",
   "execution_count": 7,
   "metadata": {},
   "outputs": [
    {
     "data": {
      "application/vnd.jupyter.widget-view+json": {
       "model_id": "039fed8164e34bc4b843409ad2f2486d",
       "version_major": 2,
       "version_minor": 0
      },
      "text/plain": [
       "interactive(children=(IntSlider(value=9999, description='index', max=9999), Output()), _dom_classes=('widget-i…"
      ]
     },
     "metadata": {},
     "output_type": "display_data"
    }
   ],
   "source": [
    "_ = interact(show_image,index = widgets.IntSlider(min = 0, max = 9999, step = 1, value=9999))"
   ]
  },
  {
   "cell_type": "markdown",
   "metadata": {},
   "source": [
    "#### Exercise 1 - a\n",
    "<a id='Section_2'></a>\n",
    "\n",
    "## Paramater Initialization"
   ]
  },
  {
   "cell_type": "code",
   "execution_count": 8,
   "metadata": {},
   "outputs": [],
   "source": [
    "def initialize_parameters(N, layer_dims, he_var=1, BN=False):\n",
    "    \"\"\"\n",
    "    Initialize all the params need for the neural network\n",
    "    \n",
    "    Arguments:\n",
    "    layer_dims -- dims of layers for the NN \n",
    "    N -- number of images NN is trained on\n",
    "    he_var -- parameter for he init.\n",
    "    BN -- to pass batch norm params\n",
    "\n",
    "    Returns:\n",
    "    X -- Input to NN\n",
    "    Y -- Ground Truth\n",
    "    parameters -- NN parameters Ws and b(s)\n",
    "    GDparams -- parameters to control the Gradient descent\n",
    "    lambd -- regularization co-eff\n",
    "    m_avg -- for BN\n",
    "    \"\"\"\n",
    "\n",
    "    #Number of possible predictions\n",
    "    K = len(classes)\n",
    "    #Subset of data to be trained on\n",
    "    X = train_x[:, :N]\n",
    "    Y = train_y[:, :N]\n",
    "    #Gausssian parameters for W, b\n",
    "    mu = 0\n",
    "    parameters = {}\n",
    "    m_avg = {}\n",
    "\n",
    "    L = len(layer_dims)\n",
    "    \n",
    "    for l in range(1, L):\n",
    "        # He initialisation\n",
    "        parameters['W' + str(l)] = np.random.normal(\n",
    "            loc=mu, scale=(he_var / math.sqrt(layer_dims[l-1])), size=(layer_dims[l], layer_dims[l-1]))\n",
    "        parameters['b' + str(l)] = np.random.normal(\n",
    "            loc=mu, scale=(he_var / math.sqrt(layer_dims[l-1])), size=(layer_dims[l], 1))\n",
    "\n",
    "        if BN:\n",
    "            parameters['gamma' + str(l)] = np.ones((layer_dims[l], 1))\n",
    "            parameters['beta' + str(l)] = np.zeros((layer_dims[l], 1))\n",
    "            m_avg['u' + str(l)] = np.zeros((layer_dims[l], 1))\n",
    "            m_avg['v' + str(l)] = np.zeros((layer_dims[l], 1))\n",
    "            \n",
    "    #regularization co-eff\n",
    "    lambd = 0\n",
    "    #n_batch=batch_size NOT the number of batches\n",
    "    GDparams = {}\n",
    "    GDparams['n_batch'] = 100\n",
    "    GDparams['eta'] = 0.001\n",
    "    GDparams['n_epochs'] = 200\n",
    "    m_avg['alpha'] = 0.9\n",
    "\n",
    "    #Get the shapes right\n",
    "    assert (X.shape == (layer_dims[0], N))\n",
    "    assert (Y.shape == (layer_dims[-1], N))\n",
    "    assert (classes.size == 10)\n",
    "\n",
    "    return X, Y, parameters, GDparams, lambd, m_avg"
   ]
  },
  {
   "cell_type": "code",
   "execution_count": 9,
   "metadata": {},
   "outputs": [
    {
     "data": {
      "image/png": "[encoded data removed]",
      "text/plain": [
       "<Figure size 1080x576 with 12 Axes>"
      ]
     },
     "metadata": {
      "needs_background": "light"
     },
     "output_type": "display_data"
    }
   ],
   "source": [
    "%matplotlib inline\n",
    "#Constants\n",
    "N = 5\n",
    "K = len(classes)\n",
    "layer_dims = [num_px, 50, 50, K]\n",
    "X, Y, parameters, GDparams, lambd, _ = initialize_parameters(N, layer_dims)\n",
    "_ = plt.rcParams['figure.figsize'] = [15, 2*len(layer_dims)]\n",
    "\n",
    "for ix, param in enumerate(parameters):\n",
    "    _ = plt.subplot(2,len(layer_dims),ix+1).set_title(param + str(parameters[param].shape))\n",
    "    ax = sns.heatmap(parameters[param])"
   ]
  },
  {
   "cell_type": "code",
   "execution_count": 10,
   "metadata": {},
   "outputs": [
    {
     "data": {
      "image/png": "[encoded data removed]",
      "text/plain": [
       "<Figure size 1080x576 with 6 Axes>"
      ]
     },
     "metadata": {
      "needs_background": "light"
     },
     "output_type": "display_data"
    }
   ],
   "source": [
    "_ = plt.rcParams['figure.figsize'] = [15, 2*len(layer_dims)]\n",
    "\n",
    "for ix, param in enumerate(parameters):    \n",
    "    _ = plt.subplot(2,len(layer_dims),ix+1).set_title(param)\n",
    "    ax = sns.distplot(parameters[param].reshape(-1,1))"
   ]
  },
  {
   "cell_type": "markdown",
   "metadata": {},
   "source": [
    "####    Exercise 1 - b\n",
    "<a id='Section_3'></a>\n",
    "\n",
    "\n",
    "## Forward Propogation"
   ]
  },
  {
   "cell_type": "code",
   "execution_count": 11,
   "metadata": {},
   "outputs": [],
   "source": [
    "def softmax(x):\n",
    "    \"\"\"\n",
    "    Instead of using np.exp(x)/np.sum(np.exp(x))\n",
    "    I decrease the value of x with the max, \n",
    "    it could be any number as it cancels out when equation is expanded\n",
    "    This is to avoid overflow due to exponential increase\n",
    "    \n",
    "    Argumets:\n",
    "    x -- Product W, X\n",
    "    \n",
    "    Returns:\n",
    "    soft -- softmax(W,X)\n",
    "    \"\"\"\n",
    "    e_x = np.exp(x - np.max(x, axis = 0))\n",
    "    soft = e_x / np.sum(e_x, axis = 0)\n",
    "    return soft\n",
    "\n",
    "def ReLU(s):\n",
    "    \"\"\"\n",
    "    ReLU activation function\n",
    "    \n",
    "    Arguments:\n",
    "    s -- Classifier output i.e W*X + b\n",
    "    \n",
    "    Returns:\n",
    "    array replacing negative values with 0\n",
    "    \"\"\"\n",
    "    return np.where(s < 0, 0, s)\n",
    "\n",
    "def EvaluateClassifier(X, parameters):\n",
    "    \"\"\"\n",
    "    s1 = W1x + b1 \n",
    "    h = max(0, s1)\n",
    "    s = W2h + b2\n",
    "    p = SOFTMAX(s) \n",
    "    \n",
    "    Arguments:\n",
    "    X -- Input data\n",
    "    Parameters --\n",
    "        W -- Weights\n",
    "        b -- bias\n",
    "    \n",
    "    Returns:\n",
    "    H_dic -- Activation output/ Hidden Layer's output\n",
    "    P -- Probabilities of each class for each sample in X\n",
    "    \"\"\"\n",
    "    layers = len(parameters)//2\n",
    "    H_dic = {}\n",
    "    H = X # initial h\n",
    "    for layer in range(1,layers):\n",
    "        H_dic[\"H\"+str(layer)] = H\n",
    "        s = np.dot(parameters[\"W\"+str(layer)], H) + parameters[\"b\"+str(layer)]\n",
    "        H = ReLU(s)\n",
    "    H_dic[\"H\"+str(layers)] = H\n",
    "    s = np.dot(parameters[\"W\"+str(layers)], H) + parameters[\"b\"+str(layers)]\n",
    "    P = softmax(s)\n",
    "    \n",
    "    #Dimensional check -- removed as it conflicts with minibatches\n",
    "    #assert(X.shape == (d,N)),X.shape\n",
    "    #assert(P.shape == (K,N))\n",
    "    return H_dic, P"
   ]
  },
  {
   "cell_type": "code",
   "execution_count": 12,
   "metadata": {},
   "outputs": [],
   "source": [
    "H_dic, P = EvaluateClassifier(X, parameters)"
   ]
  },
  {
   "cell_type": "code",
   "execution_count": 13,
   "metadata": {},
   "outputs": [],
   "source": [
    "def visulaize_predictions(P, Y):\n",
    "    \"\"\"\n",
    "    Just an excuse to use the beautiful seaborn :)\n",
    "    \n",
    "    Arguments:\n",
    "    P -- Probabilties to get the predicitons\n",
    "    Y -- Ground truth\n",
    "    \n",
    "    Returns:\n",
    "    None -- Nice plots\n",
    "    \"\"\"\n",
    "    \n",
    "    plt.rcParams['figure.figsize'] = [25, 5]\n",
    "    plt.subplot(141).set_title(\"Prediction\")\n",
    "    predictions = (P == P.max(axis = 0,keepdims = 1)).astype(float)\n",
    "    ax = sns.heatmap(predictions)\n",
    "    plt.subplot(142).set_title(\"Ground Truth\")\n",
    "    ax = sns.heatmap(Y)\n",
    "    plt.subplot(143).set_title(\"Correct Matches\")\n",
    "    matches = (np.multiply(Y,predictions)).astype(float)\n",
    "    ax = sns.heatmap(matches)\n",
    "    plt.subplot(144).set_title(\"Differences\")\n",
    "    matches = Y + predictions\n",
    "    ax = sns.heatmap(matches)\n",
    "    plt.show(ax)"
   ]
  },
  {
   "cell_type": "code",
   "execution_count": 14,
   "metadata": {},
   "outputs": [
    {
     "data": {
      "image/png": "[encoded data removed]",
      "text/plain": [
       "<Figure size 1800x360 with 8 Axes>"
      ]
     },
     "metadata": {
      "needs_background": "light"
     },
     "output_type": "display_data"
    }
   ],
   "source": [
    "visulaize_predictions(P,Y)"
   ]
  },
  {
   "cell_type": "markdown",
   "metadata": {},
   "source": [
    "#### Exercise 1\n",
    "<a id='Section_4'></a>\n",
    "\n",
    "## Computing the cost"
   ]
  },
  {
   "cell_type": "code",
   "execution_count": 15,
   "metadata": {},
   "outputs": [],
   "source": [
    "def ComputeCost_CrossEntropy(P, Y, parameters):\n",
    "    \"\"\"\n",
    "    Loss of current state of prediction w.r.t the ground truth\n",
    "    \n",
    "    Arguments:\n",
    "    P -- Probabilities of each class of each sample in input data\n",
    "    Y -- Ground truth\n",
    "    parameters -- \n",
    "        W -- Weights that produced the probabilities (Can be used in num. GD as well)\n",
    "\n",
    "    Returns:\n",
    "    cost -- sum of crossentropy loss and regularization term\n",
    "    \"\"\"\n",
    "    \n",
    "    P = np.reshape(P, (K, -1))\n",
    "    ground_truth = np.reshape(Y, (K, -1))\n",
    "    product = np.multiply(Y, P).sum(axis = 0)\n",
    "    \n",
    "    #cross entropy loss - Handling -log0 tending to infinity\n",
    "    product[product == 0] = np.finfo(float).eps    #very low value\n",
    "    crossEntropyLoss = np.mean(-np.log(product)) #.sum() / N\n",
    "    \n",
    "    sum_sq_W = 0 #sum of squares of weights\n",
    "    for param in parameters:\n",
    "        if 'W' in param:\n",
    "            sum_sq_W += np.power(parameters[param], 2).sum()\n",
    "    L2_regularization_cost = lambd * sum_sq_W\n",
    "    \n",
    "    cost = crossEntropyLoss + L2_regularization_cost\n",
    "    return  cost"
   ]
  },
  {
   "cell_type": "code",
   "execution_count": 16,
   "metadata": {},
   "outputs": [
    {
     "name": "stdout",
     "output_type": "stream",
     "text": [
      "2.353990886493025\n"
     ]
    }
   ],
   "source": [
    "cost = ComputeCost_CrossEntropy(P, Y, parameters)\n",
    "print(cost)"
   ]
  },
  {
   "cell_type": "markdown",
   "metadata": {},
   "source": [
    "#### Exercise 1\n",
    "<a id='Section_5'></a>\n",
    "\n",
    "## Accuracy of the predictions"
   ]
  },
  {
   "cell_type": "code",
   "execution_count": 17,
   "metadata": {},
   "outputs": [],
   "source": [
    "def ComputeAccuracy(P, Y):\n",
    "    \"\"\"\n",
    "    instead of using function acc = ComputeAccuracy(X, y, W, b)\n",
    "    and calculating P again lets use it from the from the prev. output\n",
    "    \n",
    "    Arguments:\n",
    "    P -- Probabilities of each class\n",
    "    Y -- Ground Truth\n",
    "    \n",
    "    Returns:\n",
    "    Accuracy -- Number of matches btw ground truth and predicions from probabilities\n",
    "    \"\"\"\n",
    "    predictions = np.argmax(P,axis=0)\n",
    "    groundtruth = np.argmax(Y,axis=0)\n",
    "    matches = np.sum(predictions == groundtruth)\n",
    "    total = len(predictions)\n",
    "    accuracy = (matches/float(total))\n",
    "    assert(P.shape == Y.shape)\n",
    "    return accuracy"
   ]
  },
  {
   "cell_type": "code",
   "execution_count": 18,
   "metadata": {},
   "outputs": [
    {
     "name": "stdout",
     "output_type": "stream",
     "text": [
      "Accuracy :0.2\n"
     ]
    }
   ],
   "source": [
    "accuracy = ComputeAccuracy(P, Y)\n",
    "print (\"Accuracy :\" +  str(accuracy))"
   ]
  },
  {
   "cell_type": "markdown",
   "metadata": {},
   "source": [
    "#### Exercise 1 - c\n",
    "<a id='Section_6'></a>\n",
    "\n",
    "## Computing the Gradients"
   ]
  },
  {
   "cell_type": "code",
   "execution_count": 19,
   "metadata": {},
   "outputs": [],
   "source": [
    "def ComputeGradients(X, Y, P, H_dic, parameters, lambd):\n",
    "    \"\"\" \n",
    "    G -- dJ/dZ - g for Batch\n",
    "    Z -- WX\n",
    "    grad_W1 -- dJ/dW\n",
    "    grad_b -- dJ/db\n",
    "    grad_L -- dJ/dL Regularization term\n",
    "    grad_W -- dJ/dW + Regularization term\n",
    "\n",
    "    Argumets:\n",
    "    X -- input data\n",
    "    Y -- Ground truth\n",
    "    P -- current probabilities/ Output Layer's output\n",
    "    H_dic -- Activation output/ Hidden Layer's output\n",
    "    parameters -- \n",
    "        W -- Current weights that generated the probabilities\n",
    "        b -- current bias\n",
    "    lambd -- lambda - Regularization term (to differ from the keyword itself)\n",
    "    \n",
    "    Returns:\n",
    "    cache -- gradiants of all parameters    \n",
    "    \"\"\"\n",
    "    \n",
    "    cache = {}\n",
    "    for param in parameters:\n",
    "        cache[param] = np.zeros_like(parameters[param])\n",
    "    layers = len(parameters)//2\n",
    "    \n",
    "    N = X.shape[1]\n",
    "\n",
    "    for i in range(N):\n",
    "        x = X[:,i].reshape(-1,1)\n",
    "        y = Y[:,i].reshape(-1,1)\n",
    "        p = P[:,i].reshape(-1,1)\n",
    "        g = -(y - p)\n",
    "        \n",
    "        for l in reversed(range(1,layers+1)):\n",
    "            H = H_dic[\"H\"+str(l)]\n",
    "            h = H[:,i].reshape(-1,1)\n",
    "\n",
    "            cache[\"b\"+str(l)] += g\n",
    "            cache[\"W\"+str(l)] += np.outer(g,h)    # or simply (g.dot(x.T)\n",
    "        \n",
    "            g = np.dot(parameters[\"W\"+str(l)].T, g)\n",
    "            positiveActivation = np.where(h > 0, 1, 0)\n",
    "            g = g * positiveActivation\n",
    "        \n",
    "        \n",
    "    for grad in cache:\n",
    "        cache[grad] /= N\n",
    "        if \"W\" in grad:\n",
    "            cache[grad] += 2 * lambd * parameters[grad]    #Regularization term\n",
    "           \n",
    "    return cache"
   ]
  },
  {
   "cell_type": "code",
   "execution_count": 39,
   "metadata": {},
   "outputs": [
    {
     "name": "stdout",
     "output_type": "stream",
     "text": [
      "[-0.16245629 -0.16224638 -0.16012765 ...  0.20085249  0.20509776\n",
      "  0.20795598]\n",
      "[-0.06100801 -0.05173963 -0.05023993 -0.04563679 -0.04326467 -0.03481827\n",
      " -0.03412603 -0.03192739 -0.02384964 -0.02247161 -0.02089362 -0.02056262\n",
      " -0.0169016  -0.01532781 -0.01415495 -0.01362494 -0.01243427 -0.01099306\n",
      " -0.01071956 -0.00945056 -0.00432955 -0.00431185 -0.00259802 -0.00045365\n",
      "  0.          0.00072989  0.00355656  0.0052583   0.00639368  0.01151787\n",
      "  0.01152571  0.01620925  0.0176183   0.02011322  0.02049868  0.02231926\n",
      "  0.02244     0.02260729  0.02462768  0.02492679  0.02568911  0.02697596\n",
      "  0.02827597  0.03179099  0.0416638   0.04640058  0.07616144  0.07815269\n",
      "  0.09832858]\n"
     ]
    }
   ],
   "source": [
    "cache = ComputeGradients(X, Y, P, H_dic, parameters, lambd)\n",
    "print (np.unique(cache[\"W1\"]))    #just to check if its not null\n",
    "print (np.unique(cache[\"b1\"]))"
   ]
  },
  {
   "cell_type": "markdown",
   "metadata": {},
   "source": [
    "## Gradient Checking"
   ]
  },
  {
   "cell_type": "code",
   "execution_count": 20,
   "metadata": {},
   "outputs": [],
   "source": [
    "def compute_grads_num(X, Y, parameters, BN=False):\n",
    "    \"\"\"\n",
    "    Numerical gradient descent using finite difference method. \n",
    "    \n",
    "    Arguments:\n",
    "    X -- Input dataset/ subset\n",
    "    Y -- Corresponding Ground Truth\n",
    "    parameters -- For all layers\n",
    "        W -- Current Weights\n",
    "        b -- current bias\n",
    "\n",
    "    Returns:\n",
    "    cache -- For all layers\n",
    "        W -- Numerical Gradient of W  \n",
    "        b -- Numerical Gradient of b\n",
    "    \"\"\"\n",
    "    N = X.shape[0]\n",
    "    cache = {}\n",
    "    for param in parameters:\n",
    "        cache[param] = np.zeros_like(parameters[param])\n",
    "    \n",
    "    h = 1e-7    #very small number by which you want to vary the params\n",
    "    if BN:\n",
    "        H, P, BN_params = EvaluateClassifier_BN(X, parameters, training=False, check=False)\n",
    "    else:    \n",
    "        H, P = EvaluateClassifier(X, parameters)\n",
    "    c = ComputeCost_CrossEntropy(P, Y, parameters)\n",
    "    \n",
    "    \n",
    "    for param in parameters:\n",
    "        if 'W' in param:\n",
    "            for i in tqdm(range(parameters[param].shape[0]), desc = param):\n",
    "                for j in range(parameters[param].shape[1]):\n",
    "                    parameters[param][i, j] += h    #change the weights and see if the cost reduces!\n",
    "                    if BN:\n",
    "                        H, P, BN_params = EvaluateClassifier_BN(X, parameters, training=False, check=False)\n",
    "                    else:\n",
    "                        H_dic, P = EvaluateClassifier(X, parameters) #!!!!As ComputeCost_CrossEntropy takes P directly, update it\n",
    "                    c2 = ComputeCost_CrossEntropy(P, Y, parameters)\n",
    "                    parameters[param][i, j] -= h\n",
    "                    cache[param][i, j] = (c2-c) / h; #if cost decreases, value negative,\n",
    "                                               #hence add this grad to W, ViceVersa\n",
    "        else:\n",
    "            for i in tqdm(range(parameters[param].shape[0]), desc = param):\n",
    "                parameters[param][i] += h;    #change the bias and see if the cost reduces!\n",
    "                if BN:\n",
    "                    H, P, BN_params = EvaluateClassifier_BN(X, parameters, training=False, check=False)\n",
    "                else:\n",
    "                    H_dic, P = EvaluateClassifier(X, parameters) #!!!!As ComputeCost_CrossEntropy takes P directly, update it\n",
    "                c2 = ComputeCost_CrossEntropy(P, Y, parameters)\n",
    "                parameters[param][i] -= h;\n",
    "                cache[param][i] = (c2-c) / h\n",
    "    \n",
    "    return cache"
   ]
  },
  {
   "cell_type": "code",
   "execution_count": 104,
   "metadata": {
    "scrolled": true
   },
   "outputs": [
    {
     "data": {
      "application/vnd.jupyter.widget-view+json": {
       "model_id": "6fbb2d0f25ee45c89598fa3ca722cedc",
       "version_major": 2,
       "version_minor": 0
      },
      "text/plain": [
       "HBox(children=(IntProgress(value=0, description='W1', max=50, style=ProgressStyle(description_width='initial')…"
      ]
     },
     "metadata": {},
     "output_type": "display_data"
    },
    {
     "name": "stdout",
     "output_type": "stream",
     "text": [
      "\n"
     ]
    },
    {
     "data": {
      "application/vnd.jupyter.widget-view+json": {
       "model_id": "30800db1885d494b85fc0cb4b56e72ac",
       "version_major": 2,
       "version_minor": 0
      },
      "text/plain": [
       "HBox(children=(IntProgress(value=0, description='b1', max=50, style=ProgressStyle(description_width='initial')…"
      ]
     },
     "metadata": {},
     "output_type": "display_data"
    },
    {
     "name": "stdout",
     "output_type": "stream",
     "text": [
      "\n"
     ]
    },
    {
     "data": {
      "application/vnd.jupyter.widget-view+json": {
       "model_id": "91532daa3fe848d0b2fa26720dc21ee2",
       "version_major": 2,
       "version_minor": 0
      },
      "text/plain": [
       "HBox(children=(IntProgress(value=0, description='W2', max=50, style=ProgressStyle(description_width='initial')…"
      ]
     },
     "metadata": {},
     "output_type": "display_data"
    },
    {
     "name": "stdout",
     "output_type": "stream",
     "text": [
      "\n"
     ]
    },
    {
     "data": {
      "application/vnd.jupyter.widget-view+json": {
       "model_id": "42778910f0b644cab4c8d61f85d73e18",
       "version_major": 2,
       "version_minor": 0
      },
      "text/plain": [
       "HBox(children=(IntProgress(value=0, description='b2', max=50, style=ProgressStyle(description_width='initial')…"
      ]
     },
     "metadata": {},
     "output_type": "display_data"
    },
    {
     "name": "stdout",
     "output_type": "stream",
     "text": [
      "\n"
     ]
    },
    {
     "data": {
      "application/vnd.jupyter.widget-view+json": {
       "model_id": "74bf59d9c6864cac909636ebdc5d9a79",
       "version_major": 2,
       "version_minor": 0
      },
      "text/plain": [
       "HBox(children=(IntProgress(value=0, description='W3', max=10, style=ProgressStyle(description_width='initial')…"
      ]
     },
     "metadata": {},
     "output_type": "display_data"
    },
    {
     "name": "stdout",
     "output_type": "stream",
     "text": [
      "\n"
     ]
    },
    {
     "data": {
      "application/vnd.jupyter.widget-view+json": {
       "model_id": "a292128ece1649579a2f3d426b9faef4",
       "version_major": 2,
       "version_minor": 0
      },
      "text/plain": [
       "HBox(children=(IntProgress(value=0, description='b3', max=10, style=ProgressStyle(description_width='initial')…"
      ]
     },
     "metadata": {},
     "output_type": "display_data"
    },
    {
     "name": "stdout",
     "output_type": "stream",
     "text": [
      "\n"
     ]
    }
   ],
   "source": [
    "cacheNum = compute_grads_num(X, Y, parameters)\n",
    "#print(np.unique(cacheNum[\"grad_W2\"]))    #Sanity check -- just to know they are not all 0's\n",
    "#print(np.unique(cacheNum[\"grad_b2\"]))"
   ]
  },
  {
   "cell_type": "code",
   "execution_count": 21,
   "metadata": {},
   "outputs": [],
   "source": [
    "def gradient_check(cache, cacheNum, epsilon):\n",
    "    \"\"\"\n",
    "    Calculating realtive error between analytically and numerically computed gradient\n",
    "    and checking if they are small. (smaller than epsilon)\n",
    "    \n",
    "    Order of the gradients does not matter\n",
    "    \n",
    "    Arguments:\n",
    "    cache -- Analytical gradient\n",
    "    cacheNum -- Numerical gradient\n",
    "    epsilon -- very small value by which gradNum and gradAnly could differ\n",
    "    \n",
    "    Returns:\n",
    "    None -- Prints relative error of gradAnly and gradNum\n",
    "    \"\"\"\n",
    "    for param in parameters:\n",
    "        #Weights\n",
    "        grad1 = cache[param]\n",
    "        grad2 = cacheNum[param]\n",
    "        difference = np.linalg.norm(grad1 - grad2)  #Could simply use np.abs(grad1 - grad2).sum()      \n",
    "        summation = np.linalg.norm(grad1) + np.linalg.norm(grad2)  #varitaion - 2.0988034043225143e-08 only\n",
    "        denominator = max(epsilon, summation)    #to avoid division by 0\n",
    "        relative_error = difference / denominator                                                     \n",
    "\n",
    "        if relative_error < 1e-6:\n",
    "            print(u'\\u2714  ' + \"The gradient for \" + param +\" is correct! \" + \n",
    "                  str(relative_error))\n",
    "        else:\n",
    "            print(\"Relative_error for \" + param + \" :\" + str(relative_error))\n",
    "            print(u'\\u2718  ' + \"The gradient is wrong!\")"
   ]
  },
  {
   "cell_type": "markdown",
   "metadata": {},
   "source": [
    "<a id='grad_check'></a>\n"
   ]
  },
  {
   "cell_type": "code",
   "execution_count": 106,
   "metadata": {},
   "outputs": [
    {
     "name": "stdout",
     "output_type": "stream",
     "text": [
      "✔  The gradient for W1 is correct! 6.068458350426685e-08\n",
      "✔  The gradient for b1 is correct! 7.030909958861439e-08\n",
      "✔  The gradient for W2 is correct! 5.434403289025853e-08\n",
      "✔  The gradient for b2 is correct! 5.4450257295145474e-08\n",
      "✔  The gradient for W3 is correct! 4.5614180340696807e-08\n",
      "✔  The gradient for b3 is correct! 4.866062345042113e-08\n"
     ]
    }
   ],
   "source": [
    "gradient_check(cache, cacheNum, 1e-6)   #check all gradients"
   ]
  },
  {
   "cell_type": "markdown",
   "metadata": {},
   "source": [
    " *Notice the increase in the difference between the analytic and gradient from W3 to W1. As mentioned in the instructions, it is the due the addition of the approximations of the backprop from the last layer to the first.*"
   ]
  },
  {
   "cell_type": "code",
   "execution_count": 22,
   "metadata": {},
   "outputs": [],
   "source": [
    "def update_params(parameters, cache, eta):\n",
    "    \"\"\"\n",
    "    Updating Weights and bias with the calculated gradients\n",
    "    \n",
    "    Arguments:\n",
    "    parameters -- For all layers\n",
    "        W -- prev. Weights\n",
    "        b -- prev. bias\n",
    "    eta -- learning rate\n",
    "    \n",
    "    Returns:\n",
    "    parameters -- For all layers\n",
    "        W -- updated Weights\n",
    "        b -- updated bias\n",
    "    \"\"\"\n",
    "    for param in parameters:\n",
    "        parameters[param] = parameters[param] - eta*cache[param]\n",
    "        \n",
    "    return parameters "
   ]
  },
  {
   "cell_type": "code",
   "execution_count": 43,
   "metadata": {},
   "outputs": [
    {
     "name": "stdout",
     "output_type": "stream",
     "text": [
      "[-0.09256288 -0.09231193 -0.08171193 ...  0.07447206  0.08020464\n",
      "  0.08218658]\n"
     ]
    }
   ],
   "source": [
    "parameters = update_params(parameters, cache, GDparams['eta'])\n",
    "print(np.unique(parameters[\"W1\"])) #just to check the variation\n",
    "# print(np.unique(parameters[\"b1\"]))\n",
    "# print(np.unique(parameters[\"W2\"]))\n",
    "# print(np.unique(parameters[\"b2\"]))"
   ]
  },
  {
   "cell_type": "markdown",
   "metadata": {},
   "source": [
    "#### Exercise 2 \n",
    "<a id='Section_7'></a>\n",
    "### Can I train multi-layer networks?\n",
    "## Mini Batch Gradient Descent"
   ]
  },
  {
   "cell_type": "code",
   "execution_count": 23,
   "metadata": {},
   "outputs": [],
   "source": [
    "def get_mini_batches(X, Y, n_batch): \n",
    "    \"\"\"\n",
    "    Convert the whole dataset into smaller chunks\n",
    "    \n",
    "    Arguments:\n",
    "    X -- Total input data\n",
    "    Y -- Corresponding ground truth\n",
    "    n_batch -- Number of samples in each batch (different from number of batches)\n",
    "    \n",
    "    Returns:\n",
    "    mini_batches -- collection of small datasets each of size atmost n_batch\n",
    "    \"\"\"\n",
    "    \n",
    "    mini_batches = []\n",
    "    X = X.T\n",
    "    Y = Y.T\n",
    "    data = np.hstack((X, Y)) \n",
    "    np.random.shuffle(data) \n",
    "    n_minibatches = data.shape[0] // n_batch \n",
    "    i = 0\n",
    "\n",
    "    for i in range(n_minibatches): #as n_minibatch is floor of data.shape[0]/n_batch\n",
    "        mini_batch = data[i * n_batch:(i + 1)*n_batch, :] \n",
    "        X_mini = mini_batch[:, :-10]\n",
    "        Y_mini = mini_batch[:, 3072:]     #if needed .reshape((mini_batch[0].shape,10))\n",
    "        mini_batches.append((X_mini, Y_mini)) \n",
    "\n",
    "    if data.shape[0] % n_batch != 0: \n",
    "        mini_batch = data[(i + 1)*n_batch:data.shape[0],:]\n",
    "        X_mini = mini_batch[:, :-10] \n",
    "        Y_mini = mini_batch[:, 3072:]     #if needed .reshape((mini_batch[0].shape,10))\n",
    "        mini_batches.append((X_mini, Y_mini)) \n",
    "\n",
    "    import math\n",
    "    assert(len(mini_batches) == math.ceil(float(X.shape[0])/n_batch))\n",
    "    return mini_batches  "
   ]
  },
  {
   "cell_type": "code",
   "execution_count": 24,
   "metadata": {},
   "outputs": [
    {
     "name": "stdout",
     "output_type": "stream",
     "text": [
      "Number of batches : 1\n"
     ]
    }
   ],
   "source": [
    "mini_batches = get_mini_batches(X, Y, GDparams['n_batch'])\n",
    "print(\"Number of batches :\", len(mini_batches))"
   ]
  },
  {
   "cell_type": "code",
   "execution_count": 25,
   "metadata": {},
   "outputs": [],
   "source": [
    "def MiniBatchGD(X,\n",
    "                Y,\n",
    "                X_val,\n",
    "                Y_val,\n",
    "                GDparams,\n",
    "                parameters,\n",
    "                lambd,\n",
    "                cyclic_params={},\n",
    "                debug=False):\n",
    "    \"\"\"\n",
    "    Perform Minibatch gradient descent shuffling at each iteration\n",
    "    \n",
    "    Argumets:\n",
    "    X -- Total train data\n",
    "    Y -- corresponding Ground truth\n",
    "    X_val -- Total validation data\n",
    "    Y_val -- corresponding Ground truth\n",
    "    GDparams -- batch size, number of epochs, learning rates\n",
    "    parameters -- For all layers\n",
    "        W -- initial Weights\n",
    "        b -- initial Bias\n",
    "\n",
    "    Returns:\n",
    "    parameters -- For all layers\n",
    "        W -- trained Weights\n",
    "        b -- trained bias\n",
    "    \"\"\"\n",
    "\n",
    "    #Set up the canvas to do live plotting of the training info\n",
    "    log = {\n",
    "        \"training loss\": [],\n",
    "        \"validation loss\": [],\n",
    "        \"training acc\": [],\n",
    "        \"validation acc\": [],\n",
    "        \"learning rate\": []\n",
    "    }  #using terms cost and loss interchangably\n",
    "    fig = plt.figure(figsize=(15, 3))  #must include %matplotlib notebook\n",
    "    Loss = fig.add_subplot(131)\n",
    "    Accuracy = fig.add_subplot(132)\n",
    "    Learning_rate = fig.add_subplot(133)\n",
    "\n",
    "    #plt.ion() #iteractive mode on\n",
    "    plt.subplot(131).set_title(\"Loss\")\n",
    "    plt.xlabel('Epoches', axes=Loss)\n",
    "    plt.ylabel('Loss', axes=Loss)\n",
    "    plt.subplot(132).set_title(\"Accuracy\")\n",
    "    plt.xlabel('Epoches', axes=Accuracy)\n",
    "    plt.ylabel('Accuracy', axes=Accuracy)\n",
    "    plt.subplot(133).set_title(\"Learning Rate\")\n",
    "    plt.xlabel('Steps', axes=Learning_rate)\n",
    "    plt.ylabel('eta', axes=Learning_rate)\n",
    "\n",
    "    fig.show()\n",
    "    fig.canvas.draw()\n",
    "\n",
    "    step = 0  #to display each step accuracy if needed\n",
    "    l = 0  #to keep track of the cyclic learning rate\n",
    "    for i in tqdm(range((GDparams['n_epochs']))):  #progress bar\n",
    "\n",
    "        mini_batches = get_mini_batches(\n",
    "            X, Y, GDparams['n_batch'])  #shuffled every iteration\n",
    "        for batch in mini_batches:\n",
    "            #do transpose again as we did earlier in mini_batch to stack'em up\n",
    "            X_b = batch[0].T\n",
    "            Y_b = batch[1].T\n",
    "            H_dic, P = EvaluateClassifier(\n",
    "                X_b, parameters)  # Get some predictions of the minibatch\n",
    "            #no need to calculate for each mini batch\n",
    "            cost = ComputeCost_CrossEntropy(\n",
    "                P, Y_b, parameters)  # Get the cost of these predictions\n",
    "            acc = ComputeAccuracy(P, Y_b)  # Get accuracy of predictions\n",
    "            cache = ComputeGradients(X_b, Y_b, P, H_dic, parameters,\n",
    "                                     lambd)  # Learn the mini batch\n",
    "\n",
    "            if len(cyclic_params) is not 0:\n",
    "                cyclic_params = cycle_eta(t=step,\n",
    "                                          l=l,\n",
    "                                          cyclic_params=cyclic_params,\n",
    "                                          debug=debug)\n",
    "                eta = cyclic_params['eta']\n",
    "                #if current is 2ns then next i.e 2ns+1 is in next cycle\n",
    "                if step > 0 and \\\n",
    "                   step %  (2 * cyclic_params['ns']) is 0:\n",
    "                    l += 1\n",
    "                    print(\"cycle\", l)\n",
    "\n",
    "            elif len(cyclic_params) is 0:\n",
    "                eta = GDparams['eta']\n",
    "\n",
    "            log[\"learning rate\"].append(eta)\n",
    "            parameters = update_params(parameters, cache,\n",
    "                                       eta)  # Tune the weights and bias\n",
    "            #print('Step ' + str(step) + \": Cost:\" + str(cost) + \" Accuracy: \" + str(acc))\n",
    "            step += 1\n",
    "\n",
    "        #check performance of new W, b on training data\n",
    "        H, P_train = EvaluateClassifier(X, parameters)\n",
    "        log[\"training loss\"].append(\n",
    "            ComputeCost_CrossEntropy(P_train, Y, parameters))\n",
    "        log[\"training acc\"].append(ComputeAccuracy(P_train, Y))\n",
    "\n",
    "        #check performance of new W, b on validation data\n",
    "        H, P_val = EvaluateClassifier(X_val, parameters)\n",
    "        log[\"validation loss\"].append(\n",
    "            ComputeCost_CrossEntropy(P_val, Y_val, parameters))\n",
    "        log[\"validation acc\"].append(ComputeAccuracy(P_val, Y_val))\n",
    "\n",
    "        #display the log\n",
    "        #sns.set() #seaborn for beautiful plots\n",
    "        #Loss.clear() #clear last epoch's plot\n",
    "        #Accuracy.clear()\n",
    "        Loss.plot(log[\"training loss\"], 'c', label=\"training\")\n",
    "        Loss.plot(log[\"validation loss\"], 'm', label=\"validation\")\n",
    "        Accuracy.plot(log[\"training acc\"], 'c', label=\"training\")\n",
    "        Accuracy.plot(log[\"validation acc\"], 'm', label=\"validation\")\n",
    "        Learning_rate.plot(log[\"learning rate\"], 'b')\n",
    "        if (i == 0):  #cant get it to work anyother way\n",
    "            Loss.legend()\n",
    "            Accuracy.legend()\n",
    "        fig.canvas.draw()  # draw\n",
    "\n",
    "    print(step, \" steps of training complete!\")\n",
    "    print(\"Training Accuracy \", log[\"training acc\"][-1], \"%\")\n",
    "    print(\"Training Loss \", log[\"training loss\"][-1])\n",
    "    print(\"Validation Accuracy: \", log[\"validation acc\"][-1], \"%\")\n",
    "    print(\"Validation Loss: \", log[\"validation loss\"][-1])\n",
    "\n",
    "    return parameters"
   ]
  },
  {
   "cell_type": "markdown",
   "metadata": {},
   "source": [
    "## Testing Mini-Batch by overfitting over small train set"
   ]
  },
  {
   "cell_type": "code",
   "execution_count": 50,
   "metadata": {
    "scrolled": true
   },
   "outputs": [
    {
     "data": {
      "application/javascript": [
       "/* Put everything inside the global mpl namespace */\n",
       "window.mpl = {};\n",
       "\n",
       "\n",
       "mpl.get_websocket_type = function() {\n",
       "    if (typeof(WebSocket) !== 'undefined') {\n",
       "        return WebSocket;\n",
       "    } else if (typeof(MozWebSocket) !== 'undefined') {\n",
       "        return MozWebSocket;\n",
       "    } else {\n",
       "        alert('Your browser does not have WebSocket support.' +\n",
       "              'Please try Chrome, Safari or Firefox ≥ 6. ' +\n",
       "              'Firefox 4 and 5 are also supported but you ' +\n",
       "              'have to enable WebSockets in about:config.');\n",
       "    };\n",
       "}\n",
       "\n",
       "mpl.figure = function(figure_id, websocket, ondownload, parent_element) {\n",
       "    this.id = figure_id;\n",
       "\n",
       "    this.ws = websocket;\n",
       "\n",
       "    this.supports_binary = (this.ws.binaryType != undefined);\n",
       "\n",
       "    if (!this.supports_binary) {\n",
       "        var warnings = document.getElementById(\"mpl-warnings\");\n",
       "        if (warnings) {\n",
       "            warnings.style.display = 'block';\n",
       "            warnings.textContent = (\n",
       "                \"This browser does not support binary websocket messages. \" +\n",
       "                    \"Performance may be slow.\");\n",
       "        }\n",
       "    }\n",
       "\n",
       "    this.imageObj = new Image();\n",
       "\n",
       "    this.context = undefined;\n",
       "    this.message = undefined;\n",
       "    this.canvas = undefined;\n",
       "    this.rubberband_canvas = undefined;\n",
       "    this.rubberband_context = undefined;\n",
       "    this.format_dropdown = undefined;\n",
       "\n",
       "    this.image_mode = 'full';\n",
       "\n",
       "    this.root = $('<div/>');\n",
       "    this._root_extra_style(this.root)\n",
       "    this.root.attr('style', 'display: inline-block');\n",
       "\n",
       "    $(parent_element).append(this.root);\n",
       "\n",
       "    this._init_header(this);\n",
       "    this._init_canvas(this);\n",
       "    this._init_toolbar(this);\n",
       "\n",
       "    var fig = this;\n",
       "\n",
       "    this.waiting = false;\n",
       "\n",
       "    this.ws.onopen =  function () {\n",
       "            fig.send_message(\"supports_binary\", {value: fig.supports_binary});\n",
       "            fig.send_message(\"send_image_mode\", {});\n",
       "            if (mpl.ratio != 1) {\n",
       "                fig.send_message(\"set_dpi_ratio\", {'dpi_ratio': mpl.ratio});\n",
       "            }\n",
       "            fig.send_message(\"refresh\", {});\n",
       "        }\n",
       "\n",
       "    this.imageObj.onload = function() {\n",
       "            if (fig.image_mode == 'full') {\n",
       "                // Full images could contain transparency (where diff images\n",
       "                // almost always do), so we need to clear the canvas so that\n",
       "                // there is no ghosting.\n",
       "                fig.context.clearRect(0, 0, fig.canvas.width, fig.canvas.height);\n",
       "            }\n",
       "            fig.context.drawImage(fig.imageObj, 0, 0);\n",
       "        };\n",
       "\n",
       "    this.imageObj.onunload = function() {\n",
       "        fig.ws.close();\n",
       "    }\n",
       "\n",
       "    this.ws.onmessage = this._make_on_message_function(this);\n",
       "\n",
       "    this.ondownload = ondownload;\n",
       "}\n",
       "\n",
       "mpl.figure.prototype._init_header = function() {\n",
       "    var titlebar = $(\n",
       "        '<div class=\"ui-dialog-titlebar ui-widget-header ui-corner-all ' +\n",
       "        'ui-helper-clearfix\"/>');\n",
       "    var titletext = $(\n",
       "        '<div class=\"ui-dialog-title\" style=\"width: 100%; ' +\n",
       "        'text-align: center; padding: 3px;\"/>');\n",
       "    titlebar.append(titletext)\n",
       "    this.root.append(titlebar);\n",
       "    this.header = titletext[0];\n",
       "}\n",
       "\n",
       "\n",
       "\n",
       "mpl.figure.prototype._canvas_extra_style = function(canvas_div) {\n",
       "\n",
       "}\n",
       "\n",
       "\n",
       "mpl.figure.prototype._root_extra_style = function(canvas_div) {\n",
       "\n",
       "}\n",
       "\n",
       "mpl.figure.prototype._init_canvas = function() {\n",
       "    var fig = this;\n",
       "\n",
       "    var canvas_div = $('<div/>');\n",
       "\n",
       "    canvas_div.attr('style', 'position: relative; clear: both; outline: 0');\n",
       "\n",
       "    function canvas_keyboard_event(event) {\n",
       "        return fig.key_event(event, event['data']);\n",
       "    }\n",
       "\n",
       "    canvas_div.keydown('key_press', canvas_keyboard_event);\n",
       "    canvas_div.keyup('key_release', canvas_keyboard_event);\n",
       "    this.canvas_div = canvas_div\n",
       "    this._canvas_extra_style(canvas_div)\n",
       "    this.root.append(canvas_div);\n",
       "\n",
       "    var canvas = $('<canvas/>');\n",
       "    canvas.addClass('mpl-canvas');\n",
       "    canvas.attr('style', \"left: 0; top: 0; z-index: 0; outline: 0\")\n",
       "\n",
       "    this.canvas = canvas[0];\n",
       "    this.context = canvas[0].getContext(\"2d\");\n",
       "\n",
       "    var backingStore = this.context.backingStorePixelRatio ||\n",
       "\tthis.context.webkitBackingStorePixelRatio ||\n",
       "\tthis.context.mozBackingStorePixelRatio ||\n",
       "\tthis.context.msBackingStorePixelRatio ||\n",
       "\tthis.context.oBackingStorePixelRatio ||\n",
       "\tthis.context.backingStorePixelRatio || 1;\n",
       "\n",
       "    mpl.ratio = (window.devicePixelRatio || 1) / backingStore;\n",
       "\n",
       "    var rubberband = $('<canvas/>');\n",
       "    rubberband.attr('style', \"position: absolute; left: 0; top: 0; z-index: 1;\")\n",
       "\n",
       "    var pass_mouse_events = true;\n",
       "\n",
       "    canvas_div.resizable({\n",
       "        start: function(event, ui) {\n",
       "            pass_mouse_events = false;\n",
       "        },\n",
       "        resize: function(event, ui) {\n",
       "            fig.request_resize(ui.size.width, ui.size.height);\n",
       "        },\n",
       "        stop: function(event, ui) {\n",
       "            pass_mouse_events = true;\n",
       "            fig.request_resize(ui.size.width, ui.size.height);\n",
       "        },\n",
       "    });\n",
       "\n",
       "    function mouse_event_fn(event) {\n",
       "        if (pass_mouse_events)\n",
       "            return fig.mouse_event(event, event['data']);\n",
       "    }\n",
       "\n",
       "    rubberband.mousedown('button_press', mouse_event_fn);\n",
       "    rubberband.mouseup('button_release', mouse_event_fn);\n",
       "    // Throttle sequential mouse events to 1 every 20ms.\n",
       "    rubberband.mousemove('motion_notify', mouse_event_fn);\n",
       "\n",
       "    rubberband.mouseenter('figure_enter', mouse_event_fn);\n",
       "    rubberband.mouseleave('figure_leave', mouse_event_fn);\n",
       "\n",
       "    canvas_div.on(\"wheel\", function (event) {\n",
       "        event = event.originalEvent;\n",
       "        event['data'] = 'scroll'\n",
       "        if (event.deltaY < 0) {\n",
       "            event.step = 1;\n",
       "        } else {\n",
       "            event.step = -1;\n",
       "        }\n",
       "        mouse_event_fn(event);\n",
       "    });\n",
       "\n",
       "    canvas_div.append(canvas);\n",
       "    canvas_div.append(rubberband);\n",
       "\n",
       "    this.rubberband = rubberband;\n",
       "    this.rubberband_canvas = rubberband[0];\n",
       "    this.rubberband_context = rubberband[0].getContext(\"2d\");\n",
       "    this.rubberband_context.strokeStyle = \"#000000\";\n",
       "\n",
       "    this._resize_canvas = function(width, height) {\n",
       "        // Keep the size of the canvas, canvas container, and rubber band\n",
       "        // canvas in synch.\n",
       "        canvas_div.css('width', width)\n",
       "        canvas_div.css('height', height)\n",
       "\n",
       "        canvas.attr('width', width * mpl.ratio);\n",
       "        canvas.attr('height', height * mpl.ratio);\n",
       "        canvas.attr('style', 'width: ' + width + 'px; height: ' + height + 'px;');\n",
       "\n",
       "        rubberband.attr('width', width);\n",
       "        rubberband.attr('height', height);\n",
       "    }\n",
       "\n",
       "    // Set the figure to an initial 600x600px, this will subsequently be updated\n",
       "    // upon first draw.\n",
       "    this._resize_canvas(600, 600);\n",
       "\n",
       "    // Disable right mouse context menu.\n",
       "    $(this.rubberband_canvas).bind(\"contextmenu\",function(e){\n",
       "        return false;\n",
       "    });\n",
       "\n",
       "    function set_focus () {\n",
       "        canvas.focus();\n",
       "        canvas_div.focus();\n",
       "    }\n",
       "\n",
       "    window.setTimeout(set_focus, 100);\n",
       "}\n",
       "\n",
       "mpl.figure.prototype._init_toolbar = function() {\n",
       "    var fig = this;\n",
       "\n",
       "    var nav_element = $('<div/>')\n",
       "    nav_element.attr('style', 'width: 100%');\n",
       "    this.root.append(nav_element);\n",
       "\n",
       "    // Define a callback function for later on.\n",
       "    function toolbar_event(event) {\n",
       "        return fig.toolbar_button_onclick(event['data']);\n",
       "    }\n",
       "    function toolbar_mouse_event(event) {\n",
       "        return fig.toolbar_button_onmouseover(event['data']);\n",
       "    }\n",
       "\n",
       "    for(var toolbar_ind in mpl.toolbar_items) {\n",
       "        var name = mpl.toolbar_items[toolbar_ind][0];\n",
       "        var tooltip = mpl.toolbar_items[toolbar_ind][1];\n",
       "        var image = mpl.toolbar_items[toolbar_ind][2];\n",
       "        var method_name = mpl.toolbar_items[toolbar_ind][3];\n",
       "\n",
       "        if (!name) {\n",
       "            // put a spacer in here.\n",
       "            continue;\n",
       "        }\n",
       "        var button = $('<button/>');\n",
       "        button.addClass('ui-button ui-widget ui-state-default ui-corner-all ' +\n",
       "                        'ui-button-icon-only');\n",
       "        button.attr('role', 'button');\n",
       "        button.attr('aria-disabled', 'false');\n",
       "        button.click(method_name, toolbar_event);\n",
       "        button.mouseover(tooltip, toolbar_mouse_event);\n",
       "\n",
       "        var icon_img = $('<span/>');\n",
       "        icon_img.addClass('ui-button-icon-primary ui-icon');\n",
       "        icon_img.addClass(image);\n",
       "        icon_img.addClass('ui-corner-all');\n",
       "\n",
       "        var tooltip_span = $('<span/>');\n",
       "        tooltip_span.addClass('ui-button-text');\n",
       "        tooltip_span.html(tooltip);\n",
       "\n",
       "        button.append(icon_img);\n",
       "        button.append(tooltip_span);\n",
       "\n",
       "        nav_element.append(button);\n",
       "    }\n",
       "\n",
       "    var fmt_picker_span = $('<span/>');\n",
       "\n",
       "    var fmt_picker = $('<select/>');\n",
       "    fmt_picker.addClass('mpl-toolbar-option ui-widget ui-widget-content');\n",
       "    fmt_picker_span.append(fmt_picker);\n",
       "    nav_element.append(fmt_picker_span);\n",
       "    this.format_dropdown = fmt_picker[0];\n",
       "\n",
       "    for (var ind in mpl.extensions) {\n",
       "        var fmt = mpl.extensions[ind];\n",
       "        var option = $(\n",
       "            '<option/>', {selected: fmt === mpl.default_extension}).html(fmt);\n",
       "        fmt_picker.append(option)\n",
       "    }\n",
       "\n",
       "    // Add hover states to the ui-buttons\n",
       "    $( \".ui-button\" ).hover(\n",
       "        function() { $(this).addClass(\"ui-state-hover\");},\n",
       "        function() { $(this).removeClass(\"ui-state-hover\");}\n",
       "    );\n",
       "\n",
       "    var status_bar = $('<span class=\"mpl-message\"/>');\n",
       "    nav_element.append(status_bar);\n",
       "    this.message = status_bar[0];\n",
       "}\n",
       "\n",
       "mpl.figure.prototype.request_resize = function(x_pixels, y_pixels) {\n",
       "    // Request matplotlib to resize the figure. Matplotlib will then trigger a resize in the client,\n",
       "    // which will in turn request a refresh of the image.\n",
       "    this.send_message('resize', {'width': x_pixels, 'height': y_pixels});\n",
       "}\n",
       "\n",
       "mpl.figure.prototype.send_message = function(type, properties) {\n",
       "    properties['type'] = type;\n",
       "    properties['figure_id'] = this.id;\n",
       "    this.ws.send(JSON.stringify(properties));\n",
       "}\n",
       "\n",
       "mpl.figure.prototype.send_draw_message = function() {\n",
       "    if (!this.waiting) {\n",
       "        this.waiting = true;\n",
       "        this.ws.send(JSON.stringify({type: \"draw\", figure_id: this.id}));\n",
       "    }\n",
       "}\n",
       "\n",
       "\n",
       "mpl.figure.prototype.handle_save = function(fig, msg) {\n",
       "    var format_dropdown = fig.format_dropdown;\n",
       "    var format = format_dropdown.options[format_dropdown.selectedIndex].value;\n",
       "    fig.ondownload(fig, format);\n",
       "}\n",
       "\n",
       "\n",
       "mpl.figure.prototype.handle_resize = function(fig, msg) {\n",
       "    var size = msg['size'];\n",
       "    if (size[0] != fig.canvas.width || size[1] != fig.canvas.height) {\n",
       "        fig._resize_canvas(size[0], size[1]);\n",
       "        fig.send_message(\"refresh\", {});\n",
       "    };\n",
       "}\n",
       "\n",
       "mpl.figure.prototype.handle_rubberband = function(fig, msg) {\n",
       "    var x0 = msg['x0'] / mpl.ratio;\n",
       "    var y0 = (fig.canvas.height - msg['y0']) / mpl.ratio;\n",
       "    var x1 = msg['x1'] / mpl.ratio;\n",
       "    var y1 = (fig.canvas.height - msg['y1']) / mpl.ratio;\n",
       "    x0 = Math.floor(x0) + 0.5;\n",
       "    y0 = Math.floor(y0) + 0.5;\n",
       "    x1 = Math.floor(x1) + 0.5;\n",
       "    y1 = Math.floor(y1) + 0.5;\n",
       "    var min_x = Math.min(x0, x1);\n",
       "    var min_y = Math.min(y0, y1);\n",
       "    var width = Math.abs(x1 - x0);\n",
       "    var height = Math.abs(y1 - y0);\n",
       "\n",
       "    fig.rubberband_context.clearRect(\n",
       "        0, 0, fig.canvas.width, fig.canvas.height);\n",
       "\n",
       "    fig.rubberband_context.strokeRect(min_x, min_y, width, height);\n",
       "}\n",
       "\n",
       "mpl.figure.prototype.handle_figure_label = function(fig, msg) {\n",
       "    // Updates the figure title.\n",
       "    fig.header.textContent = msg['label'];\n",
       "}\n",
       "\n",
       "mpl.figure.prototype.handle_cursor = function(fig, msg) {\n",
       "    var cursor = msg['cursor'];\n",
       "    switch(cursor)\n",
       "    {\n",
       "    case 0:\n",
       "        cursor = 'pointer';\n",
       "        break;\n",
       "    case 1:\n",
       "        cursor = 'default';\n",
       "        break;\n",
       "    case 2:\n",
       "        cursor = 'crosshair';\n",
       "        break;\n",
       "    case 3:\n",
       "        cursor = 'move';\n",
       "        break;\n",
       "    }\n",
       "    fig.rubberband_canvas.style.cursor = cursor;\n",
       "}\n",
       "\n",
       "mpl.figure.prototype.handle_message = function(fig, msg) {\n",
       "    fig.message.textContent = msg['message'];\n",
       "}\n",
       "\n",
       "mpl.figure.prototype.handle_draw = function(fig, msg) {\n",
       "    // Request the server to send over a new figure.\n",
       "    fig.send_draw_message();\n",
       "}\n",
       "\n",
       "mpl.figure.prototype.handle_image_mode = function(fig, msg) {\n",
       "    fig.image_mode = msg['mode'];\n",
       "}\n",
       "\n",
       "mpl.figure.prototype.updated_canvas_event = function() {\n",
       "    // Called whenever the canvas gets updated.\n",
       "    this.send_message(\"ack\", {});\n",
       "}\n",
       "\n",
       "// A function to construct a web socket function for onmessage handling.\n",
       "// Called in the figure constructor.\n",
       "mpl.figure.prototype._make_on_message_function = function(fig) {\n",
       "    return function socket_on_message(evt) {\n",
       "        if (evt.data instanceof Blob) {\n",
       "            /* FIXME: We get \"Resource interpreted as Image but\n",
       "             * transferred with MIME type text/plain:\" errors on\n",
       "             * Chrome.  But how to set the MIME type?  It doesn't seem\n",
       "             * to be part of the websocket stream */\n",
       "            evt.data.type = \"image/png\";\n",
       "\n",
       "            /* Free the memory for the previous frames */\n",
       "            if (fig.imageObj.src) {\n",
       "                (window.URL || window.webkitURL).revokeObjectURL(\n",
       "                    fig.imageObj.src);\n",
       "            }\n",
       "\n",
       "            fig.imageObj.src = (window.URL || window.webkitURL).createObjectURL(\n",
       "                evt.data);\n",
       "            fig.updated_canvas_event();\n",
       "            fig.waiting = false;\n",
       "            return;\n",
       "        }\n",
       "        else if (typeof evt.data === 'string' && evt.data.slice(0, 21) == \"data:image/png;base64\") {\n",
       "            fig.imageObj.src = evt.data;\n",
       "            fig.updated_canvas_event();\n",
       "            fig.waiting = false;\n",
       "            return;\n",
       "        }\n",
       "\n",
       "        var msg = JSON.parse(evt.data);\n",
       "        var msg_type = msg['type'];\n",
       "\n",
       "        // Call the  \"handle_{type}\" callback, which takes\n",
       "        // the figure and JSON message as its only arguments.\n",
       "        try {\n",
       "            var callback = fig[\"handle_\" + msg_type];\n",
       "        } catch (e) {\n",
       "            console.log(\"No handler for the '\" + msg_type + \"' message type: \", msg);\n",
       "            return;\n",
       "        }\n",
       "\n",
       "        if (callback) {\n",
       "            try {\n",
       "                // console.log(\"Handling '\" + msg_type + \"' message: \", msg);\n",
       "                callback(fig, msg);\n",
       "            } catch (e) {\n",
       "                console.log(\"Exception inside the 'handler_\" + msg_type + \"' callback:\", e, e.stack, msg);\n",
       "            }\n",
       "        }\n",
       "    };\n",
       "}\n",
       "\n",
       "// from http://stackoverflow.com/questions/1114465/getting-mouse-location-in-canvas\n",
       "mpl.findpos = function(e) {\n",
       "    //this section is from http://www.quirksmode.org/js/events_properties.html\n",
       "    var targ;\n",
       "    if (!e)\n",
       "        e = window.event;\n",
       "    if (e.target)\n",
       "        targ = e.target;\n",
       "    else if (e.srcElement)\n",
       "        targ = e.srcElement;\n",
       "    if (targ.nodeType == 3) // defeat Safari bug\n",
       "        targ = targ.parentNode;\n",
       "\n",
       "    // jQuery normalizes the pageX and pageY\n",
       "    // pageX,Y are the mouse positions relative to the document\n",
       "    // offset() returns the position of the element relative to the document\n",
       "    var x = e.pageX - $(targ).offset().left;\n",
       "    var y = e.pageY - $(targ).offset().top;\n",
       "\n",
       "    return {\"x\": x, \"y\": y};\n",
       "};\n",
       "\n",
       "/*\n",
       " * return a copy of an object with only non-object keys\n",
       " * we need this to avoid circular references\n",
       " * http://stackoverflow.com/a/24161582/3208463\n",
       " */\n",
       "function simpleKeys (original) {\n",
       "  return Object.keys(original).reduce(function (obj, key) {\n",
       "    if (typeof original[key] !== 'object')\n",
       "        obj[key] = original[key]\n",
       "    return obj;\n",
       "  }, {});\n",
       "}\n",
       "\n",
       "mpl.figure.prototype.mouse_event = function(event, name) {\n",
       "    var canvas_pos = mpl.findpos(event)\n",
       "\n",
       "    if (name === 'button_press')\n",
       "    {\n",
       "        this.canvas.focus();\n",
       "        this.canvas_div.focus();\n",
       "    }\n",
       "\n",
       "    var x = canvas_pos.x * mpl.ratio;\n",
       "    var y = canvas_pos.y * mpl.ratio;\n",
       "\n",
       "    this.send_message(name, {x: x, y: y, button: event.button,\n",
       "                             step: event.step,\n",
       "                             guiEvent: simpleKeys(event)});\n",
       "\n",
       "    /* This prevents the web browser from automatically changing to\n",
       "     * the text insertion cursor when the button is pressed.  We want\n",
       "     * to control all of the cursor setting manually through the\n",
       "     * 'cursor' event from matplotlib */\n",
       "    event.preventDefault();\n",
       "    return false;\n",
       "}\n",
       "\n",
       "mpl.figure.prototype._key_event_extra = function(event, name) {\n",
       "    // Handle any extra behaviour associated with a key event\n",
       "}\n",
       "\n",
       "mpl.figure.prototype.key_event = function(event, name) {\n",
       "\n",
       "    // Prevent repeat events\n",
       "    if (name == 'key_press')\n",
       "    {\n",
       "        if (event.which === this._key)\n",
       "            return;\n",
       "        else\n",
       "            this._key = event.which;\n",
       "    }\n",
       "    if (name == 'key_release')\n",
       "        this._key = null;\n",
       "\n",
       "    var value = '';\n",
       "    if (event.ctrlKey && event.which != 17)\n",
       "        value += \"ctrl+\";\n",
       "    if (event.altKey && event.which != 18)\n",
       "        value += \"alt+\";\n",
       "    if (event.shiftKey && event.which != 16)\n",
       "        value += \"shift+\";\n",
       "\n",
       "    value += 'k';\n",
       "    value += event.which.toString();\n",
       "\n",
       "    this._key_event_extra(event, name);\n",
       "\n",
       "    this.send_message(name, {key: value,\n",
       "                             guiEvent: simpleKeys(event)});\n",
       "    return false;\n",
       "}\n",
       "\n",
       "mpl.figure.prototype.toolbar_button_onclick = function(name) {\n",
       "    if (name == 'download') {\n",
       "        this.handle_save(this, null);\n",
       "    } else {\n",
       "        this.send_message(\"toolbar_button\", {name: name});\n",
       "    }\n",
       "};\n",
       "\n",
       "mpl.figure.prototype.toolbar_button_onmouseover = function(tooltip) {\n",
       "    this.message.textContent = tooltip;\n",
       "};\n",
       "mpl.toolbar_items = [[\"Home\", \"Reset original view\", \"fa fa-home icon-home\", \"home\"], [\"Back\", \"Back to previous view\", \"fa fa-arrow-left icon-arrow-left\", \"back\"], [\"Forward\", \"Forward to next view\", \"fa fa-arrow-right icon-arrow-right\", \"forward\"], [\"\", \"\", \"\", \"\"], [\"Pan\", \"Pan axes with left mouse, zoom with right\", \"fa fa-arrows icon-move\", \"pan\"], [\"Zoom\", \"Zoom to rectangle\", \"fa fa-square-o icon-check-empty\", \"zoom\"], [\"\", \"\", \"\", \"\"], [\"Download\", \"Download plot\", \"fa fa-floppy-o icon-save\", \"download\"]];\n",
       "\n",
       "mpl.extensions = [\"eps\", \"jpeg\", \"pdf\", \"png\", \"ps\", \"raw\", \"svg\", \"tif\"];\n",
       "\n",
       "mpl.default_extension = \"png\";var comm_websocket_adapter = function(comm) {\n",
       "    // Create a \"websocket\"-like object which calls the given IPython comm\n",
       "    // object with the appropriate methods. Currently this is a non binary\n",
       "    // socket, so there is still some room for performance tuning.\n",
       "    var ws = {};\n",
       "\n",
       "    ws.close = function() {\n",
       "        comm.close()\n",
       "    };\n",
       "    ws.send = function(m) {\n",
       "        //console.log('sending', m);\n",
       "        comm.send(m);\n",
       "    };\n",
       "    // Register the callback with on_msg.\n",
       "    comm.on_msg(function(msg) {\n",
       "        //console.log('receiving', msg['content']['data'], msg);\n",
       "        // Pass the mpl event to the overridden (by mpl) onmessage function.\n",
       "        ws.onmessage(msg['content']['data'])\n",
       "    });\n",
       "    return ws;\n",
       "}\n",
       "\n",
       "mpl.mpl_figure_comm = function(comm, msg) {\n",
       "    // This is the function which gets called when the mpl process\n",
       "    // starts-up an IPython Comm through the \"matplotlib\" channel.\n",
       "\n",
       "    var id = msg.content.data.id;\n",
       "    // Get hold of the div created by the display call when the Comm\n",
       "    // socket was opened in Python.\n",
       "    var element = $(\"#\" + id);\n",
       "    var ws_proxy = comm_websocket_adapter(comm)\n",
       "\n",
       "    function ondownload(figure, format) {\n",
       "        window.open(figure.imageObj.src);\n",
       "    }\n",
       "\n",
       "    var fig = new mpl.figure(id, ws_proxy,\n",
       "                           ondownload,\n",
       "                           element.get(0));\n",
       "\n",
       "    // Call onopen now - mpl needs it, as it is assuming we've passed it a real\n",
       "    // web socket which is closed, not our websocket->open comm proxy.\n",
       "    ws_proxy.onopen();\n",
       "\n",
       "    fig.parent_element = element.get(0);\n",
       "    fig.cell_info = mpl.find_output_cell(\"<div id='\" + id + \"'></div>\");\n",
       "    if (!fig.cell_info) {\n",
       "        console.error(\"Failed to find cell for figure\", id, fig);\n",
       "        return;\n",
       "    }\n",
       "\n",
       "    var output_index = fig.cell_info[2]\n",
       "    var cell = fig.cell_info[0];\n",
       "\n",
       "};\n",
       "\n",
       "mpl.figure.prototype.handle_close = function(fig, msg) {\n",
       "    var width = fig.canvas.width/mpl.ratio\n",
       "    fig.root.unbind('remove')\n",
       "\n",
       "    // Update the output cell to use the data from the current canvas.\n",
       "    fig.push_to_output();\n",
       "    var dataURL = fig.canvas.toDataURL();\n",
       "    // Re-enable the keyboard manager in IPython - without this line, in FF,\n",
       "    // the notebook keyboard shortcuts fail.\n",
       "    IPython.keyboard_manager.enable()\n",
       "    $(fig.parent_element).html('<img src=\"' + dataURL + '\" width=\"' + width + '\">');\n",
       "    fig.close_ws(fig, msg);\n",
       "}\n",
       "\n",
       "mpl.figure.prototype.close_ws = function(fig, msg){\n",
       "    fig.send_message('closing', msg);\n",
       "    // fig.ws.close()\n",
       "}\n",
       "\n",
       "mpl.figure.prototype.push_to_output = function(remove_interactive) {\n",
       "    // Turn the data on the canvas into data in the output cell.\n",
       "    var width = this.canvas.width/mpl.ratio\n",
       "    var dataURL = this.canvas.toDataURL();\n",
       "    this.cell_info[1]['text/html'] = '<img src=\"' + dataURL + '\" width=\"' + width + '\">';\n",
       "}\n",
       "\n",
       "mpl.figure.prototype.updated_canvas_event = function() {\n",
       "    // Tell IPython that the notebook contents must change.\n",
       "    IPython.notebook.set_dirty(true);\n",
       "    this.send_message(\"ack\", {});\n",
       "    var fig = this;\n",
       "    // Wait a second, then push the new image to the DOM so\n",
       "    // that it is saved nicely (might be nice to debounce this).\n",
       "    setTimeout(function () { fig.push_to_output() }, 1000);\n",
       "}\n",
       "\n",
       "mpl.figure.prototype._init_toolbar = function() {\n",
       "    var fig = this;\n",
       "\n",
       "    var nav_element = $('<div/>')\n",
       "    nav_element.attr('style', 'width: 100%');\n",
       "    this.root.append(nav_element);\n",
       "\n",
       "    // Define a callback function for later on.\n",
       "    function toolbar_event(event) {\n",
       "        return fig.toolbar_button_onclick(event['data']);\n",
       "    }\n",
       "    function toolbar_mouse_event(event) {\n",
       "        return fig.toolbar_button_onmouseover(event['data']);\n",
       "    }\n",
       "\n",
       "    for(var toolbar_ind in mpl.toolbar_items){\n",
       "        var name = mpl.toolbar_items[toolbar_ind][0];\n",
       "        var tooltip = mpl.toolbar_items[toolbar_ind][1];\n",
       "        var image = mpl.toolbar_items[toolbar_ind][2];\n",
       "        var method_name = mpl.toolbar_items[toolbar_ind][3];\n",
       "\n",
       "        if (!name) { continue; };\n",
       "\n",
       "        var button = $('<button class=\"btn btn-default\" href=\"#\" title=\"' + name + '\"><i class=\"fa ' + image + ' fa-lg\"></i></button>');\n",
       "        button.click(method_name, toolbar_event);\n",
       "        button.mouseover(tooltip, toolbar_mouse_event);\n",
       "        nav_element.append(button);\n",
       "    }\n",
       "\n",
       "    // Add the status bar.\n",
       "    var status_bar = $('<span class=\"mpl-message\" style=\"text-align:right; float: right;\"/>');\n",
       "    nav_element.append(status_bar);\n",
       "    this.message = status_bar[0];\n",
       "\n",
       "    // Add the close button to the window.\n",
       "    var buttongrp = $('<div class=\"btn-group inline pull-right\"></div>');\n",
       "    var button = $('<button class=\"btn btn-mini btn-primary\" href=\"#\" title=\"Stop Interaction\"><i class=\"fa fa-power-off icon-remove icon-large\"></i></button>');\n",
       "    button.click(function (evt) { fig.handle_close(fig, {}); } );\n",
       "    button.mouseover('Stop Interaction', toolbar_mouse_event);\n",
       "    buttongrp.append(button);\n",
       "    var titlebar = this.root.find($('.ui-dialog-titlebar'));\n",
       "    titlebar.prepend(buttongrp);\n",
       "}\n",
       "\n",
       "mpl.figure.prototype._root_extra_style = function(el){\n",
       "    var fig = this\n",
       "    el.on(\"remove\", function(){\n",
       "\tfig.close_ws(fig, {});\n",
       "    });\n",
       "}\n",
       "\n",
       "mpl.figure.prototype._canvas_extra_style = function(el){\n",
       "    // this is important to make the div 'focusable\n",
       "    el.attr('tabindex', 0)\n",
       "    // reach out to IPython and tell the keyboard manager to turn it's self\n",
       "    // off when our div gets focus\n",
       "\n",
       "    // location in version 3\n",
       "    if (IPython.notebook.keyboard_manager) {\n",
       "        IPython.notebook.keyboard_manager.register_events(el);\n",
       "    }\n",
       "    else {\n",
       "        // location in version 2\n",
       "        IPython.keyboard_manager.register_events(el);\n",
       "    }\n",
       "\n",
       "}\n",
       "\n",
       "mpl.figure.prototype._key_event_extra = function(event, name) {\n",
       "    var manager = IPython.notebook.keyboard_manager;\n",
       "    if (!manager)\n",
       "        manager = IPython.keyboard_manager;\n",
       "\n",
       "    // Check for shift+enter\n",
       "    if (event.shiftKey && event.which == 13) {\n",
       "        this.canvas_div.blur();\n",
       "        event.shiftKey = false;\n",
       "        // Send a \"J\" for go to next cell\n",
       "        event.which = 74;\n",
       "        event.keyCode = 74;\n",
       "        manager.command_mode();\n",
       "        manager.handle_keydown(event);\n",
       "    }\n",
       "}\n",
       "\n",
       "mpl.figure.prototype.handle_save = function(fig, msg) {\n",
       "    fig.ondownload(fig, null);\n",
       "}\n",
       "\n",
       "\n",
       "mpl.find_output_cell = function(html_output) {\n",
       "    // Return the cell and output element which can be found *uniquely* in the notebook.\n",
       "    // Note - this is a bit hacky, but it is done because the \"notebook_saving.Notebook\"\n",
       "    // IPython event is triggered only after the cells have been serialised, which for\n",
       "    // our purposes (turning an active figure into a static one), is too late.\n",
       "    var cells = IPython.notebook.get_cells();\n",
       "    var ncells = cells.length;\n",
       "    for (var i=0; i<ncells; i++) {\n",
       "        var cell = cells[i];\n",
       "        if (cell.cell_type === 'code'){\n",
       "            for (var j=0; j<cell.output_area.outputs.length; j++) {\n",
       "                var data = cell.output_area.outputs[j];\n",
       "                if (data.data) {\n",
       "                    // IPython >= 3 moved mimebundle to data attribute of output\n",
       "                    data = data.data;\n",
       "                }\n",
       "                if (data['text/html'] == html_output) {\n",
       "                    return [cell, data, j];\n",
       "                }\n",
       "            }\n",
       "        }\n",
       "    }\n",
       "}\n",
       "\n",
       "// Register the function which deals with the matplotlib target/channel.\n",
       "// The kernel may be null if the page has been refreshed.\n",
       "if (IPython.notebook.kernel != null) {\n",
       "    IPython.notebook.kernel.comm_manager.register_target('matplotlib', mpl.mpl_figure_comm);\n",
       "}\n"
      ],
      "text/plain": [
       "<IPython.core.display.Javascript object>"
      ]
     },
     "metadata": {},
     "output_type": "display_data"
    },
    {
     "data": {
      "text/html": [
       "<img src=\"data:image/png;base64,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\" width=\"1080\">"
      ],
      "text/plain": [
       "<IPython.core.display.HTML object>"
      ]
     },
     "metadata": {},
     "output_type": "display_data"
    },
    {
     "data": {
      "application/vnd.jupyter.widget-view+json": {
       "model_id": "4b768d1abdf64c998f1bcd93372b2cbb",
       "version_major": 2,
       "version_minor": 0
      },
      "text/plain": [
       "HBox(children=(IntProgress(value=0, max=200), HTML(value='')))"
      ]
     },
     "metadata": {},
     "output_type": "display_data"
    },
    {
     "name": "stdout",
     "output_type": "stream",
     "text": [
      "Training complete!\n",
      "Training Accuracy  1.0 %\n",
      "Training Loss  0.0011607790865330384\n",
      "Validation Accuracy:  0.1811 %\n",
      "Validation Loss:  5.195455381982359\n"
     ]
    }
   ],
   "source": [
    "%matplotlib notebook\n",
    "#Constants\n",
    "N = 100\n",
    "d = num_px\n",
    "K = len(classes)\n",
    "layer_dims = [num_px, 50, 50, K]\n",
    "X, Y, parameters, GDparams, lambd, _ = initialize_parameters(N, layer_dims, he_var=2)\n",
    "#Overriding the GDparams\n",
    "GDparams = {}\n",
    "GDparams['n_batch'] = 10\n",
    "GDparams['eta'] = 0.01\n",
    "GDparams['n_epochs'] = 200\n",
    "lambd = 0\n",
    "trained_parameters = MiniBatchGD(X, Y, valid_x, valid_y, GDparams, parameters, lambd)"
   ]
  },
  {
   "cell_type": "code",
   "execution_count": 31,
   "metadata": {},
   "outputs": [
    {
     "ename": "NameError",
     "evalue": "name 'trained_parameters' is not defined",
     "output_type": "error",
     "traceback": [
      "\u001b[0;31m---------------------------------------------------------------------------\u001b[0m",
      "\u001b[0;31mNameError\u001b[0m                                 Traceback (most recent call last)",
      "\u001b[0;32m<ipython-input-31-6ad955bcba42>\u001b[0m in \u001b[0;36m<module>\u001b[0;34m\u001b[0m\n\u001b[0;32m----> 1\u001b[0;31m \u001b[0mH\u001b[0m\u001b[0;34m,\u001b[0m \u001b[0mP_test\u001b[0m \u001b[0;34m=\u001b[0m \u001b[0mEvaluateClassifier\u001b[0m\u001b[0;34m(\u001b[0m\u001b[0mtest_x\u001b[0m\u001b[0;34m,\u001b[0m \u001b[0mtrained_parameters\u001b[0m\u001b[0;34m)\u001b[0m\u001b[0;34m\u001b[0m\u001b[0;34m\u001b[0m\u001b[0m\n\u001b[0m\u001b[1;32m      2\u001b[0m print(\"Loss on the test dataset :\",\n\u001b[1;32m      3\u001b[0m       ComputeCost_CrossEntropy(P_test, test_y, trained_parameters))\n\u001b[1;32m      4\u001b[0m \u001b[0mprint\u001b[0m\u001b[0;34m(\u001b[0m\u001b[0;34m\"Accuracy on the test datset :\"\u001b[0m\u001b[0;34m,\u001b[0m \u001b[0mComputeAccuracy\u001b[0m\u001b[0;34m(\u001b[0m\u001b[0mP_test\u001b[0m\u001b[0;34m,\u001b[0m \u001b[0mtest_y\u001b[0m\u001b[0;34m)\u001b[0m\u001b[0;34m)\u001b[0m\u001b[0;34m\u001b[0m\u001b[0;34m\u001b[0m\u001b[0m\n",
      "\u001b[0;31mNameError\u001b[0m: name 'trained_parameters' is not defined"
     ]
    }
   ],
   "source": [
    "H, P_test = EvaluateClassifier(test_x, trained_parameters)\n",
    "print(\"Loss on the test dataset :\",\n",
    "      ComputeCost_CrossEntropy(P_test, test_y, trained_parameters))\n",
    "print(\"Accuracy on the test datset :\", ComputeAccuracy(P_test, test_y))"
   ]
  },
  {
   "cell_type": "markdown",
   "metadata": {},
   "source": [
    "### To visualize False Positives and True Negatives\n",
    "<a id='bestPredictions'></a>"
   ]
  },
  {
   "cell_type": "code",
   "execution_count": 52,
   "metadata": {},
   "outputs": [
    {
     "data": {
      "image/png": "[encoded data removed]",
      "text/plain": [
       "<Figure size 1800x360 with 8 Axes>"
      ]
     },
     "metadata": {
      "needs_background": "light"
     },
     "output_type": "display_data"
    }
   ],
   "source": [
    "%matplotlib inline\n",
    "visulaize_predictions(P_test,test_y)"
   ]
  },
  {
   "cell_type": "markdown",
   "metadata": {},
   "source": [
    " #### Exercise 2 \n",
    "\n",
    " ### Implementing cyclical learning rates"
   ]
  },
  {
   "cell_type": "code",
   "execution_count": 26,
   "metadata": {},
   "outputs": [],
   "source": [
    "def cycle_eta(t, l, cyclic_params, debug=False):\n",
    "    \"\"\"\n",
    "    Function to provide cyclic learning rates\n",
    "    \n",
    "    Arguments:\n",
    "    t -- Current step count (at time t)\n",
    "    l -- Current cycle count\n",
    "    cyclic_params -- Dictionary to keep track of eta curr/min/max and step-size\n",
    "    ns -- stepsize of the cycle (ns = k * lowerbound(n/nbatch))\n",
    "          (not to be confused with the training step size)\n",
    "    \"\"\"\n",
    "    #print(t,l,end='\\r')\n",
    "    if (2 * l * cyclic_params['ns'] <= t <= (2 * l + 1) * cyclic_params['ns']):\n",
    "        if debug: print(\"l:\", l, \" | \", \n",
    "                        2 * l * cyclic_params['ns'], t, (2 * l + 1) * cyclic_params['ns'],\n",
    "                       \" increasing \",cyclic_params['eta'], end='\\r')\n",
    "\n",
    "        cyclic_params['eta'] = cyclic_params['eta_min'] + \\\n",
    "                               ((t - 2 * l * cyclic_params['ns']) / cyclic_params['ns']) * \\\n",
    "                               (cyclic_params['eta_max'] - cyclic_params['eta_min'])\n",
    "\n",
    "    elif ((2 * l + 1) * cyclic_params['ns'] <= t <= 2 *\n",
    "          (l + 1) * cyclic_params['ns']):\n",
    "        if debug: print(\"l: \", l, \" | \",\n",
    "                        (2 * l + 1) * cyclic_params['ns'], t, 2 * (l + 1) * cyclic_params['ns'],\n",
    "                       \" decreasing \",cyclic_params['eta'], end='\\r')\n",
    "\n",
    "        cyclic_params['eta'] = cyclic_params['eta_max'] - \\\n",
    "                               ((t - (2 * l + 1) * cyclic_params['ns']) / cyclic_params['ns']) * \\\n",
    "                               (cyclic_params['eta_max'] - cyclic_params['eta_min'])\n",
    "    else:\n",
    "        print(\"t is not between the extremes?\")\n",
    "    return cyclic_params"
   ]
  },
  {
   "cell_type": "code",
   "execution_count": 32,
   "metadata": {},
   "outputs": [
    {
     "data": {
      "image/png": "[encoded data removed]",
      "text/plain": [
       "<Figure size 432x288 with 1 Axes>"
      ]
     },
     "metadata": {
      "needs_background": "light"
     },
     "output_type": "display_data"
    }
   ],
   "source": [
    "%matplotlib inline\n",
    "\n",
    "cyclic_params = {}\n",
    "cyclic_params['eta_max'] = 1e-1\n",
    "cyclic_params['eta_min'] = 1e-5\n",
    "cyclic_params['eta'] = 1e-5\n",
    "cyclic_params['ns'] = 500 #ns = k * lowerbound(n/nbatch)\n",
    "log = []\n",
    "t = 0\n",
    "for l in range(3):\n",
    "    for i in range(cyclic_params['ns']):\n",
    "        cyclic_params = cycle_eta(t, l, cyclic_params)\n",
    "        log.append(cyclic_params['eta'])\n",
    "        t += 1\n",
    "    for i in range(cyclic_params['ns']):\n",
    "        cyclic_params = cycle_eta(t, l, cyclic_params)\n",
    "        log.append(cyclic_params['eta'])\n",
    "        t += 1\n",
    "_ = plt.plot(log)\n",
    "plt.show()"
   ]
  },
  {
   "cell_type": "markdown",
   "metadata": {},
   "source": [
    " #### Exercise 2 - a\n",
    " <a id='cyclic_lr'></a>\n",
    "\n",
    " ### Training a 3-layer network with cyclical learning rates"
   ]
  },
  {
   "cell_type": "markdown",
   "metadata": {},
   "source": [
    "##### Loading whole data and executing the below methods were performed outside this notebook for computational reasons"
   ]
  },
  {
   "cell_type": "code",
   "execution_count": null,
   "metadata": {
    "scrolled": true
   },
   "outputs": [],
   "source": [
    "%matplotlib notebook\n",
    "#Constants\n",
    "N = 1\n",
    "d = num_px\n",
    "K = len(classes)\n",
    "m = 50\n",
    "layer_dims = [num_px, 50, 50, K]\n",
    "X, Y, parameters, GDparams, lambd, _ = initialize_parameters(N, layer_dims, he_var=1)\n",
    "#Overriding the GDparams\n",
    "GDparams = {}\n",
    "GDparams['n_batch'] = 100\n",
    "GDparams['eta'] = 0.1\n",
    "GDparams['n_epochs'] = 10\n",
    "lambd = 0.005\n",
    "\n",
    "cyclic_params = {}\n",
    "cyclic_params['eta_max'] = 1e-1\n",
    "cyclic_params['eta_min'] = 1e-5\n",
    "cyclic_params['eta'] = 1e-5\n",
    "cyclic_params['ns'] = 2250 \n",
    "#cyclic_params[ns] = k * lowerbound(n/nbatch)  \n",
    "# k=5\n",
    "trained_parameters = MiniBatchGD(X, Y, valid_x, valid_y, GDparams, parameters, lambd, cyclic_params)"
   ]
  },
  {
   "cell_type": "code",
   "execution_count": 35,
   "metadata": {},
   "outputs": [
    {
     "data": {
      "image/png": "[encoded data removed]",
      "text/plain": [
       "<IPython.core.display.Image object>"
      ]
     },
     "execution_count": 35,
     "metadata": {},
     "output_type": "execute_result"
    }
   ],
   "source": [
    "Image(\"3l-52acc.png\")"
   ]
  },
  {
   "cell_type": "code",
   "execution_count": null,
   "metadata": {},
   "outputs": [],
   "source": [
    "H, P_test = EvaluateClassifier(test_x, trained_parameters)\n",
    "print(\"Loss on the test dataset :\",\n",
    "      ComputeCost_CrossEntropy(P_test, test_y, trained_parameters))\n",
    "print(\"Accuracy on the test datset :\", ComputeAccuracy(P_test, test_y))"
   ]
  },
  {
   "cell_type": "markdown",
   "metadata": {},
   "source": [
    "cycle 1  \n",
    "Training complete!  \n",
    "Training Accuracy  0.5981777777777778 %  \n",
    "Training Loss  1.3713625924151995  \n",
    "Validation Accuracy:  0.5274 %  \n",
    "Validation Loss:  1.539439955837479  \n",
    "\n",
    "Loss on the test dataset : 1.5702747806900028  \n",
    "Accuracy on the test datset : 0.5216  "
   ]
  },
  {
   "cell_type": "markdown",
   "metadata": {},
   "source": [
    " #### Exercise 2 - b\n",
    " <a id='9l'></a>\n",
    "\n",
    " ### Training a 9-layer network with cyclical learning rates"
   ]
  },
  {
   "cell_type": "code",
   "execution_count": null,
   "metadata": {
    "scrolled": true
   },
   "outputs": [],
   "source": [
    "%matplotlib notebook\n",
    "#Constants\n",
    "N = 1\n",
    "d = num_px\n",
    "K = len(classes)\n",
    "m = 50\n",
    "layer_dims = [num_px, 50, 30, 20, 20, 10, 10, 10, K]\n",
    "\n",
    "X, Y, parameters, GDparams, lambd, _ = initialize_parameters(N, layer_dims, he_var=1)\n",
    "#Overriding the GDparams\n",
    "GDparams = {}\n",
    "GDparams['n_batch'] = 100\n",
    "GDparams['eta'] = 0.1\n",
    "GDparams['n_epochs'] = 10\n",
    "lambd = 0.005\n",
    "\n",
    "cyclic_params = {}\n",
    "cyclic_params['eta_max'] = 1e-1\n",
    "cyclic_params['eta_min'] = 1e-5\n",
    "cyclic_params['eta'] = 1e-5\n",
    "cyclic_params['ns'] = 2250 \n",
    "#cyclic_params[ns] = k * lowerbound(n/nbatch)  \n",
    "# k=5\n",
    "trained_parameters = MiniBatchGD(X, Y, valid_x, valid_y, GDparams, parameters, lambd, cyclic_params)"
   ]
  },
  {
   "cell_type": "code",
   "execution_count": 39,
   "metadata": {},
   "outputs": [
    {
     "data": {
      "image/png": "[encoded data removed]",
      "text/plain": [
       "<IPython.core.display.Image object>"
      ]
     },
     "execution_count": 39,
     "metadata": {},
     "output_type": "execute_result"
    }
   ],
   "source": [
    "Image(\"9l-45acc.png\")"
   ]
  },
  {
   "cell_type": "code",
   "execution_count": null,
   "metadata": {},
   "outputs": [],
   "source": [
    "H, P_test = EvaluateClassifier(test_x, trained_parameters)\n",
    "print(\"Loss on the test dataset :\",\n",
    "      ComputeCost_CrossEntropy(P_test, test_y, trained_parameters))\n",
    "print(\"Accuracy on the test datset :\", ComputeAccuracy(P_test, test_y))"
   ]
  },
  {
   "cell_type": "markdown",
   "metadata": {},
   "source": [
    "Training complete!  \n",
    "Training Accuracy  0.5178 %  \n",
    "Training Loss  1.5820044461245615  \n",
    "Validation Accuracy:  0.4588 %  \n",
    "Validation Loss:  1.7574250707465875  \n",
    "\n",
    "Loss on the test dataset : 1.7695115073682937  \n",
    "Accuracy on the test datset : 0.4507  \n",
    "\n",
    "As expected we see quite a drop in the performace of bigger network for the same parameters"
   ]
  },
  {
   "cell_type": "markdown",
   "metadata": {},
   "source": [
    " #### Exercise 3\n",
    " <a id='batchnorm'></a>\n",
    " ### Implement batch normalization and modification of neccessary methods"
   ]
  },
  {
   "cell_type": "markdown",
   "metadata": {},
   "source": [
    "Augmenting Forward pass with batchnorm"
   ]
  },
  {
   "cell_type": "code",
   "execution_count": 27,
   "metadata": {},
   "outputs": [],
   "source": [
    "def EvaluateClassifier_BN(X, parameters, training=True, check=False):\n",
    "    \"\"\"\n",
    "    s1 = W1x + b1 \n",
    "    h = max(0, s1)\n",
    "    s = W2h + b2\n",
    "    p = SOFTMAX(s) \n",
    "    \n",
    "    Arguments:\n",
    "    X -- Input data\n",
    "    parameters -- Weights and bias\n",
    "    training -- triggers mean and var calc.\n",
    "    check --passing mean and variance as if from training to check forward pass\n",
    "    \n",
    "    Returns:\n",
    "    H_dic -- Activation output/ Hidden Layer's output\n",
    "    P -- Probabilities of each class for each sample in X\n",
    "    \"\"\"\n",
    "    layers = len(parameters) // 4\n",
    "    H_dic = {}\n",
    "    BN_params = {}\n",
    "    n = X.shape[1]\n",
    "    H = X  # initial h\n",
    "    \n",
    "    for layer in range(1, layers):\n",
    "        H_dic[\"H\" + str(layer)] = H\n",
    "        s = np.dot(parameters[\"W\" + str(layer)],\n",
    "                   H) + parameters[\"b\" + str(layer)]\n",
    "        BN_params[\"s\"+str(layer)] = s\n",
    "        \n",
    "        if check:\n",
    "            m_avg[\"u\"+str(layer)] = np.mean(s, axis=1, keepdims=True)  # mean\n",
    "            m_avg[\"v\"+str(layer)] = np.var(s, axis=1, keepdims=True)*(n-1)/n  # variance\n",
    "        \n",
    "        if training:\n",
    "            u = np.mean(s, axis=1, keepdims=True)  # mean\n",
    "            BN_params[\"u\"+str(layer)] = u\n",
    "            v = np.var(s, axis=1, keepdims=True)*(n-1)/n  # variance\n",
    "            BN_params[\"v\"+str(layer)] = v\n",
    "            \n",
    "            #moving average\n",
    "            m_avg[\"u\"+str(layer)] = m_avg['alpha'] * m_avg[\"u\"+str(layer)] + (1-m_avg['alpha']) * u\n",
    "            m_avg[\"v\"+str(layer)] = m_avg['alpha'] * m_avg[\"v\"+str(layer)] + (1-m_avg['alpha']) * v\n",
    "        \n",
    "            \n",
    "        else:\n",
    "            u = m_avg[\"u\"+str(layer)]\n",
    "            v = m_avg[\"v\"+str(layer)]\n",
    "\n",
    "#        elif args:\n",
    "#             u = args[0]\n",
    "#             v = args[1]\n",
    "#         else:\n",
    "#             print(\n",
    "#                 \"[Custom Err] During testing pre-computed mean and variance has to be provided\",\n",
    "#                 file=sys.stderr)\n",
    "\n",
    "        s = batchNormalize(s, u, v)\n",
    "        BN_params[\"s_hat\" + str(layer)] = s\n",
    "        s = np.multiply(parameters[\"gamma\" + str(layer)],s) + parameters[\"beta\" + str(layer)]\n",
    "\n",
    "        H = ReLU(s)\n",
    "\n",
    "    H_dic[\"H\" + str(layers)] = H\n",
    "    s = np.dot(parameters[\"W\" + str(layers)],\n",
    "               H) + parameters[\"b\" + str(layers)]\n",
    "    P = softmax(s)\n",
    "\n",
    "    # Dimensional check -- removed as it conflicts with minibatches\n",
    "    # assert(X.shape == (d,N)),X.shape\n",
    "    # assert(P.shape == (K,N))\n",
    "    return H_dic, P, BN_params\n",
    "\n",
    "\n",
    "def batchNormalize(s, u, v):\n",
    "    \"\"\"\n",
    "    Arguments:\n",
    "    s -- unnormalized scores of the linear transformation function\n",
    "    u -- mean of s\n",
    "    v -- Variance of s\n",
    "    \n",
    "    Returns:\n",
    "    s -- normalized s\n",
    "    \"\"\"\n",
    "    return math.pow(np.diag(v + np.finfo(float).eps), -0.5) * (s - u)"
   ]
  },
  {
   "cell_type": "code",
   "execution_count": 28,
   "metadata": {
    "scrolled": false
   },
   "outputs": [],
   "source": [
    "def ComputeGradients_BN(X, Y, P, H_dic, BN_params, parameters, lambd):\n",
    "    \"\"\" \n",
    "    G -- dJ/dZ - g for Batch\n",
    "    Z -- WX\n",
    "    grad_W1 -- dJ/dW\n",
    "    grad_b -- dJ/db\n",
    "    grad_L -- dJ/dL Regularization term\n",
    "    grad_W -- dJ/dW + Regularization term\n",
    "    grad_gamma -- dJ/dgamma + Regularization term\n",
    "    grad_beta -- dJ/dbeta + Regularization term\n",
    "    \n",
    "    \n",
    "    Argumets:\n",
    "    X -- input data\n",
    "    Y -- Ground truth\n",
    "    P -- current probabilities/ Output Layer's output\n",
    "    H_dic -- Activation output/ Hidden Layer's output\n",
    "    BN_params -- S, S_hat, U, V for BN \n",
    "    W -- Current weights that generated the probabilities\n",
    "    b -- current bias\n",
    "    lambd -- lambda - Regularization term (to differ from the keyword itself)\n",
    "    \n",
    "    Returns:\n",
    "    cache -- gradiants of all parameters    \n",
    "    \"\"\"\n",
    "\n",
    "    cache = {}\n",
    "    for param in parameters:\n",
    "        cache[param] = np.zeros_like(parameters[param])\n",
    "    layers = len(parameters) // 4\n",
    "\n",
    "    N = X.shape[1]\n",
    "\n",
    "    G_batch = - (Y - P)\n",
    "\n",
    "    cache[\"W\"+str(layers)] = 1/N * G_batch@H_dic[\"H\"+str(layers)].T + \\\n",
    "                    2 * lambd * parameters[\"W\"+str(layers)]\n",
    "    cache[\"b\"+str(layers)] = np.reshape(1/N * G_batch@np.ones(N), (parameters[\"b\"+str(layers)].shape[0], 1))\n",
    "    \n",
    "\n",
    "    G_batch = parameters[\"W\"+str(layers)].T@G_batch\n",
    "    H_dic[\"H\"+str(layers)][H_dic[\"H\"+str(layers)] <= 0] = 0\n",
    "    G_batch = np.multiply(G_batch, H_dic[\"H\"+str(layers)] > 0)\n",
    "    \n",
    "    # for l = k-1, k-2, ..., 1\n",
    "    for l in reversed(range(1, layers)):\n",
    "        cache[\"gamma\"+str(l)] = np.reshape(1/N * np.multiply(G_batch, BN_params[\"s_hat\"+str(l)])@np.ones(N), (cache[\"gamma\"+str(l)].shape[0], 1)) \n",
    "        cache[\"beta\"+str(l)]  = np.reshape(1/N * G_batch@np.ones(N), (cache[\"beta\"+str(l)].shape[0], 1))\n",
    "        G_batch = np.multiply(G_batch, parameters[\"gamma\"+str(l)])\n",
    "        G_batch = BatchNormBackPass(G_batch, BN_params[\"s\"+str(l)], BN_params[\"u\"+str(l)], BN_params[\"v\"+str(l)])              \n",
    "        cache[\"W\"+str(l)] = 1/N * G_batch@H_dic[\"H\"+str(l)].T + 2 * lambd *  parameters[\"W\"+str(l)]\n",
    "        cache[\"b\"+str(l)] = np.reshape(1/N * G_batch@np.ones(N),(cache[\"b\"+str(l)].shape[0], 1))\n",
    "        if l > 1:\n",
    "            G_batch = parameters[\"W\"+str(l)].T@G_batch\n",
    "            H_dic[\"H\"+str(l)][H_dic[\"H\"+str(l)] <= 0] = 0\n",
    "            G_batch = np.multiply(G_batch,H_dic[\"H\"+str(l)] > 0)\n",
    "\n",
    "    return cache\n",
    "\n",
    "def BatchNormBackPass(G_batch, S_batch, u, v):\n",
    "\n",
    "    N = G_batch.shape[1]\n",
    "    sigma1 = np.power(v + np.finfo(np.float64).eps, -0.5)\n",
    "    sigma2 = np.power(v + np.finfo(np.float64).eps, -1.5)\n",
    "\n",
    "    G1 = np.multiply(G_batch, sigma1)\n",
    "    G2 = np.multiply(G_batch, sigma2)\n",
    "\n",
    "    D = S_batch - u\n",
    "\n",
    "    c = np.sum(np.multiply(G2, D), axis=1, keepdims=True)\n",
    "\n",
    "    G_batch = G1 - 1/N * np.sum(G1, axis=1, keepdims=True) - \\\n",
    "            1/N * np.multiply(D, c)\n",
    "\n",
    "    return G_batch"
   ]
  },
  {
   "cell_type": "code",
   "execution_count": 39,
   "metadata": {},
   "outputs": [
    {
     "name": "stdout",
     "output_type": "stream",
     "text": [
      "Accuracy: 0.11  Cost: 2.489459710364211\n",
      "N: 200  L: 4  P: (10, 200)\n"
     ]
    }
   ],
   "source": [
    "N = 200\n",
    "d = num_px\n",
    "K = len(classes)\n",
    "m = 50\n",
    "layer_dims = [num_px, 20, 20, K]\n",
    "\n",
    "X, Y, parameters, GDparams, lambd, m_avg = initialize_parameters(N, layer_dims, he_var=1, BN=True)\n",
    "H_dic, P, BN_params = EvaluateClassifier_BN(X, parameters, training=True, check=False)\n",
    "\n",
    "accuracy = ComputeAccuracy(P, Y)\n",
    "cost = ComputeCost_CrossEntropy(P, Y, parameters)\n",
    "print(\"Accuracy:\", accuracy, \" Cost:\", cost)\n",
    "\n",
    "print(\"N:\",N,\" L:\",len(layer_dims),\" P:\",  P.shape)\n",
    "\n",
    "cache = ComputeGradients_BN(X, Y, P, H_dic, BN_params, parameters, lambd)"
   ]
  },
  {
   "cell_type": "code",
   "execution_count": 30,
   "metadata": {},
   "outputs": [
    {
     "name": "stdout",
     "output_type": "stream",
     "text": [
      "[ 0.00466796 -0.00750957 -0.00203309 ... -0.02017599 -0.01936409\n",
      "  0.01259353]\n",
      "[ 0.03160848  0.02997708  0.03149142 ... -0.00958934 -0.00534703\n",
      " -0.00679203]\n"
     ]
    }
   ],
   "source": [
    "print(parameters['W1'][0:10][0])\n",
    "print(cache['W1'][0:10][0])"
   ]
  },
  {
   "cell_type": "code",
   "execution_count": 31,
   "metadata": {
    "scrolled": false
   },
   "outputs": [
    {
     "data": {
      "application/vnd.jupyter.widget-view+json": {
       "model_id": "ed76fb64b4a44b71948b14e95f3296a7",
       "version_major": 2,
       "version_minor": 0
      },
      "text/plain": [
       "HBox(children=(IntProgress(value=0, description='W1', max=20, style=ProgressStyle(description_width='initial')…"
      ]
     },
     "metadata": {},
     "output_type": "display_data"
    },
    {
     "name": "stdout",
     "output_type": "stream",
     "text": [
      "\n"
     ]
    },
    {
     "data": {
      "application/vnd.jupyter.widget-view+json": {
       "model_id": "aaf254a1fb5e4a70a8053f47f1d973bd",
       "version_major": 2,
       "version_minor": 0
      },
      "text/plain": [
       "HBox(children=(IntProgress(value=0, description='b1', max=20, style=ProgressStyle(description_width='initial')…"
      ]
     },
     "metadata": {},
     "output_type": "display_data"
    },
    {
     "name": "stdout",
     "output_type": "stream",
     "text": [
      "\n"
     ]
    },
    {
     "data": {
      "application/vnd.jupyter.widget-view+json": {
       "model_id": "b7e40bba42e84b2da2075d8074d714f4",
       "version_major": 2,
       "version_minor": 0
      },
      "text/plain": [
       "HBox(children=(IntProgress(value=0, description='gamma1', max=20, style=ProgressStyle(description_width='initi…"
      ]
     },
     "metadata": {},
     "output_type": "display_data"
    },
    {
     "name": "stdout",
     "output_type": "stream",
     "text": [
      "\n"
     ]
    },
    {
     "data": {
      "application/vnd.jupyter.widget-view+json": {
       "model_id": "9e1a5239a84040f0bb6ed0e2ff320e7e",
       "version_major": 2,
       "version_minor": 0
      },
      "text/plain": [
       "HBox(children=(IntProgress(value=0, description='beta1', max=20, style=ProgressStyle(description_width='initia…"
      ]
     },
     "metadata": {},
     "output_type": "display_data"
    },
    {
     "name": "stdout",
     "output_type": "stream",
     "text": [
      "\n"
     ]
    },
    {
     "data": {
      "application/vnd.jupyter.widget-view+json": {
       "model_id": "bddf0d7bd62b4322a63baba8feb290d8",
       "version_major": 2,
       "version_minor": 0
      },
      "text/plain": [
       "HBox(children=(IntProgress(value=0, description='W2', max=20, style=ProgressStyle(description_width='initial')…"
      ]
     },
     "metadata": {},
     "output_type": "display_data"
    },
    {
     "name": "stdout",
     "output_type": "stream",
     "text": [
      "\n"
     ]
    },
    {
     "data": {
      "application/vnd.jupyter.widget-view+json": {
       "model_id": "77947a9f09f14b8da2b9d8c7804b64ac",
       "version_major": 2,
       "version_minor": 0
      },
      "text/plain": [
       "HBox(children=(IntProgress(value=0, description='b2', max=20, style=ProgressStyle(description_width='initial')…"
      ]
     },
     "metadata": {},
     "output_type": "display_data"
    },
    {
     "name": "stdout",
     "output_type": "stream",
     "text": [
      "\n"
     ]
    },
    {
     "data": {
      "application/vnd.jupyter.widget-view+json": {
       "model_id": "3faf055a36704a53a03f283c07a07ad0",
       "version_major": 2,
       "version_minor": 0
      },
      "text/plain": [
       "HBox(children=(IntProgress(value=0, description='gamma2', max=20, style=ProgressStyle(description_width='initi…"
      ]
     },
     "metadata": {},
     "output_type": "display_data"
    },
    {
     "name": "stdout",
     "output_type": "stream",
     "text": [
      "\n"
     ]
    },
    {
     "data": {
      "application/vnd.jupyter.widget-view+json": {
       "model_id": "d6d28c2f73d14fe4ab0157cd98c8d932",
       "version_major": 2,
       "version_minor": 0
      },
      "text/plain": [
       "HBox(children=(IntProgress(value=0, description='beta2', max=20, style=ProgressStyle(description_width='initia…"
      ]
     },
     "metadata": {},
     "output_type": "display_data"
    },
    {
     "name": "stdout",
     "output_type": "stream",
     "text": [
      "\n"
     ]
    },
    {
     "data": {
      "application/vnd.jupyter.widget-view+json": {
       "model_id": "5d829d2c80a44559b66a98569ec248ae",
       "version_major": 2,
       "version_minor": 0
      },
      "text/plain": [
       "HBox(children=(IntProgress(value=0, description='W3', max=10, style=ProgressStyle(description_width='initial')…"
      ]
     },
     "metadata": {},
     "output_type": "display_data"
    },
    {
     "name": "stdout",
     "output_type": "stream",
     "text": [
      "\n"
     ]
    },
    {
     "data": {
      "application/vnd.jupyter.widget-view+json": {
       "model_id": "c6c30cafb220422d9bcedbd8fbb95488",
       "version_major": 2,
       "version_minor": 0
      },
      "text/plain": [
       "HBox(children=(IntProgress(value=0, description='b3', max=10, style=ProgressStyle(description_width='initial')…"
      ]
     },
     "metadata": {},
     "output_type": "display_data"
    },
    {
     "name": "stdout",
     "output_type": "stream",
     "text": [
      "\n"
     ]
    },
    {
     "data": {
      "application/vnd.jupyter.widget-view+json": {
       "model_id": "ae0326acd0084380bd08c2db0b3d0012",
       "version_major": 2,
       "version_minor": 0
      },
      "text/plain": [
       "HBox(children=(IntProgress(value=0, description='gamma3', max=10, style=ProgressStyle(description_width='initi…"
      ]
     },
     "metadata": {},
     "output_type": "display_data"
    },
    {
     "name": "stdout",
     "output_type": "stream",
     "text": [
      "\n"
     ]
    },
    {
     "data": {
      "application/vnd.jupyter.widget-view+json": {
       "model_id": "b3c42cc7ede84db2a4e0ddc571f7a1eb",
       "version_major": 2,
       "version_minor": 0
      },
      "text/plain": [
       "HBox(children=(IntProgress(value=0, description='beta3', max=10, style=ProgressStyle(description_width='initia…"
      ]
     },
     "metadata": {},
     "output_type": "display_data"
    },
    {
     "name": "stdout",
     "output_type": "stream",
     "text": [
      "\n"
     ]
    }
   ],
   "source": [
    "cacheNum = compute_grads_num(X, Y, parameters, BN=True)"
   ]
  },
  {
   "cell_type": "code",
   "execution_count": 34,
   "metadata": {
    "scrolled": true
   },
   "outputs": [
    {
     "name": "stdout",
     "output_type": "stream",
     "text": [
      "Relative_error for W1 :0.9122871292841712\n",
      "✘  The gradient is wrong!\n",
      "Relative_error for b1 :1.0\n",
      "✘  The gradient is wrong!\n",
      "Relative_error for gamma1 :0.9781707999225473\n",
      "✘  The gradient is wrong!\n",
      "Relative_error for beta1 :0.9231316291036629\n",
      "✘  The gradient is wrong!\n",
      "Relative_error for W2 :0.9698826330879852\n",
      "✘  The gradient is wrong!\n",
      "Relative_error for b2 :1.0\n",
      "✘  The gradient is wrong!\n",
      "Relative_error for gamma2 :0.9508225517002213\n",
      "✘  The gradient is wrong!\n",
      "Relative_error for beta2 :0.6012327958670776\n",
      "✘  The gradient is wrong!\n",
      "Relative_error for W3 :0.9503459532774708\n",
      "✘  The gradient is wrong!\n",
      "Relative_error for b3 :0.6179318336249259\n",
      "✘  The gradient is wrong!\n",
      "✔  The gradient for gamma3 is correct! 0.0\n",
      "✔  The gradient for beta3 is correct! 0.0\n"
     ]
    }
   ],
   "source": [
    "gradient_check(cache, cacheNum, 1e-6)   #check all gradients"
   ]
  },
  {
   "cell_type": "code",
   "execution_count": null,
   "metadata": {},
   "outputs": [],
   "source": []
  },
  {
   "cell_type": "code",
   "execution_count": null,
   "metadata": {},
   "outputs": [],
   "source": [
    "def MiniBatchGD_BN(X,\n",
    "                Y,\n",
    "                X_val,\n",
    "                Y_val,\n",
    "                GDparams,\n",
    "                parameters,\n",
    "                lambd,\n",
    "                cyclic_params={},\n",
    "                debug=False):\n",
    "    \"\"\"\n",
    "    Perform Minibatch gradient descent shuffling at each iteration\n",
    "    \n",
    "    Argumets:\n",
    "    X -- Total train data\n",
    "    Y -- corresponding Ground truth\n",
    "    X_val -- Total validation data\n",
    "    Y_val -- corresponding Ground truth\n",
    "    GDparams -- batch size, number of epochs, learning rates\n",
    "    parameters -- For all layers\n",
    "        W -- initial Weights\n",
    "        b -- initial Bias\n",
    "\n",
    "    Returns:\n",
    "    parameters -- For all layers\n",
    "        W -- trained Weights\n",
    "        b -- trained bias\n",
    "    \"\"\"\n",
    "\n",
    "    #Set up the canvas to do live plotting of the training info\n",
    "    log = {\n",
    "        \"training loss\": [],\n",
    "        \"validation loss\": [],\n",
    "        \"training acc\": [],\n",
    "        \"validation acc\": [],\n",
    "        \"learning rate\": []\n",
    "    }  #using terms cost and loss interchangably\n",
    "    fig = plt.figure(figsize=(15, 3))  #must include %matplotlib notebook\n",
    "    Loss = fig.add_subplot(131)\n",
    "    Accuracy = fig.add_subplot(132)\n",
    "    Learning_rate = fig.add_subplot(133)\n",
    "\n",
    "    #plt.ion() #iteractive mode on\n",
    "    plt.subplot(131).set_title(\"Loss\")\n",
    "    plt.xlabel('Epoches', axes=Loss)\n",
    "    plt.ylabel('Loss', axes=Loss)\n",
    "    plt.subplot(132).set_title(\"Accuracy\")\n",
    "    plt.xlabel('Epoches', axes=Accuracy)\n",
    "    plt.ylabel('Accuracy', axes=Accuracy)\n",
    "    plt.subplot(133).set_title(\"Learning Rate\")\n",
    "    plt.xlabel('Steps', axes=Learning_rate)\n",
    "    plt.ylabel('eta', axes=Learning_rate)\n",
    "\n",
    "    fig.show()\n",
    "    fig.canvas.draw()\n",
    "\n",
    "    step = 0  #to display each step accuracy if needed\n",
    "    l = 0  #to keep track of the cyclic learning rate\n",
    "    for i in tqdm(range((GDparams['n_epochs']))):  #progress bar\n",
    "\n",
    "        mini_batches = get_mini_batches(\n",
    "            X, Y, GDparams['n_batch'])  #shuffled every iteration\n",
    "        for batch in mini_batches:\n",
    "            #do transpose again as we did earlier in mini_batch to stack'em up\n",
    "            X_b = batch[0].T\n",
    "            Y_b = batch[1].T\n",
    "            H_dic, P = EvaluateClassifier(\n",
    "                X_b, parameters)  # Get some predictions of the minibatch\n",
    "            #no need to calculate for each mini batch\n",
    "            cost = ComputeCost_CrossEntropy(\n",
    "                P, Y_b, parameters)  # Get the cost of these predictions\n",
    "            acc = ComputeAccuracy(P, Y_b)  # Get accuracy of predictions\n",
    "            cache = ComputeGradients(X_b, Y_b, P, H_dic, parameters,\n",
    "                                     lambd)  # Learn the mini batch\n",
    "\n",
    "            if len(cyclic_params) is not 0:\n",
    "                cyclic_params = cycle_eta(t=step,\n",
    "                                          l=l,\n",
    "                                          cyclic_params=cyclic_params,\n",
    "                                          debug=debug)\n",
    "                eta = cyclic_params['eta']\n",
    "                #if current is 2ns then next i.e 2ns+1 is in next cycle\n",
    "                if step > 0 and \\\n",
    "                   step %  (2 * cyclic_params['ns']) is 0:\n",
    "                    l += 1\n",
    "                    print(\"cycle\", l)\n",
    "\n",
    "            elif len(cyclic_params) is 0:\n",
    "                eta = GDparams['eta']\n",
    "\n",
    "            log[\"learning rate\"].append(eta)\n",
    "            parameters = update_params(parameters, cache,\n",
    "                                       eta)  # Tune the weights and bias\n",
    "            #print('Step ' + str(step) + \": Cost:\" + str(cost) + \" Accuracy: \" + str(acc))\n",
    "            step += 1\n",
    "\n",
    "        #check performance of new W, b on training data\n",
    "        H, P_train = EvaluateClassifier(X, parameters)\n",
    "        log[\"training loss\"].append(\n",
    "            ComputeCost_CrossEntropy(P_train, Y, parameters))\n",
    "        log[\"training acc\"].append(ComputeAccuracy(P_train, Y))\n",
    "\n",
    "        #check performance of new W, b on validation data\n",
    "        H, P_val = EvaluateClassifier(X_val, parameters)\n",
    "        log[\"validation loss\"].append(\n",
    "            ComputeCost_CrossEntropy(P_val, Y_val, parameters))\n",
    "        log[\"validation acc\"].append(ComputeAccuracy(P_val, Y_val))\n",
    "\n",
    "        #display the log\n",
    "        #sns.set() #seaborn for beautiful plots\n",
    "        #Loss.clear() #clear last epoch's plot\n",
    "        #Accuracy.clear()\n",
    "        Loss.plot(log[\"training loss\"], 'c', label=\"training\")\n",
    "        Loss.plot(log[\"validation loss\"], 'm', label=\"validation\")\n",
    "        Accuracy.plot(log[\"training acc\"], 'c', label=\"training\")\n",
    "        Accuracy.plot(log[\"validation acc\"], 'm', label=\"validation\")\n",
    "        Learning_rate.plot(log[\"learning rate\"], 'b')\n",
    "        if (i == 0):  #cant get it to work anyother way\n",
    "            Loss.legend()\n",
    "            Accuracy.legend()\n",
    "        fig.canvas.draw()  # draw\n",
    "\n",
    "    print(step, \" steps of training complete!\")\n",
    "    print(\"Training Accuracy \", log[\"training acc\"][-1], \"%\")\n",
    "    print(\"Training Loss \", log[\"training loss\"][-1])\n",
    "    print(\"Validation Accuracy: \", log[\"validation acc\"][-1], \"%\")\n",
    "    print(\"Validation Loss: \", log[\"validation loss\"][-1])\n",
    "\n",
    "    return parameters"
   ]
  },
  {
   "cell_type": "code",
   "execution_count": null,
   "metadata": {},
   "outputs": [],
   "source": [
    "%matplotlib notebook\n",
    "#Constants\n",
    "N = 1\n",
    "d = num_px\n",
    "K = len(classes)\n",
    "m = 50\n",
    "layer_dims = [num_px, 50, 50, K]\n",
    "X, Y, parameters, GDparams, lambd, _ = initialize_parameters(N, layer_dims, he_var=1)\n",
    "#Overriding the GDparams\n",
    "GDparams = {}\n",
    "GDparams['n_batch'] = 100\n",
    "GDparams['eta'] = 0.1\n",
    "GDparams['n_epochs'] = 10\n",
    "lambd = 0.005\n",
    "\n",
    "cyclic_params = {}\n",
    "cyclic_params['eta_max'] = 1e-1\n",
    "cyclic_params['eta_min'] = 1e-5\n",
    "cyclic_params['eta'] = 1e-5\n",
    "cyclic_params['ns'] = 2250 \n",
    "#cyclic_params[ns] = k * lowerbound(n/nbatch)  \n",
    "# k=5\n",
    "trained_parameters = MiniBatchGD(X, Y, valid_x, valid_y, GDparams, parameters, lambd, cyclic_params)"
   ]
  }
 ],
 "metadata": {
  "kernelspec": {
   "display_name": "Python 3",
   "language": "python",
   "name": "python3"
  },
  "language_info": {
   "codemirror_mode": {
    "name": "ipython",
    "version": 3
   },
   "file_extension": ".py",
   "mimetype": "text/x-python",
   "name": "python",
   "nbconvert_exporter": "python",
   "pygments_lexer": "ipython3",
   "version": "3.7.3"
  }
 },
 "nbformat": 4,
 "nbformat_minor": 2
}
