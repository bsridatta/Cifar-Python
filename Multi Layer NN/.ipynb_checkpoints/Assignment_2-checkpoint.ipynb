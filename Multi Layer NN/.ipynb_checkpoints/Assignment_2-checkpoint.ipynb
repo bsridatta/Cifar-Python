{
 "cells": [
  {
   "cell_type": "markdown",
   "metadata": {},
   "source": [
    "## DD2424 deep19 VT19-1 Deep Learning in Data Science - Assignment 2\n",
    "\n",
    "### Table of Content\n",
    "[Exercise 1 - a](#Section_1) - Getting the data  \n",
    "[View Normalized Images](#view_images) - Scroll through the images (should run cell to see widget)   \n",
    "[Exercise 1 - b](#Section_2) - Parameter Initialization  \n",
    "[Exercise 2 - a](#Section_3) - Evaluate Classifier/ Forward Prop  \n",
    "[Exercise 2 - b](#Section_4) - Compute the cost  \n",
    "[Exercise 2 - c](#Section_5) - Compute Accuracy  \n",
    "[Exercise 2 - d](#Section_6) - Compute and check the gradient descent  \n",
    "[Section 7](#Section_7) - Mini Batch Gradient Descent  \n",
    "[Trained Weights](#trained_weights) - Visualizing weights learnt  \n",
    "[Training_Runs](#Training_Runs) - Training with all 4 different settings  \n",
    "[Best Results](#bestPredictions) - Visulaization of best predictions on test data  \n",
    "[Comments on hyper-parameter tuning](#comments) - Comments on effects of lr and regularization\n"
   ]
  },
  {
   "cell_type": "code",
   "execution_count": 46,
   "metadata": {},
   "outputs": [
    {
     "name": "stdout",
     "output_type": "stream",
     "text": [
      "The autoreload extension is already loaded. To reload it, use:\n",
      "  %reload_ext autoreload\n"
     ]
    }
   ],
   "source": [
    "import numpy as np\n",
    "import math\n",
    "from PIL import Image as Img\n",
    "import pickle\n",
    "from scipy import misc\n",
    "\n",
    "import sys\n",
    "import os.path\n",
    "\n",
    "import matplotlib.pyplot as plt\n",
    "import seaborn as sns\n",
    "from tqdm import tqdm_notebook as tqdm\n",
    "import pprint\n",
    "from IPython.html.widgets import *\n",
    "\n",
    "%matplotlib inline\n",
    "#%matplotlib notebook\n",
    "\n",
    "plt.rcParams['figure.figsize'] = (5.0, 4.0) # set default size of plots\n",
    "plt.rcParams['image.interpolation'] = 'nearest'\n",
    "plt.rcParams['image.cmap'] = 'gray'\n",
    "\n",
    "\n",
    "%load_ext autoreload\n",
    "%autoreload 2\n",
    "\n",
    "np.random.seed(400)"
   ]
  },
  {
   "cell_type": "markdown",
   "metadata": {},
   "source": [
    "#### Exercise 1  \n",
    "<a id='Section_1'></a>\n",
    "\n",
    "## Getting the Data"
   ]
  },
  {
   "cell_type": "code",
   "execution_count": null,
   "metadata": {},
   "outputs": [],
   "source": [
    "def LoadBatch(file):\n",
    "    \"\"\"\n",
    "    Loads all the data from Cifar-10\n",
    "    \n",
    "    Argumets:\n",
    "    file -- Path to main data directory\n",
    "    \n",
    "    Returns: \n",
    "    train_set_x, train_set_y, valid_set_x, \n",
    "    valid_set_y, test_set_x, test_set_y    -- Splits the dataset into \n",
    "    classes -- all the labels\n",
    "    \"\"\"\n",
    "    #load data\n",
    "    train_file = file+'/data_batch_1'\n",
    "    valid_file = file+'/data_batch_2'\n",
    "    test_file = file+'/test_batch'\n",
    "    meta_file = file+'/batches.meta'\n",
    "    \n",
    "    with open(train_file, 'rb') as fo:\n",
    "         train_set = pickle.load(fo)\n",
    "    with open(valid_file, 'rb') as fo:\n",
    "         valid_set = pickle.load(fo)\n",
    "    with open(test_file, 'rb') as fo:\n",
    "         test_set = pickle.load(fo)\n",
    "    with open(test_file, 'rb') as fo:\n",
    "         test_set = pickle.load(fo)\n",
    "    with open(meta_file, 'rb') as fo:\n",
    "         meta = pickle.load(fo)\n",
    "    print(\"Load data \" +u'\\u2713' )\n",
    "\n",
    "    #uncomment to get data overview\n",
    "    #pprint.pprint(train_set)\n",
    "    #for keys,value in train_set.items():\n",
    "    #    print(keys)\n",
    "    \n",
    "    # data formatting to double\n",
    "    train_set_x = np.array(train_set[\"data\"][:],dtype='d') \n",
    "    train_set_y = np.array(train_set[\"labels\"][:]) \n",
    "    valid_set_x = np.array(valid_set[\"data\"][:],dtype='d') \n",
    "    valid_set_y = np.array(valid_set[\"labels\"][:]) \n",
    "    test_set_x  = np.array(test_set[\"data\"][:],dtype='d') \n",
    "    test_set_y  = np.array(test_set[\"labels\"][:])\n",
    "    classes=np.array(meta[\"label_names\"][:])\n",
    "    print(\"Image data to Double \" +u'\\u2713' )\n",
    "\n",
    "    _ = plt.rcParams['figure.figsize'] = [15, 3]\n",
    "    _ = plt.subplot(131).set_title(\"Original\")\n",
    "    ax = sns.distplot(train_set_x[0,:])\n",
    "                                                                                                                                                                                                                                                                                                                                                                                                                                                                                                                                                                                                                                                                                                                                                                                                                                                                                                                                                                                                                                                                                                                                                                                                                                                                                                                                                                                                                                                                                                                                                                                                                                                                                                                                                                                                                                                                                                                                                                                                                                                                                                                                                                                                                                                                                                                                                                                                                                                                                                                                                                                                                                                                                                                                                                                                                                                                                                                                                                                                                                                                                                                                                                                                                                                                                                                        \n",
    "    #standardising image data\n",
    "    train_set_x = train_set_x/255.\n",
    "    valid_set_x = valid_set_x/255.\n",
    "    test_set_x = test_set_x/255.\n",
    "    print(\"Standardizing image \" +u'\\u2713' )\n",
    "    _ = plt.subplot(132).set_title(\"Standardized\")\n",
    "    ax = sns.distplot(train_set_x[0,:])\n",
    "\n",
    "    #Normalizing image data\n",
    "    #do by row as this is row and non transformed images\n",
    "    #For each row i.e 1x3072\n",
    "    train_mean = np.mean(train_set_x, axis = 1).reshape(-1,1)\n",
    "    valid_mean = np.mean(valid_set_x, axis = 1).reshape(-1,1)\n",
    "    test_mean = np.mean(test_set_x, axis = 1).reshape(-1,1)\n",
    "    \n",
    "    train_std = np.std(train_set_x, axis = 1).reshape(-1,1)\n",
    "    valid_std = np.std(valid_set_x, axis = 1).reshape(-1,1)\n",
    "    test_std = np.std(test_set_x, axis = 1).reshape(-1,1)\n",
    "    \n",
    "    #mean shape is 10000,1 show repeat 3072\n",
    "    train_mean = np.tile(train_mean, (1,3072))\n",
    "    valid_mean = np.tile(valid_mean, (1,3072))\n",
    "    test_mean = np.tile(test_mean, (1,3072))\n",
    "    \n",
    "    train_std = np.tile(train_std, (1,3072))\n",
    "    valid_std = np.tile(valid_std, (1,3072))\n",
    "    test_std = np.tile(test_std, (1,3072))\n",
    "    \n",
    "    train_set_x = (train_set_x - train_mean) / train_std \n",
    "    valid_set_x = (valid_set_x - valid_mean) / valid_std \n",
    "    test_set_x = (test_set_x - test_mean) / test_std    \n",
    "    print(\"Normalizing image \" +u'\\u2713' )\n",
    "    \n",
    "    _ = plt.subplot(133).set_title(\"Normalized\")\n",
    "    ax = sns.distplot(train_set_x[0,:])\n",
    "    \n",
    "    #one-hot encoding labels\n",
    "    n_values = len(classes)\n",
    "    train_set_y = np.eye(n_values)[train_set_y]\n",
    "    valid_set_y = np.eye(n_values)[valid_set_y]\n",
    "    test_set_y = np.eye(n_values)[test_set_y]\n",
    "    print('one hot encoding '+ u'\\u2713')\n",
    "    \n",
    "    _ = plt.show(ax)\n",
    "\n",
    "    return train_set_x, train_set_y, valid_set_x, valid_set_y, test_set_x, test_set_y, classes"
   ]
  },
  {
   "cell_type": "code",
   "execution_count": 47,
   "metadata": {},
   "outputs": [
    {
     "name": "stdout",
     "output_type": "stream",
     "text": [
      "Load data ✓\n",
      "Image data to Double ✓\n",
      "Standardizing image ✓\n",
      "Normalizing image ✓\n",
      "one hot encoding ✓\n"
     ]
    },
    {
     "data": {
      "image/png": "[encoded data removed]",
      "text/plain": [
       "<Figure size 1080x216 with 3 Axes>"
      ]
     },
     "metadata": {
      "needs_background": "light"
     },
     "output_type": "display_data"
    },
    {
     "name": "stdout",
     "output_type": "stream",
     "text": [
      "Reshaping ✓\n",
      "Mean 0 and Std. 1✓\n"
     ]
    }
   ],
   "source": [
    "#get the data\n",
    "train_set_x, train_set_y, valid_set_x, valid_set_y, test_set_x, test_set_y, classes = \\\n",
    "                                LoadBatch(os.path.join(os.getcwd(), \"..\", 'cifar-10'))\n",
    "\n",
    "#reshaping labels\n",
    "train_x = train_set_x.transpose()\n",
    "valid_x = valid_set_x.transpose()\n",
    "test_x  = test_set_x.transpose()\n",
    "train_y = train_set_y.transpose()\n",
    "valid_y = valid_set_y.transpose()\n",
    "test_y  = test_set_y.transpose()\n",
    "print(\"Reshaping \" +u'\\u2713' )\n",
    "\n",
    "if np.unique(np.round(np.mean(train_set_x, axis = 1).reshape(-1,1)))[0] == 0: \n",
    "    if np.unique(np.round(np.std(train_set_x, axis = 1).reshape(-1,1)))[0] == 1:\n",
    "        print(\"Mean 0 and Std. 1\" +u'\\u2713' )"
   ]
  },
  {
   "cell_type": "markdown",
   "metadata": {},
   "source": [
    "## Sneak peak  into the dataset "
   ]
  },
  {
   "cell_type": "code",
   "execution_count": 48,
   "metadata": {
    "slideshow": {
     "slide_type": "-"
    }
   },
   "outputs": [
    {
     "name": "stdout",
     "output_type": "stream",
     "text": [
      "Number of training examples: 10000\n",
      "Number of valid examples: 10000\n",
      "Number of testing examples: 10000\n",
      "Each image is of size: 3072\n",
      "train_x shape: (3072, 10000)\n",
      "train_y shape: (10, 10000)\n",
      "valid_x shape: (3072, 10000)\n",
      "valid_y shape: (10, 10000)\n",
      "test_x shape: (3072, 10000)\n",
      "test_y shape: (10, 10000)\n",
      "classes shape :(10,)\n"
     ]
    }
   ],
   "source": [
    "num_train = train_x.shape[1]\n",
    "num_valid = valid_x.shape[1]\n",
    "num_test = test_x.shape[1]\n",
    "num_px = train_x.shape[0]\n",
    "\n",
    "\n",
    "print (\"Number of training examples: \" + str(num_train))\n",
    "print (\"Number of valid examples: \" + str(num_valid))\n",
    "print (\"Number of testing examples: \" + str(num_test))\n",
    "print (\"Each image is of size: \"+str(num_px))\n",
    "print (\"train_x shape: \" + str(train_x.shape))\n",
    "print (\"train_y shape: \" + str(train_y.shape))\n",
    "print (\"valid_x shape: \" + str(valid_x.shape))\n",
    "print (\"valid_y shape: \" + str(valid_y.shape))\n",
    "print (\"test_x shape: \" + str(test_x.shape))\n",
    "print (\"test_y shape: \" + str(test_y.shape))\n",
    "print (\"classes shape :\" + str(classes.shape))"
   ]
  },
  {
   "cell_type": "markdown",
   "metadata": {},
   "source": [
    "## Check out some pics\n",
    "<a id='view_images'></a>"
   ]
  },
  {
   "cell_type": "code",
   "execution_count": 49,
   "metadata": {},
   "outputs": [],
   "source": [
    "def show_image(index):\n",
    "    \"\"\"\n",
    "    Displays images from train_set_x i.e the raw set without dimetionality change\n",
    "    \n",
    "    Arguments -- index of the image from 1-10,000\n",
    "    \n",
    "    Returns -- None, Use slider to view all images\n",
    "    \"\"\"\n",
    "    #for train_set_x\n",
    "    sample = train_set_x[index]\n",
    "    sample = sample*255.\n",
    "    R = sample[0:1024].reshape(32,32)    \n",
    "    G = sample[1024:2048].reshape(32,32)    \n",
    "    B = sample[2048:].reshape(32,32)    \n",
    "    img = np.dstack((R,G,B))\n",
    "    img = Img.fromarray(img.astype(\"uint8\"))\n",
    "    plt.imshow(img,interpolation='bicubic')\n",
    "    label = np.where(train_y[:,index]==1)\n",
    "    plt.title(classes[label][0])"
   ]
  },
  {
   "cell_type": "code",
   "execution_count": 50,
   "metadata": {},
   "outputs": [
    {
     "data": {
      "application/vnd.jupyter.widget-view+json": {
       "model_id": "f0c2391eb65a4b39bbcc6d6ce5d8d1d0",
       "version_major": 2,
       "version_minor": 0
      },
      "text/plain": [
       "aW50ZXJhY3RpdmUoY2hpbGRyZW49KEludFNsaWRlcih2YWx1ZT05OTk5LCBkZXNjcmlwdGlvbj11J2luZGV4JywgbWF4PTk5OTkpLCBPdXRwdXQoKSksIF9kb21fY2xhc3Nlcz0odSd3aWRnZXTigKY=\n"
      ]
     },
     "metadata": {},
     "output_type": "display_data"
    }
   ],
   "source": [
    "_ = interact(show_image,index = widgets.IntSlider(min = 0, max = 9999, step = 1, value=9999))"
   ]
  },
  {
   "cell_type": "markdown",
   "metadata": {},
   "source": [
    "#### Exercise 1 - b\n",
    "<a id='Section_2'></a>\n",
    "\n",
    "## Paramater Initialization"
   ]
  },
  {
   "cell_type": "code",
   "execution_count": 99,
   "metadata": {},
   "outputs": [],
   "source": [
    "def initialize_parameters(N, d, layers, m):\n",
    "    \"\"\"\n",
    "    Initialize all the params need for the neural network\n",
    "    \n",
    "    Arguments:\n",
    "    layers -- number of layers for the NN (here 1)\n",
    "    N -- number of images NN is trained on\n",
    "    d -- dimensions of input imagetaken from each sample, \n",
    "         could vary to check the gradients faster\n",
    "    m -- number of neurons in hidden layer\n",
    "    \n",
    "    Returns:\n",
    "    X -- Input to NN\n",
    "    Y -- Ground Truth\n",
    "    parameters -- NN parameters Ws and b(s)\n",
    "    GDparams -- parameters to control the Gradient descent\n",
    "    lambd -- regularization co-eff\n",
    "    \"\"\"\n",
    "    \n",
    "    #Number of possible predictions\n",
    "    K = len(classes)\n",
    "    #Subset of data to be trained on\n",
    "    X = train_x[:,:N]\n",
    "    Y = train_y[:,:N]\n",
    "    #Gausssian parameters for W, b\n",
    "    mu = 0\n",
    "    sigma1 = 1/math.sqrt(d)\n",
    "    sigma2 = 1/math.sqrt(m)\n",
    "    parameters = {}\n",
    "    L = layers           # number of layers in the network\n",
    "\n",
    "    parameters['W1'] = np.random.normal(loc = mu, scale = locals()[\"sigma1\"], size = (m,d)) \n",
    "    parameters['b1'] = np.random.normal(loc = mu, scale = locals()[\"sigma1\"], size = (m,1)) \n",
    "    #parameters['b1'] = np.zeros((m,1))\n",
    "    parameters['W2'] = np.random.normal(loc = mu, scale = locals()[\"sigma2\"], size = (K,m)) \n",
    "    parameters['b2'] = np.random.normal(loc = mu, scale = locals()[\"sigma2\"], size = (K,1)) \n",
    "    #parameters['b2'] = np.zeros((K,1))\n",
    "\n",
    "    #regularization co-eff\n",
    "    lambd = 0\n",
    "    #n_batch=batch_size NOT the number of batches\n",
    "    GDparams = {}\n",
    "    GDparams['n_batch'] = 100\n",
    "    GDparams['eta'] = 0.001\n",
    "    GDparams['n_epochs'] = 200\n",
    "\n",
    "    #Get the shapes right\n",
    "    assert(X.shape == (d, N))\n",
    "    assert(Y.shape == (K, N))\n",
    "    assert(classes.size == 10)\n",
    "    \n",
    "    return X, Y, parameters, GDparams, lambd"
   ]
  },
  {
   "cell_type": "code",
   "execution_count": 100,
   "metadata": {},
   "outputs": [
    {
     "data": {
      "image/png": "[encoded data removed]",
      "text/plain": [
       "<Figure size 1080x144 with 8 Axes>"
      ]
     },
     "metadata": {
      "needs_background": "light"
     },
     "output_type": "display_data"
    }
   ],
   "source": [
    "#Constants\n",
    "N = 11\n",
    "d = num_px\n",
    "K = len(classes)\n",
    "X, Y, parameters, GDparams, lambd = initialize_parameters(N, d, layers = 2, m = 50)\n",
    "_ = plt.rcParams['figure.figsize'] = [15, 2]\n",
    "_ = plt.subplot(141).set_title(\"W\")\n",
    "ax = sns.heatmap(parameters['W1'])\n",
    "_ = plt.subplot(142).set_title(\"b1\")\n",
    "ax = sns.heatmap(parameters['b1'])\n",
    "_ = plt.subplot(143).set_title(\"W2\")\n",
    "ax = sns.heatmap(parameters['W2'])\n",
    "_ = plt.subplot(144).set_title(\"b2\")\n",
    "ax = sns.heatmap(parameters['b2'])"
   ]
  },
  {
   "cell_type": "code",
   "execution_count": 101,
   "metadata": {},
   "outputs": [
    {
     "data": {
      "image/png": "[encoded data removed]",
      "text/plain": [
       "<Figure size 1080x144 with 4 Axes>"
      ]
     },
     "metadata": {
      "needs_background": "light"
     },
     "output_type": "display_data"
    }
   ],
   "source": [
    "_ = plt.rcParams['figure.figsize'] = [15, 2]\n",
    "_ = plt.subplot(141).set_title(\"W\")\n",
    "ax = sns.distplot(parameters['W1'].reshape(-1,1))\n",
    "_ = plt.subplot(142).set_title(\"b1\")\n",
    "ax = sns.distplot(parameters['b1'].reshape(-1,1))\n",
    "_ = plt.subplot(143).set_title(\"W2\")\n",
    "ax = sns.distplot(parameters['W2'].reshape(-1,1))\n",
    "_ = plt.subplot(144).set_title(\"b2\")\n",
    "ax = sns.distplot(parameters['b2'].reshape(-1,1))"
   ]
  },
  {
   "cell_type": "markdown",
   "metadata": {},
   "source": [
    "####    Exercise 2 - a\n",
    "<a id='Section_3'></a>\n",
    "\n",
    "\n",
    "## Forward Propogation"
   ]
  },
  {
   "cell_type": "code",
   "execution_count": 112,
   "metadata": {},
   "outputs": [],
   "source": [
    "def softmax(x):\n",
    "    \"\"\"\n",
    "    Instead of using np.exp(x)/np.sum(np.exp(x))\n",
    "    I decrease the value of x with the max, \n",
    "    it could be any number as it cancels out when equation is expanded\n",
    "    This is to avoid overflow due to exponential increase\n",
    "    \n",
    "    Argumets:\n",
    "    x -- Product W, X\n",
    "    \n",
    "    Returns:\n",
    "    soft -- softmax(W,X)\n",
    "    \"\"\"\n",
    "    e_x = np.exp(x - np.max(x, axis = 0))\n",
    "    soft = e_x / np.sum(e_x, axis = 0)\n",
    "    return soft\n",
    "\n",
    "def ReLU(s):\n",
    "    \"\"\"\n",
    "    ReLU activation function\n",
    "    \n",
    "    Arguments:\n",
    "    s -- Classifier output i.e W*X + b\n",
    "    \n",
    "    Returns:\n",
    "    array replacing negative values with 0\n",
    "    \"\"\"\n",
    "    return np.where(s < 0, 0, s)\n",
    "\n",
    "def EvaluateClassifier(X, parameters):\n",
    "    \"\"\"\n",
    "    s1 = W1x + b1 \n",
    "    h = max(0, s1)\n",
    "    s = W2h + b2\n",
    "    p = SOFTMAX(s) \n",
    "    \n",
    "    Arguments:\n",
    "    X -- Input data\n",
    "    W -- Weights\n",
    "    b -- bias\n",
    "    \n",
    "    Returns:\n",
    "    P -- Probabilities of each class for each sample in X\n",
    "    \"\"\"\n",
    "    s1 = np.dot(parameters[\"W1\"], X) + parameters[\"b1\"]\n",
    "    #possible error\n",
    "    H = ReLU(s1)\n",
    "    s = np.dot(parameters[\"W2\"], H) + parameters[\"b2\"]\n",
    "    P = softmax(s)\n",
    "    \n",
    "    #Dimensional check -- removed as it conflicts with minibatches\n",
    "    #assert(X.shape == (d,N)),X.shape\n",
    "    #assert(P.shape == (K,N))\n",
    "    return H, P"
   ]
  },
  {
   "cell_type": "code",
   "execution_count": 113,
   "metadata": {},
   "outputs": [],
   "source": [
    "H, P = EvaluateClassifier(X,parameters)"
   ]
  },
  {
   "cell_type": "code",
   "execution_count": 114,
   "metadata": {},
   "outputs": [],
   "source": [
    "def visulaize_predictions(P, Y):\n",
    "    \"\"\"\n",
    "    Just an excuse to use the beautiful seaborn :)\n",
    "    \n",
    "    Arguments:\n",
    "    P -- Probabilties to get the predicitons\n",
    "    Y -- Ground truth\n",
    "    \n",
    "    Returns:\n",
    "    None -- Nice plots\n",
    "    \"\"\"\n",
    "    \n",
    "    plt.rcParams['figure.figsize'] = [25, 5]\n",
    "    plt.subplot(141).set_title(\"Prediction\")\n",
    "    predictions = (P == P.max(axis = 0,keepdims = 1)).astype(float)\n",
    "    ax = sns.heatmap(predictions)\n",
    "    plt.subplot(142).set_title(\"Ground Truth\")\n",
    "    ax = sns.heatmap(Y)\n",
    "    plt.subplot(143).set_title(\"Correct Matches\")\n",
    "    matches = (np.multiply(Y,predictions)).astype(float)\n",
    "    ax = sns.heatmap(matches)\n",
    "    plt.subplot(144).set_title(\"Differences\")\n",
    "    matches = Y + predictions\n",
    "    ax = sns.heatmap(matches)\n",
    "    plt.show(ax)"
   ]
  },
  {
   "cell_type": "code",
   "execution_count": 115,
   "metadata": {},
   "outputs": [
    {
     "data": {
      "image/png": "[encoded data removed]",
      "text/plain": [
       "<Figure size 1800x360 with 8 Axes>"
      ]
     },
     "metadata": {
      "needs_background": "light"
     },
     "output_type": "display_data"
    }
   ],
   "source": [
    "visulaize_predictions(P,Y)"
   ]
  },
  {
   "cell_type": "markdown",
   "metadata": {},
   "source": [
    "#### Exercise 2 - b\n",
    "<a id='Section_4'></a>\n",
    "\n",
    "## Computing the cost"
   ]
  },
  {
   "cell_type": "code",
   "execution_count": 106,
   "metadata": {},
   "outputs": [],
   "source": [
    "def ComputeCost_CrossEntropy(P, Y, parameters):\n",
    "    \"\"\"\n",
    "    Loss of current state of prediction w.r.t the ground truth\n",
    "    \n",
    "    Arguments:\n",
    "    P -- Probabilities of each class of each sample in input data\n",
    "    Y -- Ground truth\n",
    "    W -- Weights that produced the probabilities (Can be used in num. GD as well)\n",
    "\n",
    "    Returns:\n",
    "    cost -- sum of crossentropy loss and regularization term\n",
    "    \"\"\"\n",
    "    \n",
    "    P = np.reshape(P, (K, -1))\n",
    "    ground_truth = np.reshape(Y, (K, -1))\n",
    "    product = np.multiply(Y, P).sum(axis = 0)\n",
    "    \n",
    "    #cross entropy loss - Handling -log0 tending to infinity\n",
    "    product[product == 0] = np.finfo(float).eps    #very low value\n",
    "    crossEntropyLoss = np.mean(-np.log(product)) #.sum() / N\n",
    "\n",
    "    \n",
    "    L2_regularization_cost = lambd * (np.power(parameters[\"W1\"], 2).sum()+ \\\n",
    "                                      np.power(parameters[\"W2\"], 2).sum())\n",
    "    \n",
    "    cost = crossEntropyLoss + L2_regularization_cost\n",
    "    return  cost"
   ]
  },
  {
   "cell_type": "code",
   "execution_count": 107,
   "metadata": {},
   "outputs": [
    {
     "name": "stdout",
     "output_type": "stream",
     "text": [
      "2.4570755675192806\n"
     ]
    }
   ],
   "source": [
    "cost = ComputeCost_CrossEntropy(P, Y, parameters)\n",
    "print(cost)"
   ]
  },
  {
   "cell_type": "markdown",
   "metadata": {},
   "source": [
    "#### Exercise 2 - c\n",
    "<a id='Section_5'></a>\n",
    "\n",
    "## Accuracy of the predictions"
   ]
  },
  {
   "cell_type": "code",
   "execution_count": 108,
   "metadata": {},
   "outputs": [],
   "source": [
    "def ComputeAccuracy(P, Y):\n",
    "    \"\"\"\n",
    "    instead of using function acc = ComputeAccuracy(X, y, W, b)\n",
    "    and calculating P again lets use it from the from the prev. output\n",
    "    \n",
    "    Arguments:\n",
    "    P -- Probabilities of each class\n",
    "    Y -- Ground Truth\n",
    "    \n",
    "    Returns:\n",
    "    Accuracy -- Number of matches btw ground truth and predicions from probabilities\n",
    "    \"\"\"\n",
    "    predictions = np.argmax(P,axis=0)\n",
    "    groundtruth = np.argmax(Y,axis=0)\n",
    "    matches = np.sum(predictions == groundtruth)\n",
    "    total = len(predictions)\n",
    "    accuracy = (matches/float(total))\n",
    "    assert(P.shape == Y.shape)\n",
    "    return accuracy"
   ]
  },
  {
   "cell_type": "code",
   "execution_count": 109,
   "metadata": {},
   "outputs": [
    {
     "name": "stdout",
     "output_type": "stream",
     "text": [
      "Accuracy :0.0\n"
     ]
    }
   ],
   "source": [
    "accuracy = ComputeAccuracy(P, Y)\n",
    "print (\"Accuracy :\" +  str(accuracy))"
   ]
  },
  {
   "cell_type": "markdown",
   "metadata": {},
   "source": [
    "#### Exercise 2 - d\n",
    "<a id='Section_6'></a>\n",
    "\n",
    "## Computing the Gradients"
   ]
  },
  {
   "cell_type": "code",
   "execution_count": 143,
   "metadata": {},
   "outputs": [],
   "source": [
    "def ComputeGradients(X, Y, P, H, parameters, lambd):\n",
    "    \"\"\" \n",
    "    G -- dJ/dZ - g for Batch\n",
    "    Z -- WX\n",
    "    grad_W1 -- dJ/dW\n",
    "    grad_b -- dJ/db\n",
    "    grad_L -- dJ/dL Regularization term\n",
    "    grad_W -- dJ/dW + Regularization term\n",
    "\n",
    "    Argumets:\n",
    "    X -- input data\n",
    "    Y -- Ground truth\n",
    "    P -- current probabilities/ Output Layer's output\n",
    "    H -- Activation output/ Hidden Layer's output\n",
    "    W -- Current weights that generated the probabilities\n",
    "    b -- current bias\n",
    "    lambd -- lambda - Regularization term (to differ from the keyword itself)\n",
    "    \n",
    "    Returns:\n",
    "    cache -- gradiants of all parameters    \n",
    "    \"\"\"\n",
    "    \n",
    "    cache = {}\n",
    "    \n",
    "    cache[\"grad_W1\"] = np.zeros_like(parameters[\"W1\"])\n",
    "    cache[\"grad_b1\"] = np.zeros_like(parameters[\"b1\"])\n",
    "    cache[\"grad_W2\"] = np.zeros_like(parameters[\"W2\"])\n",
    "    cache[\"grad_b2\"] = np.zeros_like(parameters[\"b2\"])\n",
    "    \n",
    "    N = X.shape[1]\n",
    "\n",
    "    for i in range(N):\n",
    "        x = X[:,i].reshape(-1,1)\n",
    "        y = Y[:,i].reshape(-1,1)\n",
    "        p = P[:,i].reshape(-1,1)\n",
    "        h = H[:,i].reshape(-1,1)\n",
    "        g = -(y - p)\n",
    "        \n",
    "        cache[\"grad_b2\"] += g\n",
    "        cache[\"grad_W2\"] += np.outer(g,h)    # or simply (g.dot(x.T)\n",
    "        \n",
    "        g = np.dot(parameters[\"W2\"].T, g)\n",
    "        positiveActivation = np.where(h > 0, 1, 0)\n",
    "        g = g * positiveActivation\n",
    "        \n",
    "        cache[\"grad_b1\"] += g\n",
    "        cache[\"grad_W1\"] += np.outer(g,x)    # or simply (g.dot(x.T)\n",
    "        \n",
    "        \n",
    "    cache[\"grad_W2\"] /= N\n",
    "    cache[\"grad_b2\"] /= N\n",
    "    cache[\"grad_W2\"] += 2 * lambd * parameters[\"W2\"]    #Regularization term\n",
    "    \n",
    "    cache[\"grad_W1\"] /= N\n",
    "    cache[\"grad_b1\"] /= N\n",
    "    cache[\"grad_W1\"] += 2 * lambd * parameters[\"W1\"]    #Regularization term\n",
    "    \n",
    "#     assert(cache[\"grad_W1\"].shape == (m, d))\n",
    "#     assert(cache[\"grad_b1\"].shape == (m, 1))\n",
    "#     assert(cache[\"grad_W2\"].shape == (K, m))\n",
    "#     assert(cache[\"grad_b2\"].shape == (K, 1))\n",
    "           \n",
    "    return cache"
   ]
  },
  {
   "cell_type": "code",
   "execution_count": 146,
   "metadata": {},
   "outputs": [
    {
     "name": "stdout",
     "output_type": "stream",
     "text": [
      "[-0.19988038 -0.19485229 -0.18663852 ...  0.21004657  0.2187202\n",
      "  0.2189338 ]\n",
      "[-0.0740329  -0.03669236 -0.0330144  -0.02875346 -0.02771972 -0.02592179\n",
      " -0.02531781 -0.02169511 -0.01966865 -0.01788953 -0.01289307 -0.01236403\n",
      " -0.01193555 -0.01097214 -0.01062599 -0.01041936 -0.01012805 -0.00736989\n",
      " -0.00509552 -0.00176956 -0.00126725 -0.00102594  0.00094917  0.00130475\n",
      "  0.00324545  0.00346723  0.00350439  0.00550118  0.00570213  0.00595465\n",
      "  0.00595885  0.00631761  0.00657258  0.00688101  0.00700461  0.00714524\n",
      "  0.00758226  0.01027148  0.01828278  0.01931015  0.01993639  0.02654557\n",
      "  0.02840434  0.03164326  0.03437122  0.0347312   0.04107325  0.0516899\n",
      "  0.05830492  0.1192841 ]\n"
     ]
    }
   ],
   "source": [
    "cache = ComputeGradients(X, Y, P, H, parameters, lambd)\n",
    "print (np.unique(cache[\"grad_W1\"]))    #just to check if its not null\n",
    "print (np.unique(cache[\"grad_b1\"]))"
   ]
  },
  {
   "cell_type": "markdown",
   "metadata": {},
   "source": [
    "## Gradient Checking"
   ]
  },
  {
   "cell_type": "code",
   "execution_count": null,
   "metadata": {},
   "outputs": [],
   "source": [
    "def compute_grads_num(X, Y, W, b):\n",
    "    \"\"\"\n",
    "    Numerical gradient descent using finite difference method. \n",
    "    \n",
    "    Arguments:\n",
    "    X -- Input dataset/ subset\n",
    "    Y -- Corresponding Ground Truth\n",
    "    W -- Current Weights\n",
    "    b -- current bias\n",
    "    \n",
    "    Returns:\n",
    "    grad_W -- Numerical Gradient of W  \n",
    "    grad_b -- Numerical Gradient of b\n",
    "    \"\"\"\n",
    "    N = X.shape[0]\n",
    "    grad_W = np.zeros(W.shape)\n",
    "    grad_b = np.zeros(b.shape)\n",
    "\n",
    "    h = 1e-8    #very small number by which you want to vary the params\n",
    "    P = EvaluateClassifier(X,W,b)\n",
    "    c = ComputeCost_CrossEntropy(P,Y,W)\n",
    "\n",
    "    for i in tqdm(range(W.shape[0]), desc = \"Wights\"):\n",
    "        for j in range(W.shape[1]):\n",
    "            W[i, j] += h    #change the weights and see if the cost reduces!\n",
    "            P = EvaluateClassifier(X,W,b) #!!!!As ComputeCost_CrossEntropy takes P directly, update it\n",
    "            c2 = ComputeCost_CrossEntropy(P,Y,W);\n",
    "            W[i, j] -= h\n",
    "            grad_W[i, j] = (c2-c) / h; #if cost decreases, value negative,\n",
    "                                       #hence add this grad to W, ViceVersa\n",
    "\n",
    "    for i in tqdm(range(b.shape[0]), desc = \"Bias\"):\n",
    "        b[i] += h;    #change the bias and see if the cost reduces!\n",
    "        P = EvaluateClassifier(X,W,b) #!!!!As ComputeCost_CrossEntropy takes P directly, update it\n",
    "        c2 = ComputeCost_CrossEntropy(P,Y,W);\n",
    "        b[i] -= h;\n",
    "        grad_b[i] = (c2-c) / h;\n",
    "\n",
    "   \n",
    "    return grad_W, grad_b"
   ]
  },
  {
   "cell_type": "code",
   "execution_count": null,
   "metadata": {},
   "outputs": [],
   "source": [
    "grad_W2,grad_b2 = compute_grads_num(X,Y,parameters[\"W1\"],parameters[\"b1\"])\n",
    "print(np.unique(grad_W2))    #Sanity check -- just to know they are not all 0's\n",
    "print(np.unique(grad_b2))"
   ]
  },
  {
   "cell_type": "code",
   "execution_count": null,
   "metadata": {},
   "outputs": [],
   "source": [
    "def gradient_check(gradAnly, gradNum, epsilon):\n",
    "    \"\"\"\n",
    "    Calculating realtive error between analytically and numerically computed gradient\n",
    "    and checking if they are small. (smaller than epsilon)\n",
    "    \n",
    "    Order of the gradients does not matter\n",
    "    \n",
    "    Arguments:\n",
    "    gradAnly -- Analytical gradient\n",
    "    gradNum -- Numerical gradient\n",
    "    epsilon -- very small value by which gradNum and gradAnly could differ\n",
    "    \n",
    "    Returns:\n",
    "    relative_error -- relative error of gradAnly and gradNum\n",
    "    \"\"\"\n",
    "    grad1 = gradAnly\n",
    "    grad2 = gradNum\n",
    "    difference = np.linalg.norm(grad1 - grad2)  #Could simply use np.abs(grad1 - grad2).sum()      \n",
    "    summation = np.linalg.norm(grad1) + np.linalg.norm(grad2)  #varitaion - 2.0988034043225143e-08 only\n",
    "    denominator = max(epsilon, summation)    #to avoid division by 0\n",
    "    relative_error = difference / denominator                                                     \n",
    "    \n",
    "    if relative_error < 1e-6:\n",
    "        print(u'\\u2714  ' + \"The gradient is correct!\")\n",
    "    else:\n",
    "        print(u'\\u2718  ' + \"The gradient is wrong!\")\n",
    "    \n",
    "    return relative_error"
   ]
  },
  {
   "cell_type": "code",
   "execution_count": null,
   "metadata": {},
   "outputs": [],
   "source": [
    "gradient_check(grad_W, grad_W2, 1e-6)   #check grad_W\n",
    "gradient_check(grad_b, grad_b2, 1e-6)   #check grad_b"
   ]
  },
  {
   "cell_type": "code",
   "execution_count": null,
   "metadata": {},
   "outputs": [],
   "source": [
    "def update_params(W, b, grad_W, grad_b, eta):\n",
    "    \"\"\"\n",
    "    Updating Weights and bias with the calculated gradients\n",
    "    \n",
    "    Arguments:\n",
    "    W -- prev. Weights\n",
    "    b -- prev. bias\n",
    "    eta -- learning rate\n",
    "    \n",
    "    Returns:\n",
    "    W -- updated Weights\n",
    "    b -- updated bias\n",
    "    \"\"\"\n",
    "    W = W - eta*grad_W\n",
    "    b = b - eta*grad_b\n",
    "    \n",
    "    return W,b"
   ]
  },
  {
   "cell_type": "code",
   "execution_count": null,
   "metadata": {},
   "outputs": [],
   "source": [
    "W_new, b_new = update_params(parameters[\"W1\"], parameters[\"b1\"], grad_W, grad_b, GDparams['eta'])\n",
    "print(np.unique(W_new)) # should be set to params[\"W1\"] and params[\"b1\"] "
   ]
  },
  {
   "cell_type": "markdown",
   "metadata": {},
   "source": [
    "#### Section 7\n",
    "<a id='Section_7'></a>\n",
    "## Mini Batch Gradient Descent"
   ]
  },
  {
   "cell_type": "code",
   "execution_count": null,
   "metadata": {},
   "outputs": [],
   "source": [
    "def get_mini_batches(X, Y, n_batch): \n",
    "    \"\"\"\n",
    "    Convert the whole dataset into smaller chunks\n",
    "    \n",
    "    Arguments:\n",
    "    X -- Total input data\n",
    "    Y -- Corresponding ground truth\n",
    "    n_batch -- Number of samples in each batch (different from number of batches)\n",
    "    \n",
    "    Returns:\n",
    "    mini_batches -- collection of small datasets each of size atmost n_batch\n",
    "    \"\"\"\n",
    "    \n",
    "    mini_batches = []\n",
    "    X = X.T\n",
    "    Y = Y.T\n",
    "    data = np.hstack((X, Y)) \n",
    "    np.random.shuffle(data) \n",
    "    n_minibatches = data.shape[0] // n_batch \n",
    "    i = 0\n",
    "\n",
    "    for i in range(n_minibatches): #as n_minibatch is floor of data.shape[0]/n_batch\n",
    "        mini_batch = data[i * n_batch:(i + 1)*n_batch, :] \n",
    "        X_mini = mini_batch[:, :-10]\n",
    "        Y_mini = mini_batch[:, 3072:]     #if needed .reshape((mini_batch[0].shape,10))\n",
    "        mini_batches.append((X_mini, Y_mini)) \n",
    "\n",
    "    if data.shape[0] % n_batch != 0: \n",
    "        mini_batch = data[(i + 1)*n_batch:data.shape[0],:]\n",
    "        X_mini = mini_batch[:, :-10] \n",
    "        Y_mini = mini_batch[:, 3072:]     #if needed .reshape((mini_batch[0].shape,10))\n",
    "        mini_batches.append((X_mini, Y_mini)) \n",
    "\n",
    "    import math\n",
    "    assert(len(mini_batches) == math.ceil(float(X.shape[0])/n_batch))\n",
    "    return mini_batches  "
   ]
  },
  {
   "cell_type": "code",
   "execution_count": null,
   "metadata": {},
   "outputs": [],
   "source": [
    "mini_batches = get_mini_batches(X, Y, GDparams['n_batch'])\n",
    "print(\"Number of batches :\", len(mini_batches))"
   ]
  },
  {
   "cell_type": "code",
   "execution_count": null,
   "metadata": {},
   "outputs": [],
   "source": [
    "def MiniBatchGD(X, Y, X_val, Y_val, GDparams, W, b, lambd):\n",
    "    \"\"\"\n",
    "    Perform Minibatch gradient descent shuffling at each iteration\n",
    "    \n",
    "    Argumets:\n",
    "    X -- Total train data\n",
    "    Y -- corresponding Ground truth\n",
    "    X_val -- Total validation data\n",
    "    Y_val -- corresponding Ground truth\n",
    "    GDparams -- batch size, number of epochs, learning rates\n",
    "    W -- initial Weights\n",
    "    b -- initial Bias\n",
    "    \n",
    "    Returns:\n",
    "    W -- trained Weights\n",
    "    b -- trained bias\n",
    "    \"\"\"\n",
    "    \n",
    "    #Set up the canvas to do live plotting of the training info\n",
    "    log = {\"training loss\":[], \"validation loss\":[],\n",
    "           \"training acc\":[],\"validation acc\":[]} #using terms cost and loss interchangably\n",
    "    fig = plt.figure(figsize = (8,3))      #must include %matplotlib notebook\n",
    "    Loss = fig.add_subplot(121)\n",
    "    Accuracy = fig.add_subplot(122)\n",
    " \n",
    "    #plt.ion() #iteractive mode on\n",
    "    plt.subplot(121).set_title(\"Loss\")\n",
    "    plt.xlabel('Epoches', axes = Loss)\n",
    "    plt.ylabel('Loss', axes = Loss)\n",
    "    plt.subplot(122).set_title(\"Accuracy\")\n",
    "    plt.xlabel('Epoches', axes = Accuracy)\n",
    "    plt.ylabel('Accuracy', axes = Accuracy)\n",
    "    fig.show() \n",
    "    fig.canvas.draw()\n",
    "    \n",
    "    step = 0 #to display each step accuracy if needed\n",
    "    for i in tqdm(range((GDparams['n_epochs']))):     #progress bar\n",
    "       \n",
    "        mini_batches = get_mini_batches(X, Y, GDparams['n_batch']) #shuffled every iteration\n",
    "        for batch in mini_batches:\n",
    "            #do transpose again as we did earlier in mini_batch to stack'em up\n",
    "            X_b = batch[0].T\n",
    "            Y_b = batch[1].T           \n",
    "            P = EvaluateClassifier(X_b, W, b)    # Get some predictions of the minibatch\n",
    "            #no need to calculate for each mini batch\n",
    "            #cost = ComputeCost_CrossEntropy(P, Y_b, W)    # Get the cost of these predictions\n",
    "            #acc = ComputeAccuracy(P, Y_b)     # Get accuracy of predictions\n",
    "            grad_W, grad_b = ComputeGradients(X_b, Y_b, P, W, b, lambd)  # Learn the mini batch\n",
    "            W, b = update_params(W, b, grad_W, grad_b, GDparams['eta']) # Tune the weights and bias\n",
    "            #print('Step ' + str(step) + \": Cost:\" + str(cost) + \" Accuracy: \" + str(acc))\n",
    "            step += 1\n",
    "            \n",
    "        #check performance of new W, b on training data    \n",
    "        P_train = EvaluateClassifier(X, W, b) \n",
    "        log[\"training loss\"].append(ComputeCost_CrossEntropy(P_train, Y, W))\n",
    "        log[\"training acc\"].append(ComputeAccuracy(P_train, Y))\n",
    "    \n",
    "        #check performance of new W, b on validation data    \n",
    "        P_val = EvaluateClassifier(X_val, W, b)     \n",
    "        log[\"validation loss\"].append(ComputeCost_CrossEntropy(P_val, Y_val, W))\n",
    "        log[\"validation acc\"].append(ComputeAccuracy(P_val, Y_val))\n",
    "        \n",
    "        #display the log\n",
    "        sns.set() #seaborn for beautiful plots\n",
    "        #Loss.clear() #clear last epoch's plot\n",
    "        #Accuracy.clear() \n",
    "        Loss.plot(log[\"training loss\"], 'c', label = \"training\")\n",
    "        Loss.plot(log[\"validation loss\"], 'm', label = \"validation\")\n",
    "        Accuracy.plot(log[\"training acc\"], 'c', label = \"training\")\n",
    "        Accuracy.plot(log[\"validation acc\"], 'm', label = \"validation\")\n",
    "        if(i == 0): #cant get it to work anyother way\n",
    "            Loss.legend()\n",
    "            Accuracy.legend()\n",
    "        fig.canvas.draw()   # draw\n",
    "        \n",
    "    return W, b"
   ]
  },
  {
   "cell_type": "markdown",
   "metadata": {},
   "source": [
    "## Testing Mini-Batch results"
   ]
  },
  {
   "cell_type": "code",
   "execution_count": null,
   "metadata": {
    "scrolled": true
   },
   "outputs": [],
   "source": [
    "trained_W, trained_b = MiniBatchGD(X, Y, valid_x, valid_y, GDparams, parameters[\"W1\"], parameters[\"b1\"], lambd)\n",
    "P_test = EvaluateClassifier(test_x, trained_W, trained_b) \n",
    "print(\"Loss on the test dataset :\", ComputeCost_CrossEntropy(P_test, test_y, trained_W))\n",
    "print(\"Accuracy on the test datset :\", ComputeAccuracy(P_test, test_y))"
   ]
  },
  {
   "cell_type": "markdown",
   "metadata": {},
   "source": [
    "## Visualizing Weights\n",
    "<a id='trained_weights'></a>\n"
   ]
  },
  {
   "cell_type": "code",
   "execution_count": null,
   "metadata": {},
   "outputs": [],
   "source": [
    "def visualise_weights(W):\n",
    "    for i in range(W.shape[0]):\n",
    "        plt.subplot(2, 5, i+1)\n",
    "        plt.axis(\"off\")\n",
    "        plt.title(classes[i])\n",
    "        plt.imshow(misc.toimage(W[i].reshape((3, 32, 32)).transpose(1,2,0)), interpolation = 'gaussian')"
   ]
  },
  {
   "cell_type": "code",
   "execution_count": null,
   "metadata": {
    "scrolled": true
   },
   "outputs": [],
   "source": [
    "visualise_weights(trained_W)"
   ]
  },
  {
   "cell_type": "markdown",
   "metadata": {},
   "source": [
    " ## Training Runs\n",
    " <a id='Training_Runs'></a>\n",
    "\n",
    " ### Setting 1"
   ]
  },
  {
   "cell_type": "code",
   "execution_count": null,
   "metadata": {},
   "outputs": [],
   "source": [
    "#Constants\n",
    "N = 10000\n",
    "d = num_px\n",
    "K = len(classes)\n",
    "X, Y, parameters, GDparams, lambd = initialize_parameters(N, d, layers = 1)\n",
    "#Overriding the GDparams\n",
    "GDparams = {}\n",
    "GDparams['n_batch'] = 100\n",
    "GDparams['eta'] = 0.1\n",
    "GDparams['n_epochs'] = 40\n",
    "lambd = 0\n",
    "trained_W, trained_b = MiniBatchGD(X, Y, valid_x, valid_y, GDparams, parameters[\"W1\"], parameters[\"b1\"], lambd)"
   ]
  },
  {
   "cell_type": "code",
   "execution_count": null,
   "metadata": {},
   "outputs": [],
   "source": [
    "P_test = EvaluateClassifier(test_x, trained_W, trained_b) \n",
    "print(\"Loss on the test dataset :\",ComputeCost_CrossEntropy(P_test, test_y, trained_W))\n",
    "print(\"Accuracy on the test datset :\",ComputeAccuracy(P_test, test_y))\n",
    "visualise_weights(trained_W)"
   ]
  },
  {
   "cell_type": "markdown",
   "metadata": {},
   "source": [
    "### Setting 2 - Best"
   ]
  },
  {
   "cell_type": "code",
   "execution_count": null,
   "metadata": {
    "scrolled": true
   },
   "outputs": [],
   "source": [
    "#Constants\n",
    "N = 10000\n",
    "d = num_px\n",
    "K = len(classes)\n",
    "X, Y, parameters, GDparams, lambd = initialize_parameters(N, d, layers = 1)\n",
    "#Overriding the GDparams\n",
    "GDparams = {}\n",
    "GDparams['n_batch'] = 100\n",
    "GDparams['eta'] = 0.01\n",
    "GDparams['n_epochs'] = 40\n",
    "lambd = 0\n",
    "trained_W, trained_b = MiniBatchGD(X, Y, valid_x, valid_y, GDparams, parameters[\"W1\"], parameters[\"b1\"], lambd)"
   ]
  },
  {
   "cell_type": "code",
   "execution_count": null,
   "metadata": {},
   "outputs": [],
   "source": [
    "P_test = EvaluateClassifier(test_x, trained_W, trained_b) \n",
    "print(\"Loss on the test dataset :\",ComputeCost_CrossEntropy(P_test, test_y, trained_W))\n",
    "print(\"Accuracy on the test datset :\",ComputeAccuracy(P_test, test_y))\n",
    "visualise_weights(trained_W)"
   ]
  },
  {
   "cell_type": "markdown",
   "metadata": {},
   "source": [
    "### To visualize False Positives and True Negatives of the best run\n",
    "<a id='bestPredictions'></a>"
   ]
  },
  {
   "cell_type": "code",
   "execution_count": null,
   "metadata": {},
   "outputs": [],
   "source": [
    "visulaize_predictions(P_test,test_y)"
   ]
  },
  {
   "cell_type": "markdown",
   "metadata": {},
   "source": [
    "### Setting 3"
   ]
  },
  {
   "cell_type": "code",
   "execution_count": null,
   "metadata": {
    "scrolled": true
   },
   "outputs": [],
   "source": [
    "#Constants\n",
    "N = 10000\n",
    "d = num_px\n",
    "K = len(classes)\n",
    "X, Y, parameters, GDparams, lambd = initialize_parameters(N, d, layers = 1)\n",
    "#Overriding the GDparams\n",
    "GDparams = {}\n",
    "GDparams['n_batch'] = 100\n",
    "GDparams['eta'] = 0.01\n",
    "GDparams['n_epochs'] = 40\n",
    "lambd = 0.1\n",
    "trained_W, trained_b = MiniBatchGD(X, Y, valid_x, valid_y, GDparams, parameters[\"W1\"], parameters[\"b1\"], lambd)"
   ]
  },
  {
   "cell_type": "code",
   "execution_count": null,
   "metadata": {},
   "outputs": [],
   "source": [
    "P_test = EvaluateClassifier(test_x, trained_W, trained_b) \n",
    "print(\"Loss on the test dataset :\",ComputeCost_CrossEntropy(P_test, test_y, trained_W))\n",
    "print(\"Accuracy on the test datset :\",ComputeAccuracy(P_test, test_y))\n",
    "visualise_weights(trained_W)"
   ]
  },
  {
   "cell_type": "markdown",
   "metadata": {},
   "source": [
    "### Setting 4"
   ]
  },
  {
   "cell_type": "code",
   "execution_count": null,
   "metadata": {
    "scrolled": true
   },
   "outputs": [],
   "source": [
    "#Constants\n",
    "N = 10000\n",
    "d = num_px\n",
    "K = len(classes)\n",
    "X, Y, parameters, GDparams, lambd = initialize_parameters(N, d, layers = 1)\n",
    "#Overriding the GDparams\n",
    "GDparams = {}\n",
    "GDparams['n_batch'] = 100\n",
    "GDparams['eta'] = 0.01\n",
    "GDparams['n_epochs'] = 40\n",
    "lambd = 1\n",
    "trained_W, trained_b = MiniBatchGD(X, Y, valid_x, valid_y, GDparams, parameters[\"W1\"], parameters[\"b1\"], lambd)"
   ]
  },
  {
   "cell_type": "code",
   "execution_count": null,
   "metadata": {
    "scrolled": true
   },
   "outputs": [],
   "source": [
    "P_test = EvaluateClassifier(test_x, trained_W, trained_b) \n",
    "print(\"Loss on the test dataset :\",ComputeCost_CrossEntropy(P_test, test_y, trained_W))\n",
    "print(\"Accuracy on the test datset :\",ComputeAccuracy(P_test, test_y))\n",
    "visualise_weights(trained_W)"
   ]
  },
  {
   "cell_type": "markdown",
   "metadata": {},
   "source": [
    "### Comments on Hyper-parameter tuning \n",
    "<a id='comments'></a>"
   ]
  },
  {
   "cell_type": "markdown",
   "metadata": {},
   "source": [
    "#### From the 4 training runs, the following traits are observed\n",
    "\n",
    "#### Ranking on test data\n",
    "1. 37% lambda=0, n epochs=40, n batch=100, eta=.01\n",
    "2. 34% lambda=.1, n epochs=40, n batch=100, eta=.01\n",
    "3. 25% lambda=0, n epochs=40, n batch=100, eta=.1\n",
    "4. 19% lambda=1, n epochs=40, n batch=100, eta=.01\n",
    "<!-- -->\n",
    "\n",
    "#### Insignts\n",
    "<!-- -->\n",
    "\n",
    "##### Learning Rate\n",
    "1. The lower the learning rate, the better/smooth the training\n",
    "2. As we can see the loss curve has too many ups and downs, risk of overshooting\n",
    "<!-- -->\n",
    "\n",
    "##### Regularization\n",
    "1. When your model is very shallow its better not to do much regularization\n",
    "2. As higher value of lamdba directly increases cost, there are many fluctuations and\n",
    "    can observe it is not able find right weights to decrease the loss"
   ]
  }
 ],
 "metadata": {
  "kernelspec": {
   "display_name": "Python 3",
   "language": "python",
   "name": "python3"
  },
  "language_info": {
   "codemirror_mode": {
    "name": "ipython",
    "version": 2
   },
   "file_extension": ".py",
   "mimetype": "text/x-python",
   "name": "python",
   "nbconvert_exporter": "python",
   "pygments_lexer": "ipython2",
   "version": "2.7.12"
  }
 },
 "nbformat": 4,
 "nbformat_minor": 2
}
